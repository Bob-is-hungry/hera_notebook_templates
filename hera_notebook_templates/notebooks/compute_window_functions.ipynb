{
 "cells": [
  {
   "cell_type": "markdown",
   "id": "42f4183e",
   "metadata": {},
   "source": [
    "# Estimate Pspec Window Function for All Baselines\n",
    "\n",
    "**by Kai-Feng Chen and Steven Murray**, last updated March 19, 2025"
   ]
  },
  {
   "cell_type": "code",
   "execution_count": null,
   "id": "722e9b26",
   "metadata": {},
   "outputs": [],
   "source": [
    "import time\n",
    "tstart = time.time()"
   ]
  },
  {
   "cell_type": "code",
   "execution_count": null,
   "id": "ae9402f3",
   "metadata": {},
   "outputs": [],
   "source": [
    "import os\n",
    "os.environ['HDF5_USE_FILE_LOCKING'] = 'FALSE'\n",
    "import hdf5plugin  # REQUIRED to have the compression plugins available\n",
    "import numpy as np\n",
    "import matplotlib.pyplot as plt\n",
    "import hera_pspec as hp\n",
    "from IPython.display import HTML\n",
    "from pathlib import Path\n",
    "from hera_notebook_templates.utils import parse_band_str\n",
    "import pickle\n",
    "\n",
    "%matplotlib inline"
   ]
  },
  {
   "cell_type": "markdown",
   "id": "a3fe5d7d",
   "metadata": {},
   "source": [
    "## Parse settings"
   ]
  },
  {
   "cell_type": "code",
   "execution_count": null,
   "id": "01ae0869",
   "metadata": {},
   "outputs": [],
   "source": [
    "# Band settings\n",
    "SINGLE_BL_PSPEC_FILE: str = \"/lustre/aoc/projects/hera/h6c-analysis/IDR2/lstbin-outputs/redavg-smoothcal-inpaint-500ns-lstcal/inpaint/single_baseline_files/zen.LST.baseline.0_1.sum.tavg.pspec.h5\"\n",
    "BEAM_FILE: str = \"/lustre/aoc/projects/hera/H4C/beams/NF_HERA_Vivaldi_efield_beam_healpix_pstokes.fits\"\n",
    "\n",
    "# Output Files\n",
    "RESULTS_FOLDER: str = \".\"\n",
    "\n",
    "WINDOW_FUNCTION_ALGO: str = \"old-style\"  # or \"adelie\" or \"with-inpainting\""
   ]
  },
  {
   "cell_type": "code",
   "execution_count": null,
   "id": "10396305",
   "metadata": {},
   "outputs": [],
   "source": [
    "if RESULTS_FOLDER is None:\n",
    "    RESULTS_FOLDER = SINGLE_BL_PSPEC_FILE.parent"
   ]
  },
  {
   "cell_type": "code",
   "execution_count": null,
   "id": "1387872b",
   "metadata": {},
   "outputs": [],
   "source": [
    "SINGLE_BL_PSPEC_FILE = Path(SINGLE_BL_PSPEC_FILE)\n",
    "\n",
    "if RESULTS_FOLDER is None:\n",
    "    RESULTS_FOLDER = SINGLE_BL_PSPEC_FILE.parent\n",
    "else:\n",
    "    RESULTS_FOLDER = Path(RESULTS_FOLDER)"
   ]
  },
  {
   "cell_type": "code",
   "execution_count": null,
   "id": "ff389f43",
   "metadata": {},
   "outputs": [],
   "source": [
    "psc = hp.container.PSpecContainer(SINGLE_BL_PSPEC_FILE, mode='r', keep_open=False)\n",
    "uvp = psc.get_pspec('stokespol', 'time_and_interleave_averaged')"
   ]
  },
  {
   "cell_type": "markdown",
   "id": "e2084be5",
   "metadata": {},
   "source": [
    "## Construct a Beam Object"
   ]
  },
  {
   "cell_type": "code",
   "execution_count": null,
   "id": "e1a2a1f3",
   "metadata": {},
   "outputs": [],
   "source": [
    "beam_hera = hp.PSpecBeamUV(BEAM_FILE)\n",
    "pre_calc_beam = []\n",
    "for spw in uvp.spw_array:\n",
    "    beam_tuple = beam_hera.beam_normalized_response(pol='pI', freq=uvp.freq_array[uvp.spw_freq_array == spw])\n",
    "    pre_calc_beam.append(beam_tuple)"
   ]
  },
  {
   "cell_type": "markdown",
   "id": "50e86961",
   "metadata": {},
   "source": [
    "## Old-style analysis"
   ]
  },
  {
   "cell_type": "code",
   "execution_count": null,
   "id": "be1b267e-ca3f-455e-9327-c00afe033bb4",
   "metadata": {},
   "outputs": [],
   "source": [
    "from scipy import special, integrate\n",
    "import uvtools.dspec as dspec\n",
    "from hera_pspec import uvwindow, conversions\n",
    "from astropy import constants\n",
    "import copy\n",
    "\n",
    "class SimplePspec:\n",
    "    def __init__(self, vis1, vis2, nsample1, nsample2, \n",
    "                 freqs, beamfunc, beamtype=\"healpix\",\n",
    "                 cosmo=None, little_h=True,\n",
    "                 vis_unit='mK', taper='blackman-harris'):\n",
    "        self.spw_Nfreqs = freqs.size\n",
    "        self.spw_Ndlys  = freqs.size\n",
    "        self.x1 = copy.deepcopy(vis1)\n",
    "        self.x2 = copy.deepcopy(vis2)\n",
    "        self.w1 = nsample1\n",
    "        self.w2 = nsample2\n",
    "        self.freqs = freqs  \n",
    "        df = np.median(np.diff(self.freqs))\n",
    "        self.delays = np.fft.fftshift(np.fft.fftfreq(self.spw_Ndlys, d=df)) #in sec\n",
    "        \n",
    "        self.taper = taper\n",
    "        if self.taper == 'none':\n",
    "            self.taper_func = np.ones(self.spw_Nfreqs)\n",
    "        else:\n",
    "            self.taper_func = dspec.gen_window(self.taper, self.spw_Nfreqs)\n",
    "            \n",
    "        if beamtype == \"healpix\":\n",
    "            raise NotImplementedError\n",
    "            \n",
    "        elif beamtype == \"pspec_beam\":\n",
    "            if type(beamfunc) == hp.pspecbeam.PSpecBeamUV:\n",
    "                _beam, beam_omega, N = \\\n",
    "                beamfunc.beam_normalized_response(pol='pI', freq=self.freqs)\n",
    "            elif type(beamfunc) == tuple:\n",
    "                assert len(beamfunc) == 3, \"Invalid beam function\"\n",
    "                _beam, beam_omega, N = beamfunc\n",
    "            else:\n",
    "                raise ValueError(\"Invalid beam function\")\n",
    "            \n",
    "            self.omega_p = beam_omega.real\n",
    "            self.omega_pp = np.sum(_beam**2, axis=-1).real*np.pi/(3.*N*N)\n",
    "            _beam = _beam/self.omega_p[:, None]\n",
    "            \n",
    "            self.qnorm_exact = np.pi/(3.*N*N) * np.dot(_beam, _beam.T)\n",
    "            self.qnorm_exact *= np.median(np.diff(self.delays))\n",
    "            \n",
    "        elif beamtype == \"azimuthal\":\n",
    "            _th = np.linspace(0, np.pi/2, 500) #Only above the ground\n",
    "            _beam = beamfunc(_th, self.freqs)\n",
    "            self.omega_p = 2*np.pi*integrate.simpson(_beam*np.sin(_th), x=_th, axis=-1)\n",
    "            self.omega_pp = 2*np.pi*integrate.simpson(_beam**2*np.sin(_th), x=_th, axis=-1)\n",
    "\n",
    "            _beam = _beam/self.omega_p[:, None]\n",
    "            self.qnorm_exact = 2*np.pi*integrate.simpson(_beam[:, None, :]*_beam[None, :, :]*np.sin(_th), x=_th, axis=-1)\n",
    "            self.qnorm_exact *= np.median(np.diff(self.delays))\n",
    "        \n",
    "        else:\n",
    "            raise NotImplementedError\n",
    "\n",
    "        if cosmo is not None:\n",
    "            self.cosmo = cosmo\n",
    "        else:\n",
    "            self.cosmo = conversions.Cosmo_Conversions()\n",
    "        df = np.median(np.diff(self.freqs))\n",
    "        integration_freqs = np.linspace(self.freqs.min(),\n",
    "                                        self.freqs.min() + df*self.spw_Nfreqs,\n",
    "                                        5000, endpoint=True, dtype=float)\n",
    "        integration_freqs_MHz = integration_freqs / 1e6\n",
    "\n",
    "        # Get redshifts and cosmological functions\n",
    "        redshifts = self.cosmo.f2z(integration_freqs).flatten()\n",
    "        X2Y = np.array([self.cosmo.X2Y(z, little_h=little_h) for z in redshifts])\n",
    "        self.scalar = integrate.trapezoid(X2Y, x=integration_freqs)/(np.abs(integration_freqs[-1]-integration_freqs[0]))\n",
    "        \n",
    "        if vis_unit == 'Jy':\n",
    "            c =  constants.c.cgs.value\n",
    "            k_b =  constants.k_B.cgs.value\n",
    "            self.Jy2mK = 1e3 * 1e-23 * c**2 / (2 * k_b * self.freqs**2 * self.omega_p)\n",
    "            self.x1 *= self.Jy2mK\n",
    "            self.x2 *= self.Jy2mK\n",
    "        \n",
    "    def get_R(self):\n",
    "        return np.diag(self.taper_func)\n",
    "        \n",
    "    def get_Q_alt(self, mode):\n",
    "        if self.spw_Ndlys % 2 == 0:\n",
    "            start_idx = -self.spw_Ndlys/2\n",
    "        else:\n",
    "            start_idx = -(self.spw_Ndlys - 1)/2\n",
    "        m = (start_idx + mode) * np.arange(self.spw_Nfreqs)\n",
    "        m = np.exp(-2j * np.pi * m / self.spw_Ndlys)\n",
    "\n",
    "        Q_alt = np.einsum('i,j', m.conj(), m) # dot it with its conjugate\n",
    "        return Q_alt \n",
    "        \n",
    "    def get_GH(self, operator=None):\n",
    "        G = np.zeros((self.spw_Ndlys, self.spw_Ndlys), dtype=complex)\n",
    "        H = np.zeros((self.spw_Ndlys, self.spw_Ndlys), dtype=complex)\n",
    "        R = self.get_R()\n",
    "        \n",
    "        sinc_matrix = np.zeros((self.spw_Nfreqs, self.spw_Nfreqs))\n",
    "        for i in range(self.spw_Nfreqs):\n",
    "            for j in range(self.spw_Nfreqs):\n",
    "                sinc_matrix[i,j] = float(i - j)\n",
    "        sinc_matrix = np.sinc(sinc_matrix / float(self.spw_Nfreqs))\n",
    "        \n",
    "        iR1Q1, iR2Q2, iR1Q1_win, iR2Q2_win = {}, {}, {}, {}\n",
    "        for ch in range(self.spw_Ndlys):\n",
    "            Q_alt = self.get_Q_alt(ch)\n",
    "            if operator is not None:\n",
    "                iR1Q1[ch] = np.conj(operator).T@np.conj(R).T@(Q_alt) # O R_1 Q_alt\n",
    "                iR2Q2[ch] = R@operator@(Q_alt* self.qnorm_exact) # R_2 OQ_true\n",
    "                iR1Q1_win[ch] = iR1Q1[ch] #np.conj(operator).T@np.conj(R).T@(Q_alt) # O R_1 Q_alt\n",
    "                iR2Q2_win[ch] = R@operator@(Q_alt* self.qnorm_exact * sinc_matrix) # R_2 O Q_true\n",
    "            else:\n",
    "                iR1Q1[ch] = np.conj(R).T@(Q_alt) # R_1 Q_alt\n",
    "                iR2Q2[ch] = R@(Q_alt * self.qnorm_exact) # R_2 Q_true                \n",
    "                iR1Q1_win[ch] = iR1Q1[ch] # R_1 Q_alt\n",
    "                iR2Q2_win[ch] = R@(Q_alt* self.qnorm_exact * sinc_matrix) # R_2 Q_true\n",
    "            \n",
    "        for i in range(self.spw_Ndlys):\n",
    "            for j in range(self.spw_Ndlys):\n",
    "                # tr(R_2 Q_i R_1 Q_j)\n",
    "                G[i,j] = np.einsum('ab,ba', iR1Q1[i], iR2Q2[j])  \n",
    "                H[i,j] = np.einsum('ab,ba', iR1Q1_win[i], iR2Q2_win[j])\n",
    "        if np.count_nonzero(G) == 0:\n",
    "            G = np.eye(self.spw_Ndlys)\n",
    "        if np.count_nonzero(H) == 0:\n",
    "            H = np.eye(self.spw_Ndlys)            \n",
    "        self.G = G/2.\n",
    "        self.H = H/2.\n",
    "        return G/2., H/2. \n",
    "\n",
    "    def get_MW(self, GH=None, operator=None):\n",
    "        if GH is None:\n",
    "            if hasattr(self, 'G'):\n",
    "                G, H = self.G, self.H\n",
    "            else:\n",
    "                G, H = self.get_GH(operator)\n",
    "        else:\n",
    "            G, H = GH\n",
    "        M = np.diag(1. / np.sum(G, axis=1)) \n",
    "        W_norm = np.diag(1. / np.sum(H, axis=1))\n",
    "        W = np.dot(W_norm, H)\n",
    "        return M, W\n",
    "    "
   ]
  },
  {
   "cell_type": "code",
   "execution_count": null,
   "id": "a1c92a77",
   "metadata": {},
   "outputs": [],
   "source": [
    "def get_window_functions_old_style():\n",
    "    # load power spectra\n",
    "    uvp.get_window_function\n",
    "    window_function_array = {}\n",
    "    for spw in uvp.spw_array:\n",
    "        freqs = uvp.freq_array[uvp.spw_freq_array == spw]\n",
    "        ps_obj = SimplePspec(\n",
    "            vis1=np.zeros(freqs.size), \n",
    "            vis2=np.zeros(freqs.size), \n",
    "            nsample1=None, \n",
    "            nsample2=None, \n",
    "            freqs=freqs,\n",
    "            beamfunc=pre_calc_beam[spw], beamtype=\"pspec_beam\",\n",
    "            cosmo=None, little_h=True,\n",
    "            vis_unit='Jy', taper='blackman-harris'\n",
    "        ) \n",
    "        assert np.all(np.isclose(uvp.get_dlys(spw), ps_obj.delays))\n",
    "        _M, _W = ps_obj.get_MW()\n",
    "        window_function_array[spw] = _W.real[None, :, :, None]\n",
    "    return window_function_array\n"
   ]
  },
  {
   "cell_type": "code",
   "execution_count": null,
   "id": "eeeb170b-1baf-48ff-919e-6e9b144ab871",
   "metadata": {},
   "outputs": [],
   "source": [
    "%%time\n",
    "if WINDOW_FUNCTION_ALGO == \"old-style\":\n",
    "    window_function_array = get_window_functions_old_style()"
   ]
  },
  {
   "cell_type": "code",
   "execution_count": null,
   "id": "c989c21d-44a1-4511-ad1f-de8213bab96d",
   "metadata": {},
   "outputs": [],
   "source": [
    "with open(RESULTS_FOLDER / SINGLE_BL_PSPEC_FILE.with_suffix(\".window.pkl\").name, 'wb') as fl:\n",
    "    pickle.dump(window_function_array, fl)"
   ]
  },
  {
   "cell_type": "code",
   "execution_count": null,
   "id": "26ccee71",
   "metadata": {},
   "outputs": [],
   "source": [
    "for spw in uvp.spw_array:\n",
    "    _win = window_function_array[spw]\n",
    "    _dly = uvp.get_dlys(spw)\n",
    "    for i in range(_dly.size):\n",
    "        if i%3 == 0:\n",
    "            plt.plot(_dly*1e9, _win[0, i, :, 0], ls='-', zorder=20)\n",
    "    plt.xlim(0, 3500)\n",
    "    plt.ylim(0, 0.5)\n",
    "    plt.xlabel(\"Delays [ns]\", fontsize=24)\n",
    "    plt.ylabel(\"Window Functions\", fontsize=24)\n",
    "    plt.show()"
   ]
  },
  {
   "cell_type": "code",
   "execution_count": null,
   "id": "a6a9bfe4",
   "metadata": {},
   "outputs": [],
   "source": []
  }
 ],
 "metadata": {
  "kernelspec": {
   "display_name": ".venv",
   "language": "python",
   "name": "python3"
  },
  "language_info": {
   "codemirror_mode": {
    "name": "ipython",
    "version": 3
   },
   "file_extension": ".py",
   "mimetype": "text/x-python",
   "name": "python",
   "nbconvert_exporter": "python",
   "pygments_lexer": "ipython3",
   "version": "3.11.10"
  }
 },
 "nbformat": 4,
 "nbformat_minor": 5
}
