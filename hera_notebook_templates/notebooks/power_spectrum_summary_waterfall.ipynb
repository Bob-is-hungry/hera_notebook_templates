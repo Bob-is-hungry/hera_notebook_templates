{
 "cells": [
  {
   "cell_type": "markdown",
   "id": "0883faa6-98cc-486f-9ab3-3fa9dbc87666",
   "metadata": {
    "editable": true,
    "slideshow": {
     "slide_type": ""
    },
    "tags": []
   },
   "source": [
    "# Power Spectrum Summary Waterfalls\n",
    "\n",
    "**by Josh Dillon and Steven Murray**, last updated March 25, 2025\n",
    "\n",
    "The purpose of this notebook is to pull together results from power spectra from single, redundantly-averaged baselines (typically cross-power spectra from interleaved sets of times) as produced by the [Single Baseline Filtering and Power Spectrum Estimation\n",
    "notebook](https://github.com/HERA-Team/hera_notebook_templates/blob/master/notebooks/single_baseline_postprocessing_and_pspec.ipynb). \n",
    "In this notebook, we consider and display only the non-time-averaged power spectra\n",
    "produced by that notebook, useful for making broad decisions about which LSTs to keep in the analysis, etc.\n",
    "\n",
    "The reason that we don't just do the time-averaging within this notebook and then also look at the time-averaged power spectra is because some of the bias corrections applied to the power spectra are interleave-dependent, and in this notebook we read interleave-averaged power spectra.\n",
    "\n",
    "### [• Figure 1: P(k) Averaged Over Baseline vs. LST](#Figure-1:-P(k)-Averaged-Over-Baseline-vs.-LST)\n"
   ]
  },
  {
   "cell_type": "markdown",
   "id": "77ba194f-2e2b-4520-bf62-cb63ddd93807",
   "metadata": {},
   "source": [
    "## Imports and Parameters"
   ]
  },
  {
   "cell_type": "code",
   "execution_count": null,
   "id": "a44e5b26-a0f2-4cd4-bc61-802f83ac457f",
   "metadata": {
    "editable": true,
    "slideshow": {
     "slide_type": ""
    },
    "tags": []
   },
   "outputs": [],
   "source": [
    "import time\n",
    "tstart = time.time()"
   ]
  },
  {
   "cell_type": "code",
   "execution_count": null,
   "id": "29051700-db27-4b1f-901d-1694dfc20bbb",
   "metadata": {
    "editable": true,
    "slideshow": {
     "slide_type": ""
    },
    "tags": []
   },
   "outputs": [],
   "source": [
    "import os\n",
    "os.environ['HDF5_USE_FILE_LOCKING'] = 'FALSE'\n",
    "import h5py\n",
    "import hdf5plugin  # REQUIRED to have the compression plugins available\n",
    "import numpy as np\n",
    "import glob\n",
    "import copy\n",
    "import pandas as pd\n",
    "import pickle\n",
    "from hera_cal import io, utils\n",
    "import hera_pspec as hp\n",
    "import matplotlib.pyplot as plt\n",
    "import matplotlib\n",
    "from pathlib import Path\n",
    "from scipy import constants\n",
    "from scipy.signal import windows\n",
    "from IPython.core.display import display, HTML\n",
    "%matplotlib inline"
   ]
  },
  {
   "cell_type": "code",
   "execution_count": null,
   "id": "bf5a98de-2d26-4281-95bf-344e6a598434",
   "metadata": {
    "editable": true,
    "slideshow": {
     "slide_type": ""
    },
    "tags": []
   },
   "outputs": [],
   "source": [
    "# Data settings\n",
    "PSPEC_FILE: str = '/lustre/aoc/projects/hera/h6c-analysis/IDR2/lstbin-outputs/redavg-smoothcal-inpaint-500ns-lstcal/inpaint/single_baseline_files/baselines_merged.pspec.h5'\n",
    "FRF_SIGNAL_LOSS_FILE: str = None\n",
    "\n",
    "# Output Files\n",
    "CASENAME: str = \"all_baselines_interleaved_IDR2.3_500ns_14band\"\n",
    "\n",
    "WEDGE_BUFFER_NS: float = 500\n",
    "\n",
    "# Analysis Options\n",
    "MAX_FRF_SIGNAL_LOSS: float = 0.1"
   ]
  },
  {
   "cell_type": "code",
   "execution_count": null,
   "id": "0952425d-131c-4e0c-a496-d735d53fc602",
   "metadata": {
    "editable": true,
    "slideshow": {
     "slide_type": ""
    },
    "tags": []
   },
   "outputs": [],
   "source": [
    "# Some simple formatting of the inputs\n",
    "PSPEC_FILE = Path(PSPEC_FILE)\n",
    "\n",
    "if FRF_SIGNAL_LOSS_FILE is None:\n",
    "    FRF_SIGNAL_LOSS_FILE = PSPEC_FILE.parent / PSPEC_FILE.name.replace(\".pspec.h5\", \".frf_losses.pkl\")\n",
    "else:\n",
    "    FRF_SIGNAL_LOSS_FILE = Path(FRF_SIGNAL_LOSS_FILE)\n"
   ]
  },
  {
   "cell_type": "markdown",
   "id": "70906d6a-bc47-4265-b8b9-39bc6aaaecca",
   "metadata": {
    "editable": true,
    "slideshow": {
     "slide_type": ""
    },
    "tags": []
   },
   "source": [
    "## Load Power Spectra\n",
    "\n"
   ]
  },
  {
   "cell_type": "code",
   "execution_count": null,
   "id": "55687e24",
   "metadata": {},
   "outputs": [],
   "source": [
    "# This takes a bit longer to load.\n",
    "psc = hp.PSpecContainer(PSPEC_FILE, mode='r', keep_open=False)\n",
    "uvp = psc.get_pspec('stokespol', 'interleave_averaged')\n",
    "    \n",
    "with open(FRF_SIGNAL_LOSS_FILE, 'rb') as f:\n",
    "    frf_losses = pickle.load(f)"
   ]
  },
  {
   "cell_type": "code",
   "execution_count": null,
   "id": "75c1365f-3a6d-41a2-bfa6-9450db9b42e5",
   "metadata": {},
   "outputs": [],
   "source": [
    "# select pI and pQ (ignore pU and pV, which are experimental)\n",
    "uvp.select(polpairs=[('pI', 'pI'), ('pQ', 'pQ')])"
   ]
  },
  {
   "cell_type": "code",
   "execution_count": null,
   "id": "82e4292d-8050-4e3d-88d3-30d120852c10",
   "metadata": {},
   "outputs": [],
   "source": [
    "# dict to map baseline pairs to baseline vectors\n",
    "blp_to_blvec_dict = dict(zip(uvp.get_blpairs(), uvp.get_blpair_blvecs()))"
   ]
  },
  {
   "cell_type": "code",
   "execution_count": null,
   "id": "89a8ff01-2700-4258-a3d6-d0c3e72011ed",
   "metadata": {},
   "outputs": [],
   "source": [
    "# get mean redshifts for each spw\n",
    "zs = np.array([np.mean(1.420405751e9 / uvp.freq_array[uvp.spw_freq_array == spw] - 1) for spw in uvp.spw_array])"
   ]
  },
  {
   "cell_type": "markdown",
   "id": "e76306d9-5ba2-4d34-ac52-83251bb18d58",
   "metadata": {},
   "source": [
    "## Examine LST structure of the power spectrum"
   ]
  },
  {
   "cell_type": "code",
   "execution_count": null,
   "id": "92e29897-6ed6-48e1-b95e-b92c95748665",
   "metadata": {
    "editable": true,
    "slideshow": {
     "slide_type": ""
    },
    "tags": []
   },
   "outputs": [],
   "source": [
    "dlst = np.median(np.diff(uvp.lst_avg_array[uvp.key_to_indices((0, ((0, 1), (0, 1)), ('pI', 'pI')))[1]]))\n",
    "all_lsts = np.unique(uvp.lst_avg_array)\n",
    "all_lsts[all_lsts * 12 / np.pi > 17.75] -= 2 * np.pi\n",
    "lst_grid = np.arange(np.min(all_lsts) - dlst, np.max(all_lsts) + dlst, dlst)"
   ]
  },
  {
   "cell_type": "code",
   "execution_count": null,
   "id": "cef68c7f-7abb-492f-8878-df46d3833664",
   "metadata": {},
   "outputs": [],
   "source": [
    "# build dictionary mapping an individual baseline's LST range to the wider set of LSTs\n",
    "blp_to_lst_indices = {}\n",
    "for key in uvp.get_all_keys():\n",
    "    if not key[1] in blp_to_lst_indices:\n",
    "        lsts = uvp.lst_avg_array[uvp.key_to_indices(key)[1]]\n",
    "        lsts[lsts * 12 / np.pi > 17.75] -= 2 * np.pi    \n",
    "        blp_to_lst_indices[key[1]] = np.searchsorted(lst_grid, lsts[0]) + np.arange(len(lsts), dtype=int)"
   ]
  },
  {
   "cell_type": "code",
   "execution_count": null,
   "id": "f9c32a2b-1fea-4e64-95e6-cd9a2adf0327",
   "metadata": {
    "tags": []
   },
   "outputs": [],
   "source": [
    "wgts_sum = {spw: np.zeros((len(lst_grid), len(uvp.get_dlys(spw)))) for spw in uvp.spw_array}\n",
    "pI_sum = {spw: np.zeros((len(lst_grid), len(uvp.get_dlys(spw))), dtype=complex) for spw in uvp.spw_array}\n",
    "pQ_sum = {spw: np.zeros((len(lst_grid), len(uvp.get_dlys(spw))), dtype=complex) for spw in uvp.spw_array}\n",
    "\n",
    "# average power spectra over baselines\n",
    "for key in list(uvp.get_all_keys()):\n",
    "    spw, blp, pp = key\n",
    "    if pp != ('pI', 'pI'):\n",
    "        continue\n",
    "\n",
    "    # Ignore baselines with too great a signal loss\n",
    "    if frf_losses[blp][spw] > MAX_FRF_SIGNAL_LOSS:\n",
    "        continue\n",
    "        \n",
    "    # inverse variance weight baselines\n",
    "    wgt = np.abs(uvp.get_stats('P_N', key))**-2\n",
    "    \n",
    "    wedge_plus_buffer = np.linalg.norm(np.linalg.norm(blp_to_blvec_dict[key[1]])) / constants.c + WEDGE_BUFFER_NS * 1e-9\n",
    "    wgt[:, np.abs(uvp.get_dlys(spw)) < wedge_plus_buffer] = 0\n",
    "    pI_sum[spw][blp_to_lst_indices[blp], :] += uvp.get_data(key) * wgt\n",
    "    pQ_sum[spw][blp_to_lst_indices[blp], :] += uvp.get_data((spw, blp, ('pQ', 'pQ'))) * wgt\n",
    "    wgts_sum[spw][blp_to_lst_indices[blp], :] += wgt\n",
    "\n",
    "# normalize average\n",
    "for spw in pI_sum:\n",
    "    pI_sum[spw] /= wgts_sum[spw]\n",
    "    pQ_sum[spw] /= wgts_sum[spw]"
   ]
  },
  {
   "cell_type": "code",
   "execution_count": null,
   "id": "c87fc989-04a2-4569-b321-8796d6942451",
   "metadata": {},
   "outputs": [],
   "source": [
    "def plot_power_spectrum_avg_vs_LST():\n",
    "    fig, axes = plt.subplots(len(uvp.spw_array), 2, figsize=(8, len(uvp.spw_array) * 2), sharey=True, sharex=True, gridspec_kw={'wspace': 0, 'hspace': 0})\n",
    "    \n",
    "    for spw, ax in enumerate(axes):\n",
    "        dlys = uvp.get_dlys(spw) * 1e9\n",
    "        \n",
    "        im = ax[0].imshow(pI_sum[spw].real, aspect='auto', interpolation='none', cmap='turbo', norm=matplotlib.colors.LogNorm(vmin=1e5, vmax=1e13), \n",
    "                          extent=[dlys[0], dlys[-1], lst_grid[-1] * 12 / np.pi, lst_grid[0] * 12 / np.pi])\n",
    "    \n",
    "        im = ax[1].imshow(pQ_sum[spw].real, aspect='auto', interpolation='none', cmap='turbo', norm=matplotlib.colors.LogNorm(vmin=1e5, vmax=1e13), \n",
    "                          extent=[dlys[0], dlys[-1], lst_grid[-1] * 12 / np.pi, lst_grid[0] * 12 / np.pi])\n",
    "    \n",
    "        \n",
    "        for a in ax:\n",
    "            a.set_xticks([-3000, -1500, 0, 1500, 3000])\n",
    "            if spw == len(uvp.spw_array) - 1:\n",
    "                a.set_xlabel('Delay (ns)')\n",
    "        ax[0].set_yticks(ax[0].get_yticks())\n",
    "        ax[0].set_yticklabels(['',] + list(ax[0].get_yticks() % 24)[1:])            \n",
    "        ax[0].set_ylabel('LST (hours)')\n",
    "    \n",
    "        for a, pol in zip(ax, ['pI', 'pQ']):\n",
    "            a.text(a.get_xlim()[0] + 300, a.get_ylim()[-1] + .4, f'{pol} Band {spw + 1}\\nz = {zs[spw]:.1f}', ha='left', va='top',\n",
    "                     bbox=dict(facecolor='w', edgecolor='black', alpha=.75, boxstyle='round', ls='-'))\n",
    "            a.tick_params(axis='x', direction='in')\n",
    "    \n",
    "    \n",
    "    plt.tight_layout()\n",
    "    plt.colorbar(im, ax=axes, pad=.02, aspect=40, extend='both', location='top', label=f'Baselined-Averaged Outside Wedge + {WEDGE_BUFFER_NS} ns\\n' + r'Re[$P(k)$] (mK$^2$ $h^{-3}$ Mpc$^3$)')"
   ]
  },
  {
   "cell_type": "markdown",
   "id": "ccf6611a-ed6b-4d86-8258-c24cb272e38f",
   "metadata": {},
   "source": [
    "### Figure 1: P(k) Averaged Over Baseline vs. LST"
   ]
  },
  {
   "cell_type": "code",
   "execution_count": null,
   "id": "2643d0e3-92a7-435e-b82a-61d517ef970a",
   "metadata": {},
   "outputs": [],
   "source": [
    "plot_power_spectrum_avg_vs_LST()"
   ]
  },
  {
   "cell_type": "markdown",
   "id": "0af8e45b-0a51-4759-a585-9fcda73e6c4a",
   "metadata": {},
   "source": [
    "## Metadata"
   ]
  },
  {
   "cell_type": "code",
   "execution_count": null,
   "id": "2140a989-2d6b-4949-9dd0-aab92e57a2bf",
   "metadata": {},
   "outputs": [],
   "source": [
    "for repo in ['numpy', 'scipy', 'astropy', 'hera_cal', 'hera_qm', 'pandas',\n",
    "             'hera_filters', 'hera_pspec', 'hera_notebook_templates', 'pyuvdata']:\n",
    "    exec(f'from {repo} import __version__')\n",
    "    print(f'{repo}: {__version__}')"
   ]
  },
  {
   "cell_type": "code",
   "execution_count": null,
   "id": "0ba72315-d2a8-4602-927f-020a4e0c66ca",
   "metadata": {},
   "outputs": [],
   "source": [
    "print(f'Finished execution in {(time.time() - tstart) / 60:.2f} minutes.')"
   ]
  }
 ],
 "metadata": {
  "kernelspec": {
   "display_name": "h6c-uv",
   "language": "python",
   "name": "h6c-uv"
  },
  "language_info": {
   "codemirror_mode": {
    "name": "ipython",
    "version": 3
   },
   "file_extension": ".py",
   "mimetype": "text/x-python",
   "name": "python",
   "nbconvert_exporter": "python",
   "pygments_lexer": "ipython3",
   "version": "3.12.7"
  }
 },
 "nbformat": 4,
 "nbformat_minor": 5
}
