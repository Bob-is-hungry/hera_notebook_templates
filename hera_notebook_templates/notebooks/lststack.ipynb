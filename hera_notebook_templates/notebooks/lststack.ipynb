{
 "cells": [
  {
   "cell_type": "markdown",
   "id": "48edc0db",
   "metadata": {
    "toc": true
   },
   "source": [
    "<h1>Table of Contents<span class=\"tocSkip\"></span></h1>\n",
    "<div class=\"toc\"><ul class=\"toc-item\"><li><span><a href=\"#Imports\" data-toc-modified-id=\"Imports-1\"><span class=\"toc-item-num\">1&nbsp;&nbsp;</span>Imports</a></span></li><li><span><a href=\"#Configuration\" data-toc-modified-id=\"Configuration-2\"><span class=\"toc-item-num\">2&nbsp;&nbsp;</span>Configuration</a></span></li><li><span><a href=\"#Do-the-binning\" data-toc-modified-id=\"Do-the-binning-3\"><span class=\"toc-item-num\">3&nbsp;&nbsp;</span>Do the binning</a></span></li><li><span><a href=\"#LST-bin-the-Autos\" data-toc-modified-id=\"LST-bin-the-Autos-4\"><span class=\"toc-item-num\">4&nbsp;&nbsp;</span>LST-bin the Autos</a></span><ul class=\"toc-item\"><li><span><a href=\"#In-painted-Mode\" data-toc-modified-id=\"In-painted-Mode-4.1\"><span class=\"toc-item-num\">4.1&nbsp;&nbsp;</span>In-painted Mode</a></span></li><li><span><a href=\"#Flagged-Mode\" data-toc-modified-id=\"Flagged-Mode-4.2\"><span class=\"toc-item-num\">4.2&nbsp;&nbsp;</span>Flagged-Mode</a></span></li><li><span><a href=\"#Plot\" data-toc-modified-id=\"Plot-4.3\"><span class=\"toc-item-num\">4.3&nbsp;&nbsp;</span>Plot</a></span></li></ul></li><li><span><a href=\"#Cross-Pairs\" data-toc-modified-id=\"Cross-Pairs-5\"><span class=\"toc-item-num\">5&nbsp;&nbsp;</span>Cross-Pairs</a></span></li></ul></div>"
   ]
  },
  {
   "cell_type": "markdown",
   "id": "df84a7b1",
   "metadata": {},
   "source": [
    "# LST-Bin"
   ]
  },
  {
   "cell_type": "markdown",
   "id": "543efff3",
   "metadata": {},
   "source": [
    "**by Steven Murray**, last updated 27th Mar, 2024."
   ]
  },
  {
   "cell_type": "markdown",
   "id": "96338e3d",
   "metadata": {},
   "source": [
    "This notebook performs LST-binning, producing a **single output file**. The input to this notebook consists of two configuration files, and one index:\n",
    "\n",
    "1. A `fileconf`, which is *produced* by `hera_cal.lstbin_simple.make_lst_bin_config_file()` run over a set of raw files. This file lists all the raw files that correspond to all the particular bins, which makes it quick for this notebook to read them in.\n",
    "2. A binning configuration file, `config`, that specifies all the parameters to use when performing the binning itself.\n",
    "3. The file index that corresponds to the LST bins that will be saved to the output file in _this_ notebook."
   ]
  },
  {
   "cell_type": "markdown",
   "id": "378f6474",
   "metadata": {},
   "source": [
    "The notebook then proceeds to do essentially the same thing as `hera_cal.lstbin_simple.lst_bin_files_single_outfile`, but with extra plotting and inspection stops along the way."
   ]
  },
  {
   "cell_type": "markdown",
   "id": "1e45f4c5",
   "metadata": {},
   "source": [
    "## Imports"
   ]
  },
  {
   "cell_type": "code",
   "execution_count": null,
   "id": "b731e8f8",
   "metadata": {
    "tags": []
   },
   "outputs": [],
   "source": [
    "import os\n",
    "import sys\n",
    "import yaml\n",
    "import toml\n",
    "import inspect\n",
    "from pathlib import Path\n",
    "from functools import partial\n",
    "from typing import Literal\n",
    "from datetime import datetime\n",
    "from time import time as _time\n",
    "import resource\n",
    "\n",
    "import numpy as np\n",
    "import matplotlib as mpl\n",
    "import matplotlib.pyplot as plt\n",
    "from astropy import units\n",
    "import matplotlib as mpl\n",
    "import h5py\n",
    "import attrs\n",
    "from scipy.stats import chi2\n",
    "import psutil\n",
    "\n",
    "from pyuvdata.uvdata import FastUVH5Meta\n",
    "from pyuvdata import UVData\n",
    "from hera_cal import lst_stack as lstbin\n",
    "from hera_cal.lst_stack.config import LSTConfig\n",
    "from hera_cal import abscal\n",
    "from hera_cal.red_groups import RedundantGroups\n",
    "from hera_cal.lst_stack import metrics as lstmet"
   ]
  },
  {
   "cell_type": "code",
   "execution_count": null,
   "id": "d32a48ff-2605-42a7-b3e3-5eeb97bbf031",
   "metadata": {
    "tags": []
   },
   "outputs": [],
   "source": [
    "start_time = _time()"
   ]
  },
  {
   "cell_type": "markdown",
   "id": "9bfcdbd2",
   "metadata": {},
   "source": [
    "## Configuration"
   ]
  },
  {
   "cell_type": "code",
   "execution_count": null,
   "id": "f1d16c3d",
   "metadata": {
    "tags": [
     "parameters"
    ]
   },
   "outputs": [],
   "source": [
    "fileconf: str = \"/lustre/aoc/projects/hera/h6c-analysis/IDR2/lstbin-outputs/redavg-smoothcal-notebook/file-config.h5\"\n",
    "fileidx: int = 380\n",
    "\n",
    "# The following are defaults that can be overwritten at execution time (preferably by a YAML file)\n",
    "make_plots: bool = True\n",
    "save_lstbin_data: bool = True\n",
    "save_metric_data: bool = True\n",
    "plot_n_worst: int = 5\n",
    "\n",
    "outdir: str = \".\"\n",
    "bl_chunk_size: int = 0\n",
    "rephase: bool = True\n",
    "vis_units: str = \"Jy\"\n",
    "fname_format: str = '{inpaint_mode}/zen.{kind}.{lst:7.5f}.sum.uvh5'\n",
    "overwrite: bool = True\n",
    "write_med_mad: bool = False\n",
    "do_flagged_mode: bool = False\n",
    "freq_min: float = 0.0\n",
    "freq_max: float = 0.0\n",
    "history: str = \"\""
   ]
  },
  {
   "cell_type": "code",
   "execution_count": null,
   "id": "0bd23f5e-2cb1-4771-a0fb-ab8c78a88435",
   "metadata": {},
   "outputs": [],
   "source": [
    "# Parameter changes for typing\n",
    "outdir = Path(outdir)\n",
    "if freq_max <= 0.0:\n",
    "    freq_max = None\n",
    "if freq_min <= 0.0:\n",
    "    freq_min = None\n",
    "if bl_chunk_size <= 0:\n",
    "    bl_chunk_size = None"
   ]
  },
  {
   "cell_type": "code",
   "execution_count": null,
   "id": "a396d118",
   "metadata": {
    "tags": []
   },
   "outputs": [],
   "source": [
    "fileconf = Path(fileconf)\n",
    "assert fileconf.exists() and fileconf.is_file(), \"The input file-configuration file is not a file\""
   ]
  },
  {
   "cell_type": "code",
   "execution_count": null,
   "id": "25effb0a",
   "metadata": {
    "tags": []
   },
   "outputs": [],
   "source": [
    "stackconf = LSTConfig.from_file(fileconf)"
   ]
  },
  {
   "cell_type": "code",
   "execution_count": null,
   "id": "796a5f4a",
   "metadata": {
    "tags": []
   },
   "outputs": [],
   "source": [
    "print(\"The LST grid was configured with these parameters: \\n\")\n",
    "for key, val in attrs.asdict(stackconf.config).items():\n",
    "    if key != 'data_files':\n",
    "        print(f\"  {key:>36}: {val}\")"
   ]
  },
  {
   "cell_type": "code",
   "execution_count": null,
   "id": "2dcfdf53",
   "metadata": {
    "tags": []
   },
   "outputs": [],
   "source": [
    "print(\"The raw files have the following properties: \\n\")\n",
    "for key, val in stackconf.properties.items():\n",
    "    print(f\"  {key:>25}: {val}\")"
   ]
  },
  {
   "cell_type": "code",
   "execution_count": null,
   "id": "d08f5b1c-dcd2-49c1-b40e-de401b8a3bb3",
   "metadata": {
    "tags": []
   },
   "outputs": [],
   "source": [
    "stackconf = stackconf.at_single_outfile(fileidx)"
   ]
  },
  {
   "cell_type": "code",
   "execution_count": null,
   "id": "3dc5f4fb",
   "metadata": {
    "tags": []
   },
   "outputs": [],
   "source": [
    "print(f\"LST bin edges considered in this notebook (file index {fileidx}):\")\n",
    "print(f\"  {stackconf.lst_grid_edges}\")"
   ]
  },
  {
   "cell_type": "code",
   "execution_count": null,
   "id": "d49ad3e8",
   "metadata": {
    "tags": []
   },
   "outputs": [],
   "source": [
    "print(f\"Raw files used in this notebook (for all bins): \\n\")\n",
    "for fl in stackconf.matched_files:\n",
    "    print(fl.name)"
   ]
  },
  {
   "cell_type": "code",
   "execution_count": null,
   "id": "7a7fda3b",
   "metadata": {
    "tags": []
   },
   "outputs": [],
   "source": [
    "print(f\"The data has {len(stackconf.autos + stackconf.antpairs)} ant-pairs, and {stackconf.pols} polarizations.\")"
   ]
  },
  {
   "cell_type": "code",
   "execution_count": null,
   "id": "4d5fe8a5",
   "metadata": {
    "tags": []
   },
   "outputs": [],
   "source": [
    "inpaint_mode =  (not do_flagged_mode and stackconf.inpaint_files is not None)"
   ]
  },
  {
   "cell_type": "code",
   "execution_count": null,
   "id": "e29b8f19-0c8e-4a37-a475-9ea1574cd2ad",
   "metadata": {
    "tags": []
   },
   "outputs": [],
   "source": [
    "print(f\"We will use {'inpaint' if inpaint_mode else 'flagged'} mode in this notebook.\")"
   ]
  },
  {
   "cell_type": "code",
   "execution_count": null,
   "id": "f815429a",
   "metadata": {
    "tags": []
   },
   "outputs": [],
   "source": [
    "outdir = Path(outdir)\n",
    "if not outdir.exists():\n",
    "    outdir.mkdir(parents=True, exist_ok=True)"
   ]
  },
  {
   "cell_type": "code",
   "execution_count": null,
   "id": "ff075977",
   "metadata": {
    "tags": []
   },
   "outputs": [],
   "source": [
    "print(f\"Writing output files to: \\n  {outdir}\")"
   ]
  },
  {
   "cell_type": "code",
   "execution_count": null,
   "id": "298493de-7f6a-4e24-bdc6-b62340e7a7db",
   "metadata": {
    "tags": []
   },
   "outputs": [],
   "source": [
    "# Split up the baselines into chunks that will be LST-binned together.\n",
    "# This is just to save on RAM.\n",
    "if bl_chunk_size is None:\n",
    "    bl_chunk_size = len(stackconf.antpairs)\n",
    "else:\n",
    "    bl_chunk_size = min(bl_chunk_size, len(stackconf.antpairs))\n",
    "\n",
    "n_bl_chunks = int(np.ceil(len(stackconf.antpairs) / bl_chunk_size))"
   ]
  },
  {
   "cell_type": "code",
   "execution_count": null,
   "id": "69d95ed7",
   "metadata": {},
   "outputs": [],
   "source": [
    "out_fname = lstbin.format_outfile_name(\n",
    "    fname_format=fname_format, lst=stackconf.lst_grid_edges[0], inpaint_mode=inpaint_mode,\n",
    "    pols=stackconf.pols, lst_branch_cut=stackconf.properties[\"lst_branch_cut\"],\n",
    ")"
   ]
  },
  {
   "cell_type": "markdown",
   "id": "8dcb2696",
   "metadata": {},
   "source": [
    "## Define Stacking/Averaging Functions"
   ]
  },
  {
   "cell_type": "markdown",
   "id": "588cfdd5",
   "metadata": {},
   "source": [
    "Define and initialize the output files that we will write in this notebook:"
   ]
  },
  {
   "cell_type": "code",
   "execution_count": null,
   "id": "84e9d90d",
   "metadata": {
    "tags": []
   },
   "outputs": [],
   "source": [
    "out_files = {}\n",
    "kinds = [\"LST\", \"STD\"]\n",
    "if write_med_mad:\n",
    "    kinds += [\"MED\", \"MAD\"]\n",
    "for kind in kinds:\n",
    "    # Create the files we'll write to\n",
    "    out_files[kind] = lstbin.io.create_lstbin_output_file(\n",
    "        fname=out_fname,\n",
    "        kind=kind,\n",
    "        lsts=stackconf.lst_grid,\n",
    "        outdir=outdir,\n",
    "        file_list=stackconf.matched_metas,\n",
    "        antpairs=stackconf.autos + stackconf.antpairs,\n",
    "        start_jd=stackconf.properties['first_jd'],\n",
    "        lst_branch_cut=stackconf.properties[\"lst_branch_cut\"],\n",
    "        freq_min=freq_min,\n",
    "        freq_max=freq_max, \n",
    "        vis_units=vis_units, \n",
    "        history=history,\n",
    "        overwrite=overwrite\n",
    "    )"
   ]
  },
  {
   "cell_type": "markdown",
   "id": "4e3d17ae",
   "metadata": {},
   "source": [
    "Now, define a function that uses the configuration we've established and performs LST-binning for a subset of baselines."
   ]
  },
  {
   "cell_type": "code",
   "execution_count": null,
   "id": "01425335",
   "metadata": {
    "tags": []
   },
   "outputs": [],
   "source": [
    "def write_baseline_chunk(rdc: dict, nbls_so_far: int):\n",
    "    nbls_in_chunk = rdc['data'].shape[1]\n",
    "    \n",
    "    slc = slice(nbls_so_far, nbls_so_far + nbls_in_chunk)\n",
    "\n",
    "    lstbin.write_baseline_slc_to_file(\n",
    "        fl=out_files[\"LST\"],\n",
    "        slc=slc,\n",
    "        data=rdc[\"data\"],\n",
    "        flags=rdc[\"flags\"],\n",
    "        nsamples=rdc[\"nsamples\"],\n",
    "    )\n",
    "\n",
    "    lstbin.write_baseline_slc_to_file(\n",
    "        fl=out_files[\"STD\"],\n",
    "        slc=slc,\n",
    "        data=rdc[\"std\"],\n",
    "        flags=rdc[\"flags\"],\n",
    "        nsamples=rdc[\"days_binned\"],\n",
    "    )\n",
    "\n",
    "    if write_med_mad:\n",
    "        lstbin.write_baseline_slc_to_file(\n",
    "            fl=out_files[\"MED\"],\n",
    "            slc=slc,\n",
    "            data=rdc[\"median\"],\n",
    "            flags=rdc[\"flags\"],\n",
    "            nsamples=rdc[\"nsamples\"],\n",
    "        )\n",
    "        lstbin.write_baseline_slc_to_file(\n",
    "            fl=out_files[\"MAD\"],\n",
    "            slc=slc,\n",
    "            data=rdc[\"mad\"],\n",
    "            flags=rdc[\"flags\"],\n",
    "            nsamples=rdc[\"days_binned\"],\n",
    "        )"
   ]
  },
  {
   "cell_type": "code",
   "execution_count": null,
   "id": "f572b3ad-fc1f-4818-9887-34f18ba537fc",
   "metadata": {
    "tags": []
   },
   "outputs": [],
   "source": [
    "def stack_blchunk(\n",
    "    bl_chunk: int | str,\n",
    "    nbls_so_far: int,\n",
    "):\n",
    "    \"\"\"Process a single chunk of baselines.\"\"\"\n",
    "    sig = inspect.signature(lstbin.binning.lst_bin_files_from_config)\n",
    "    kw = {k: v for k, v in globals().items() if k in sig.parameters}\n",
    "    \n",
    "    stacks: list[UVData] = lstbin.binning.lst_bin_files_from_config(\n",
    "        stackconf,\n",
    "        bl_chunk_to_load=bl_chunk,\n",
    "        nbl_chunks=n_bl_chunks,\n",
    "        \n",
    "    )\n",
    "    \n",
    "    chunk_size = stacks[0].Nbls\n",
    "    slc = slice(nbls_so_far, nbls_so_far + chunk_size)\n",
    "\n",
    "    dshape = (chunk_size, stacks[0].Nfreqs, stacks[0].Npols)\n",
    "\n",
    "    rdc = lstbin.averaging.reduce_lst_bins(\n",
    "        [uvd.data_array.reshape((uvd.Ntimes,) + dshape) for uvd in stacks],\n",
    "        [uvd.flag_array.reshape((uvd.Ntimes,) + dshape) for uvd in stacks],\n",
    "        [uvd.nsample_array.reshape((uvd.Ntimes,) + dshape) for uvd in stacks],\n",
    "        inpainted_mode=inpaint_mode,\n",
    "        get_mad=True,\n",
    "    )\n",
    "    write_baseline_chunk(rdc, nbls_so_far)\n",
    "        \n",
    "    return stacks, rdc, chunk_size"
   ]
  },
  {
   "cell_type": "markdown",
   "id": "f2f96f4e-cb89-436f-ac12-f220e6661f38",
   "metadata": {},
   "source": [
    "## Plotting Style Setup"
   ]
  },
  {
   "cell_type": "code",
   "execution_count": null,
   "id": "855ea566-e388-4c5a-b330-3a1db23290ec",
   "metadata": {
    "tags": []
   },
   "outputs": [],
   "source": [
    "data_jd_ints = sorted({int(meta.times[0]) for meta in stackconf.matched_metas})"
   ]
  },
  {
   "cell_type": "code",
   "execution_count": null,
   "id": "2e1f4fb7-5c04-478a-a715-f6ef0b30df6a",
   "metadata": {
    "tags": []
   },
   "outputs": [],
   "source": [
    "styles = {}\n",
    "\n",
    "for i, jdint in enumerate(data_jd_ints):\n",
    "    styles[jdint] = {'color': f\"C{i%10}\", 'ls': ['-', '--', ':', '-.'][i//10]}"
   ]
  },
  {
   "cell_type": "markdown",
   "id": "4fae129d-3428-4234-b999-b4f19e25b2f8",
   "metadata": {},
   "source": [
    "## Define Subsets of Data to Consider"
   ]
  },
  {
   "cell_type": "markdown",
   "id": "7c277fa0-7c76-408a-a77e-970e18c2d9fe",
   "metadata": {},
   "source": [
    "### Bands"
   ]
  },
  {
   "cell_type": "code",
   "execution_count": null,
   "id": "7eba6509-376b-4878-b791-6130337dc9be",
   "metadata": {
    "tags": []
   },
   "outputs": [],
   "source": [
    "bands_considered = [\n",
    "    (0, 200), (200, 400), (400, 600), (600, 800), (800, 1000), (1000, 1200), (1200, 1400), (1400, 1536),\n",
    "    (0, 450),    # low band\n",
    "    (450, 1536), # high band\n",
    "    (0, 1536),   # full band\n",
    "]"
   ]
  },
  {
   "cell_type": "markdown",
   "id": "2dc89519-8062-4b90-82c5-9fda9fe6f0c8",
   "metadata": {},
   "source": [
    "### Baselines"
   ]
  },
  {
   "cell_type": "code",
   "execution_count": null,
   "id": "85e42212-606d-4ecf-925b-eaba46f9e122",
   "metadata": {
    "tags": []
   },
   "outputs": [],
   "source": [
    "def get_all_antenna_sectors():\n",
    "    antpos = stackconf.config.datameta.antenna_positions\n",
    "    zero_pos = np.mean([antpos[165], antpos[166], antpos[145]], axis=0)\n",
    "    \n",
    "    sectors = {}\n",
    "    for ant, pos in enumerate(antpos):\n",
    "        rec = pos - zero_pos\n",
    "        theta = np.arctan2(rec[1], rec[0])\n",
    "        bllen = np.sqrt(rec[0]**2 + rec[1]**2)\n",
    "        if bllen > 200:\n",
    "            sectors[ant] = 4  # outrigger\n",
    "        elif -np.pi / 3 <= theta < np.pi / 3:\n",
    "            sectors[ant] = 1\n",
    "        elif np.pi / 3 <= theta < np.pi:\n",
    "            sectors[ant] = 2\n",
    "        elif -np.pi <= theta < -np.pi/3:\n",
    "            sectors[ant] = 3\n",
    "    return sectors\n",
    "\n",
    "sectors = get_all_antenna_sectors()"
   ]
  },
  {
   "cell_type": "code",
   "execution_count": null,
   "id": "29b0ccc9-194d-445e-8fcf-c973a55286c2",
   "metadata": {
    "tags": []
   },
   "outputs": [],
   "source": [
    "def getblvec(a, b):\n",
    "    return auto_stacks[0].antenna_positions[a] - auto_stacks[0].antenna_positions[b]\n",
    "def getbllen(a,b):\n",
    "    return np.sqrt(np.sum(np.square(getblvec(a,b))))"
   ]
  },
  {
   "cell_type": "code",
   "execution_count": null,
   "id": "b6be9df6-4726-4b2c-9a64-7722fc8d7e03",
   "metadata": {
    "tags": []
   },
   "outputs": [],
   "source": [
    "all_ee = lambda bl: bl[2] == 'ee'\n",
    "all_nn = lambda bl: bl[2] == 'nn'\n",
    "short_bls = lambda bl: getbllen(bl[0], bl[1])<=60.0\n",
    "long_bls = lambda bl: getbllen(bl[0], bl[1])>60.0\n",
    "intersector_bls = lambda bl: sectors[bl[0]] != sectors[bl[1]]\n",
    "intrasector_bls = lambda bl: sectors[bl[0]] == sectors[bl[1]]\n",
    "\n",
    "subsets = {\n",
    "    'all': lambda bl: True,\n",
    "    'ee-only': all_ee,\n",
    "    'nn-only': all_nn,\n",
    "    'Short (<60 m) baselines': short_bls,\n",
    "    'Long (>60 m) baselines': long_bls,\n",
    "    'Inter-sector baselines': intersector_bls,\n",
    "    \"Intra-sector baselines\": intrasector_bls,\n",
    "}"
   ]
  },
  {
   "cell_type": "markdown",
   "id": "af3b55b2",
   "metadata": {},
   "source": [
    "## LST-bin the Autos"
   ]
  },
  {
   "cell_type": "code",
   "execution_count": null,
   "id": "f54691c7",
   "metadata": {
    "tags": []
   },
   "outputs": [],
   "source": [
    "def make_auto_plot(auto_stacks: list[UVData], lstbin: dict):\n",
    "    \n",
    "    fig, ax = plt.subplots(\n",
    "        len(stackconf.autos)*len(stackconf.pols), len(auto_stacks), \n",
    "        sharex=True, sharey=True, squeeze=False, constrained_layout=True,\n",
    "        figsize=(12, 6)\n",
    "    )\n",
    "\n",
    "    for i, stack in enumerate(auto_stacks):\n",
    "        for j, autopair in enumerate(stackconf.autos):\n",
    "            for p, pol in enumerate(stackconf.pols):\n",
    "                axx = ax[j*len(stackconf.pols) + p, i]\n",
    "                \n",
    "                for k, t in enumerate(stack.time_array[::stack.Nbls]):\n",
    "                    flg = stack.get_flags(autopair + (pol,))[k]\n",
    "                    d = stack.get_data(autopair+(pol,))[k]\n",
    "                    \n",
    "                    axx.plot(\n",
    "                        stack.freq_array / 1e6,\n",
    "                        np.where(flg, np.nan, d.real),\n",
    "                        label=f\"{int(t)}\" if not p else None,\n",
    "                        **styles[int(t)]\n",
    "                    )\n",
    "                    axx.set_yscale('log')\n",
    "                    axx.set_title(f\"Pair {autopair}, pol={pol}, LST {stackconf.lst_grid[i]*12/np.pi:.3f} hr\")\n",
    "\n",
    "                # plot the mean\n",
    "                axx.plot(\n",
    "                    stack.freq_array / 1e6,\n",
    "                    np.where(lstbin['flags'][i, j, :, p], np.nan, lstbin['data'][i, j, :, p].real),\n",
    "                    label='LSTBIN',\n",
    "                    color='k', lw=2\n",
    "                )\n",
    "                \n",
    "    ax[0,0].legend(ncols=3)"
   ]
  },
  {
   "cell_type": "code",
   "execution_count": null,
   "id": "29c9e7b2",
   "metadata": {
    "tags": []
   },
   "outputs": [],
   "source": [
    "auto_stacks, autos_lstavg, nbls_so_far = stack_blchunk('autos', 0)"
   ]
  },
  {
   "cell_type": "markdown",
   "id": "e5a2d0d6",
   "metadata": {},
   "source": [
    "### Plot"
   ]
  },
  {
   "cell_type": "code",
   "execution_count": null,
   "id": "6a34526c",
   "metadata": {
    "tags": []
   },
   "outputs": [],
   "source": [
    "if make_plots:\n",
    "    make_auto_plot(auto_stacks, autos_lstavg);"
   ]
  },
  {
   "cell_type": "markdown",
   "id": "ae48cd95",
   "metadata": {},
   "source": [
    "## Cross-Pairs"
   ]
  },
  {
   "cell_type": "code",
   "execution_count": null,
   "id": "2994dd78-9fef-4006-a2d3-3ed7ae02e353",
   "metadata": {
    "tags": []
   },
   "outputs": [],
   "source": [
    "cross_stacks, cross_lstavg, nbls_so_far = stack_blchunk(0, nbls_so_far)"
   ]
  },
  {
   "cell_type": "markdown",
   "id": "f945d89b-0f72-473b-b5fd-b695db4306d3",
   "metadata": {},
   "source": [
    "### Calculate Metrics"
   ]
  },
  {
   "cell_type": "code",
   "execution_count": null,
   "id": "8237fbe8-3658-4ef7-8589-edeaedf083c1",
   "metadata": {
    "tags": []
   },
   "outputs": [],
   "source": [
    "dt = np.median(cross_stacks[0].integration_time) * units.s\n",
    "df = np.median(np.diff(cross_stacks[0].freq_array)) * units.Hz"
   ]
  },
  {
   "cell_type": "code",
   "execution_count": null,
   "id": "449fbc53-7d2d-4d54-83e2-be33be949904",
   "metadata": {
    "tags": []
   },
   "outputs": [],
   "source": [
    "reds_with_pols = RedundantGroups.from_antpos(antpos={i: pos for i, pos in enumerate(stackconf.config.datameta.antpos_enu)}, pols=stackconf.pols)"
   ]
  },
  {
   "cell_type": "code",
   "execution_count": null,
   "id": "d48853eb-611a-463c-966f-6435da5312aa",
   "metadata": {
    "tags": []
   },
   "outputs": [],
   "source": [
    "auto_stats = lstmet.LSTBinStats.from_reduced_data(stackconf.autos, stackconf.pols, autos_lstavg, reds=reds_with_pols)"
   ]
  },
  {
   "cell_type": "code",
   "execution_count": null,
   "id": "cfd99bf6-6ee7-4a42-bea3-534debf15060",
   "metadata": {
    "tags": []
   },
   "outputs": [],
   "source": [
    "cross_stats = lstmet.LSTBinStats.from_reduced_data(stackconf.antpairs, stackconf.pols, cross_lstavg, reds=reds_with_pols)"
   ]
  },
  {
   "cell_type": "code",
   "execution_count": null,
   "id": "2d81ec40-56d4-4b79-acf5-10f1a65f24ad",
   "metadata": {
    "tags": []
   },
   "outputs": [],
   "source": [
    "zscores = lstmet.get_zscores(auto_stats, cross_stats, dt, df, cross_stacks)"
   ]
  },
  {
   "cell_type": "code",
   "execution_count": null,
   "id": "d854206a-7886-4556-9a4a-d390bb3a1bdd",
   "metadata": {
    "tags": []
   },
   "outputs": [],
   "source": [
    "zdist_pred = lstmet.zsquare_predicted_dist()"
   ]
  },
  {
   "cell_type": "markdown",
   "id": "1829d46e-b428-4740-9ff9-07ad3aa9cd26",
   "metadata": {
    "execution": {
     "iopub.execute_input": "2024-03-20T12:54:35.025659Z",
     "iopub.status.busy": "2024-03-20T12:54:35.025016Z",
     "iopub.status.idle": "2024-03-20T12:54:35.061107Z",
     "shell.execute_reply": "2024-03-20T12:54:35.060118Z",
     "shell.execute_reply.started": "2024-03-20T12:54:35.025611Z"
    }
   },
   "source": [
    "### Distributions of $Z^2$"
   ]
  },
  {
   "cell_type": "markdown",
   "id": "a84ecc99-b476-417e-8f6d-74a5a0efe88a",
   "metadata": {},
   "source": [
    "#### Simple Histogram"
   ]
  },
  {
   "cell_type": "code",
   "execution_count": null,
   "id": "8c371fc5-f119-4de8-8a52-ba4c505103ca",
   "metadata": {
    "tags": []
   },
   "outputs": [],
   "source": [
    "if make_plots:\n",
    "    fig, ax = plt.subplots(1, 2, figsize=(14, 5))\n",
    "\n",
    "    x = np.logspace(-5, 7, 200)\n",
    "\n",
    "    xc = 10**((np.log10(x[1:]) + np.log10(x[:-1]))/2)\n",
    "    dndzsq = zdist_pred.pdf(xc)\n",
    "\n",
    "    ax[0].hist(zscores[0].data_array.real.flatten(), bins=x, label='First LST Bin', density=True, histtype='step')\n",
    "    ax[0].hist(zscores[1].data_array.real.flatten(), bins=x, label=\"Second LST Bin\", density=True, histtype='step')\n",
    "    ax[0].plot(xc, dndzsq, label='Predicted')\n",
    "    ax[0].set_xscale('log')\n",
    "    ax[0].set_yscale('log')\n",
    "    ax[0].set_ylim(1e-12, 1e4)\n",
    "    ax[0].legend()\n",
    "    ax[0].set_xlabel(r\"Log10 $Z^2$\")\n",
    "    ax[0].set_title(\"PDF of $Z^2$\")\n",
    "\n",
    "    # Plot the CDF\n",
    "    x = np.linspace(0, 100, 100)\n",
    "\n",
    "    size0 = np.sum(~np.isnan(zscores[0].data_array))\n",
    "    size1 = np.sum(~np.isnan(zscores[1].data_array))\n",
    "\n",
    "    cdf_data_0 = [np.sum(zscores[0].data_array.real < c)/size0 for c in x]\n",
    "    cdf_data_1 = [np.sum(zscores[1].data_array.real < c)/size1 for c in x]\n",
    "\n",
    "    ax[1].plot(x, cdf_data_0)\n",
    "    ax[1].plot(x, cdf_data_1)\n",
    "    ax[1].plot(x, zdist_pred.cdf(x))\n",
    "    ax[1].set_xlabel(r\"$Z^2$\")\n",
    "    ax[1].set_title(\"CDF of $Z^2$\")"
   ]
  },
  {
   "cell_type": "markdown",
   "id": "3b0d0bee-a457-4794-81cf-c82672740338",
   "metadata": {},
   "source": [
    "#### Get list of bads"
   ]
  },
  {
   "cell_type": "code",
   "execution_count": null,
   "id": "3f57eed1-eb95-44cb-b0d9-e940b065934c",
   "metadata": {
    "tags": []
   },
   "outputs": [],
   "source": [
    "def consecutive(data: np.ndarray, stepsize: int=1) -> list[tuple[int, int]]:\n",
    "    \"\"\"From https://stackoverflow.com/a/46606745/1467820\"\"\"\n",
    "    sequences = np.split(data, np.where(np.diff(data) != stepsize)[0]+1)\n",
    "    \n",
    "    l = []\n",
    "    for s in sequences:\n",
    "        if len(s) > 1:\n",
    "            l.append((s[0], s[-1]))\n",
    "        else:\n",
    "            l.append((s[0], s[0]+1))\n",
    "            \n",
    "    return l"
   ]
  },
  {
   "cell_type": "code",
   "execution_count": null,
   "id": "f9bd5c40-400a-4224-8a21-e1dd584d67c1",
   "metadata": {
    "tags": []
   },
   "outputs": [],
   "source": [
    "allbad = {}\n",
    "inpainted_regions = {}\n",
    "\n",
    "\n",
    "for lstbin, zuv in enumerate(zscores):\n",
    "    for bl, zsq in zuv.antpairpol_iter():\n",
    "        a, b, pol = bl\n",
    "        nsamps = zuv.get_nsamples((a, b, pol))\n",
    "        \n",
    "        pol = {'ee': 0, 'nn': 1}[pol]\n",
    "        \n",
    "        \n",
    "        for night, zsqn in enumerate(zsq):\n",
    "            nsampsn = nsamps[night]\n",
    "            \n",
    "            jdint = zuv.time_array[::zuv.Nbls][night]\n",
    "            \n",
    "            badfreqs = np.nonzero((zsqn.real > 9))[0]\n",
    "            if len(badfreqs) > 0:\n",
    "                ranges = consecutive(badfreqs)\n",
    "\n",
    "                for rng in ranges:\n",
    "                    allbad[(lstbin, a, b, pol, jdint, rng[0], rng[1])] = zsqn[rng[0]:rng[1]]\n",
    "\n",
    "            paintedfreqs = np.nonzero((nsampsn < 0))[0]\n",
    "            if len(paintedfreqs) > 0:\n",
    "                ranges = consecutive(paintedfreqs)\n",
    "                for rng in ranges:\n",
    "                    inpainted_regions[(lstbin, a, b, pol, jdint, rng[0], rng[1])] = nsampsn[rng[0]:rng[1]]"
   ]
  },
  {
   "cell_type": "code",
   "execution_count": null,
   "id": "76f321de-8fd9-41b5-a2fb-92d5ff4d94db",
   "metadata": {
    "tags": []
   },
   "outputs": [],
   "source": [
    "chunk_lengths = [b - a for _, _, _, _, _, a, b in allbad.keys()]\n",
    "print(\"Biggest Frequency Chunk With |Z|>3: \", np.max(chunk_lengths))"
   ]
  },
  {
   "cell_type": "code",
   "execution_count": null,
   "id": "61998a93-638a-4f4b-9e54-161ecc543691",
   "metadata": {
    "tags": []
   },
   "outputs": [],
   "source": [
    "if save_metric_data:\n",
    "    # Write out the \"bad\" data\n",
    "    fname = out_fname.format(kind=\"HIGHZ\")\n",
    "\n",
    "\n",
    "    with h5py.File(outdir / fname, 'w') as fl:\n",
    "        fl['indices'] = np.array(list(allbad.keys()))  # integer array\n",
    "        fl['zsq'] = np.concatenate(tuple(allbad.values()))\n"
   ]
  },
  {
   "cell_type": "markdown",
   "id": "38ce532f-fa59-4d6e-90bd-9737b71c9c8a",
   "metadata": {
    "execution": {
     "iopub.execute_input": "2024-03-20T14:31:20.304124Z",
     "iopub.status.busy": "2024-03-20T14:31:20.303539Z",
     "iopub.status.idle": "2024-03-20T14:31:20.310295Z",
     "shell.execute_reply": "2024-03-20T14:31:20.308960Z",
     "shell.execute_reply.started": "2024-03-20T14:31:20.304075Z"
    }
   },
   "source": [
    "#### Histogram of freq-chunk size"
   ]
  },
  {
   "cell_type": "code",
   "execution_count": null,
   "id": "26ab2c4c-8b5c-4847-bf56-ebda5e1bad1e",
   "metadata": {
    "tags": []
   },
   "outputs": [],
   "source": [
    "if make_plots:\n",
    "    plt.hist(chunk_lengths, bins=np.arange(np.min(chunk_lengths), np.max(chunk_lengths)+1))\n",
    "    plt.yscale('log')\n",
    "    plt.xlabel(\"Channel-Chunk Length with |Z|>3\")\n",
    "    plt.ylabel(\"Number of Occurences\");"
   ]
  },
  {
   "cell_type": "markdown",
   "id": "ba3ebc5c-840b-4d61-a72c-85bd36353806",
   "metadata": {},
   "source": [
    "#### Histogram of Inpainted Region size"
   ]
  },
  {
   "cell_type": "code",
   "execution_count": null,
   "id": "b0c6a1b0-8e07-4b28-accd-9cc0cc7a02e4",
   "metadata": {
    "tags": []
   },
   "outputs": [],
   "source": [
    "if make_plots:\n",
    "    inpsize = [k[-1] - k[-2] for k in inpainted_regions]\n",
    "    plt.hist(inpsize, bins=np.arange(np.max(inpsize)+1)-0.5)\n",
    "    plt.xlabel(\"Inpainted-Chunk Length\")\n",
    "    plt.ylabel(\"Number of chunks\")\n",
    "    plt.yscale('log')"
   ]
  },
  {
   "cell_type": "markdown",
   "id": "d106c9f8-052d-4231-847d-935b3641fed2",
   "metadata": {},
   "source": [
    "#### BoxPlots of Z^2 across axis chunks"
   ]
  },
  {
   "cell_type": "code",
   "execution_count": null,
   "id": "0a624ebb-096a-46bf-8eaa-c09e0abdb1de",
   "metadata": {
    "tags": []
   },
   "outputs": [],
   "source": [
    "def _set_boxplot_ax_props(nboxes: int, ax):\n",
    "    ax.axhline(zdist_pred.ppf(0.5), ls='-', color='gray')\n",
    "    ax.fill_between([-0.5, nboxes-0.5], [zdist_pred.ppf(0.25)]*2, [zdist_pred.ppf(0.75)]*2, color='gray', alpha=0.3)\n",
    "    ax.axhline(1, ls='--', color='C3', lw=1)\n",
    "    ax.set_ylim(1e-1, None)\n",
    "    ax.set_xlim(-0.5, nboxes-0.5)\n",
    "    \n",
    "    ax.set_yscale('log')\n",
    "    ax.set_ylabel(r\"$Z^2$\")"
   ]
  },
  {
   "cell_type": "code",
   "execution_count": null,
   "id": "4eaccced-bd4b-4fef-b429-a3265ee6ead0",
   "metadata": {
    "tags": []
   },
   "outputs": [],
   "source": [
    "def box_plot_all_groups(zscores):\n",
    "    fig, axx = plt.subplots(len(subsets), 1, sharex=True, figsize=(12, 3*len(subsets)), layout='constrained')\n",
    "\n",
    "    allbls = [(a, b, p) for a, b in stackconf.antpairs for p in stackconf.pols]\n",
    "\n",
    "    for j, (name, selector) in enumerate(subsets.items()):\n",
    "        ax = axx[j]\n",
    "            \n",
    "        for i, band in enumerate(bands_considered):\n",
    "            for n, night in enumerate(data_jd_ints):\n",
    "                allz = lstmet.get_data_subset(zscores, band=band, nights=night, selector=selector)\n",
    "                \n",
    "                bplot = ax.boxplot(\n",
    "                    allz, positions = [i-0.3 + 0.05*n], \n",
    "                    showfliers=False, whis=(0,100), showmeans=True,\n",
    "                    labels=[f\"chs {band[0]}-{band[1]}\" if (n==len(data_jd_ints)//2 and j==(len(subsets)-1)) else \"\"], \n",
    "                )\n",
    "                bplot['boxes'][0].set_color(styles[night]['color'])\n",
    "                bplot['boxes'][0].set_linestyle(styles[night]['ls'])\n",
    "                bplot['whiskers'][0].set_color(styles[night]['color'])\n",
    "                bplot['whiskers'][0].set_linestyle(styles[night]['ls'])\n",
    "                bplot['whiskers'][1].set_color(styles[night]['color'])\n",
    "                bplot['whiskers'][1].set_linestyle(styles[night]['ls'])\n",
    "                \n",
    "                bplot['caps'][0].set_color(styles[night]['color'])\n",
    "                bplot['caps'][1].set_color(styles[night]['color'])\n",
    "                \n",
    "                bplot['means'][0].set_marker(\"*\")\n",
    "                bplot['means'][0].set_markerfacecolor(styles[night]['color'])\n",
    "                bplot['means'][0].set_markeredgecolor(styles[night]['color'])\n",
    "                bplot['means'][0].set_markersize(10)\n",
    "                \n",
    "                if i==0 and j==0:\n",
    "                    # Dummy lines for legend\n",
    "                    ax.plot([1,2], [np.nan, np.nan], **styles[night], label=str(night))\n",
    "                    \n",
    "        _set_boxplot_ax_props(len(bands_considered), ax)\n",
    "        ax.set_ylabel(name.replace(\" baselines\", \"\"))\n",
    "    \n",
    "    axx[0].legend(ncols=3)\n",
    "    \n",
    "    return axx\n"
   ]
  },
  {
   "cell_type": "code",
   "execution_count": null,
   "id": "415df566-008c-411a-bcf0-652a530d703d",
   "metadata": {
    "tags": []
   },
   "outputs": [],
   "source": [
    "if make_plots:\n",
    "    box_plot_all_groups(zscores);"
   ]
  },
  {
   "cell_type": "markdown",
   "id": "72f54eab-7e8b-4f2d-9f56-9cd4d616aaa9",
   "metadata": {},
   "source": [
    "### Mean Z^2 Over Different Axes"
   ]
  },
  {
   "cell_type": "code",
   "execution_count": null,
   "id": "933726e7-b4e1-4a36-a54d-33a56ee9feb8",
   "metadata": {
    "tags": []
   },
   "outputs": [],
   "source": [
    "metrics = {}"
   ]
  },
  {
   "cell_type": "code",
   "execution_count": null,
   "id": "a907412f-4d20-4473-a913-8a1503775394",
   "metadata": {
    "tags": []
   },
   "outputs": [],
   "source": [
    "metrics['band_reduced_mean'] = {}\n",
    "for band in bands_considered:\n",
    "    metrics['band_reduced_mean'][band] = lstmet.get_data_subset_mean(\n",
    "        zscores, band=band, mean_over='band'\n",
    "    )"
   ]
  },
  {
   "cell_type": "code",
   "execution_count": null,
   "id": "a1494c6b-a640-4b3d-8a8f-a6a5122a09cd",
   "metadata": {
    "tags": []
   },
   "outputs": [],
   "source": [
    "metrics['bl_reduced_mean'] = {}\n",
    "allbls = [(a,b,p) for a,b in stackconf.antpairs for p in stackconf.pols]\n",
    "\n",
    "for j, (name, selector) in enumerate(subsets.items()):\n",
    "    metrics['bl_reduced_mean'][name] = lstmet.get_data_subset_mean(\n",
    "        zscores, selector=selector, mean_over='bls'\n",
    "    )"
   ]
  },
  {
   "cell_type": "code",
   "execution_count": null,
   "id": "10debe1f-74dc-4f9f-8aa5-596b749f8454",
   "metadata": {
    "tags": []
   },
   "outputs": [],
   "source": [
    "metrics['night_reduced_mean'] = lstmet.get_data_subset_mean(\n",
    "    zscores, mean_over='nights'\n",
    ")"
   ]
  },
  {
   "cell_type": "code",
   "execution_count": null,
   "id": "8593f6ae-e3f4-4d05-b789-27b384b4ffa2",
   "metadata": {
    "tags": []
   },
   "outputs": [],
   "source": [
    "metrics['night_and_bl_reduced_mean'] = {}\n",
    "\n",
    "for j, (name, selector) in enumerate(subsets.items()):    \n",
    "    metrics['night_and_bl_reduced_mean'][name] = lstmet.get_data_subset_mean(\n",
    "        zscores, selector=selector, mean_over=('nights', 'bls')\n",
    "    )"
   ]
  },
  {
   "cell_type": "code",
   "execution_count": null,
   "id": "19fec29c-2154-4b44-91fb-8448d1eac73d",
   "metadata": {
    "tags": []
   },
   "outputs": [],
   "source": [
    "metrics['night_and_band_reduced_mean'] = {}\n",
    "\n",
    "for band in bands_considered:\n",
    "    metrics['night_and_band_reduced_mean'][band] = lstmet.get_data_subset_mean(\n",
    "        zscores, band=band, mean_over=('nights', 'band')\n",
    "    )"
   ]
  },
  {
   "cell_type": "code",
   "execution_count": null,
   "id": "0cacff58-e86f-46e0-adae-31c734491603",
   "metadata": {
    "tags": []
   },
   "outputs": [],
   "source": [
    "metrics['bl_and_band_reduced_mean'] = {}\n",
    "\n",
    "for j, (name, selector) in enumerate(subsets.items()):\n",
    "    for band in bands_considered:\n",
    "        metrics['bl_and_band_reduced_mean'][(band, name)] = lstmet.get_data_subset_mean(\n",
    "            zscores, band=band, selector=selector, mean_over=('bls', 'band')\n",
    "        )"
   ]
  },
  {
   "cell_type": "code",
   "execution_count": null,
   "id": "94edd1b0-a47e-4f78-b27d-c88cf5ffbaff",
   "metadata": {
    "tags": []
   },
   "outputs": [],
   "source": [
    "metrics['all_reduced_mean'] = {}\n",
    "\n",
    "for j, (name, selector) in enumerate(subsets.items()):    \n",
    "    for band in bands_considered:\n",
    "        metrics['all_reduced_mean'][(band, name)] = lstmet.get_data_subset_mean(\n",
    "            zscores, band=band, selector=selector, mean_over=('bls', 'band', 'nights')\n",
    "        )"
   ]
  },
  {
   "cell_type": "markdown",
   "id": "298113bf-abbb-456a-ad51-13c151f1cefe",
   "metadata": {},
   "source": [
    "#### Plot Totally Reduced"
   ]
  },
  {
   "cell_type": "code",
   "execution_count": null,
   "id": "6872050f-7a20-4839-bcd5-1ad135875e17",
   "metadata": {
    "tags": []
   },
   "outputs": [],
   "source": [
    "subset_styles = {name: {'color': f\"C{i%len(subsets)}\", 'ls': ['-', '--', ':', '-.'][i//4]} for i, name in enumerate(subsets.keys())}"
   ]
  },
  {
   "cell_type": "code",
   "execution_count": null,
   "id": "e87967b6-baf0-4b2d-8e80-0cb59851ef1a",
   "metadata": {
    "tags": []
   },
   "outputs": [],
   "source": [
    "if make_plots:\n",
    "    done = set()\n",
    "    for (band, subset_name), means in metrics['all_reduced_mean'].items():\n",
    "        mid = np.mean(band)\n",
    "        size=0 if band[1]-band[0]==200 else (1 if band[1]-band[0] < 1500 else 2)\n",
    "\n",
    "        plt.errorbar([np.mean(band)], means[0], xerr=[[mid - band[0]]], marker='ox*'[size], markersize=8, **subset_styles[subset_name], label=subset_name.replace(\"baselines\", \"\") if subset_name not in done else None)\n",
    "        done.add(subset_name)\n",
    "    plt.legend(ncols=2)\n",
    "    plt.yscale('log')"
   ]
  },
  {
   "cell_type": "markdown",
   "id": "03dcd393-f774-458b-a714-b30fcde3cd0a",
   "metadata": {},
   "source": [
    "#### Plot Reduced over Nights + Bands"
   ]
  },
  {
   "cell_type": "code",
   "execution_count": null,
   "id": "cd8c6f4b-5a3f-4c6b-8371-25adbb6a7b4b",
   "metadata": {
    "tags": []
   },
   "outputs": [],
   "source": [
    "def make_baseline_zsq_plot():\n",
    "    # TODO: need a better cmap to easily see what's \"good\" and \"bad\"\n",
    "    \n",
    "    fig, axx = plt.subplots(len(bands_considered)-3, 2, sharey=True, figsize=(24, 5*(len(bands_considered)-3)), layout='constrained')\n",
    "    \n",
    "    cmap = mpl.colors.ListedColormap([\"C0\", f\"C1\", f\"C3\"])\n",
    "    for i, band in enumerate(bands_considered):\n",
    "        if band[1] - band[0] > 200:\n",
    "            continue\n",
    "\n",
    "        ax = axx[i]\n",
    "        \n",
    "        mean_zsq = metrics['night_and_band_reduced_mean'][band][0]\n",
    "    \n",
    "        uvws = zscores[0].uvw_array[:zscores[0].Nbls][:, :2]\n",
    "        uvws[uvws[:, 1] < 0] *= -1\n",
    "\n",
    "        ax[0].scatter(uvws[:, 0], uvws[:, 1], c=mean_zsq[:, 0].real, norm=mpl.colors.LogNorm( vmin=1, vmax=1000), marker='H', s=60, cmap=cmap)\n",
    "        ax[0].set_title(stackconf.pols[0])\n",
    "        ax[0].set_aspect(\"equal\", 'datalim')\n",
    "        ax[0].set_xlim(-200, 200)\n",
    "\n",
    "        cbar = ax[1].scatter(uvws[:, 0], uvws[:, 1], c=mean_zsq[:, 1].real, norm=mpl.colors.LogNorm( vmin=1, vmax=1000), marker='H', s=60, cmap=cmap)\n",
    "        ax[1].set_title(stackconf.pols[1])\n",
    "        ax[1].set_aspect(\"equal\", 'datalim')\n",
    "        ax[1].set_xlim(-200, 200)\n",
    "        ax[0].grid(True)\n",
    "        ax[1].grid(True)\n",
    "        \n",
    "        ax[0].set_ylabel(str(band))\n",
    "        \n",
    "        plt.colorbar(cbar, ax=ax)"
   ]
  },
  {
   "cell_type": "code",
   "execution_count": null,
   "id": "c88c1f27-2b69-491a-8910-6e67a7acc9f3",
   "metadata": {
    "tags": []
   },
   "outputs": [],
   "source": [
    "if make_plots:\n",
    "    make_baseline_zsq_plot()"
   ]
  },
  {
   "cell_type": "markdown",
   "id": "c661fba7-a599-4fa4-b308-9ea0cd94eec0",
   "metadata": {},
   "source": [
    "#### Plot Reduced over Nights and bls"
   ]
  },
  {
   "cell_type": "code",
   "execution_count": null,
   "id": "14a4740d-28eb-4394-b32e-1aacda366bb3",
   "metadata": {
    "tags": []
   },
   "outputs": [],
   "source": [
    "def plot_excess_variance_wrt_freq():\n",
    "    for subset, zsq in metrics['night_and_bl_reduced_mean'].items():\n",
    "        # do the mean over the two LST bins here...\n",
    "        zsq = np.nanmean(zsq, axis=0)\n",
    "        \n",
    "        plt.plot(stackconf.config.datameta.freq_array / 1e6, zsq, label=subset.replace(\"baselines\", \"\"), **subset_styles[subset])\n",
    "        \n",
    "    plt.xlabel(\"Freq [MHz]\")\n",
    "    plt.ylabel(r\"Mean $Z^2$ across Nights, LSTs and Baselines\")\n",
    "    plt.legend(ncols=2)\n",
    "    plt.ylim(7e-1, 100)\n",
    "    plt.yscale('log')"
   ]
  },
  {
   "cell_type": "code",
   "execution_count": null,
   "id": "441b636d-a4ce-431c-a15f-144a5b22d9a1",
   "metadata": {
    "tags": []
   },
   "outputs": [],
   "source": [
    "if make_plots:\n",
    "    plot_excess_variance_wrt_freq()"
   ]
  },
  {
   "cell_type": "markdown",
   "id": "7eaefd51-59e9-40bb-9ace-029db67450ff",
   "metadata": {},
   "source": [
    "#### Plot Reduced over Bls"
   ]
  },
  {
   "cell_type": "code",
   "execution_count": null,
   "id": "a7b067b0-0f47-473f-849e-48b8cb91b8d1",
   "metadata": {
    "tags": []
   },
   "outputs": [],
   "source": [
    "def plot_reduced_over_bls():\n",
    "    images = {}\n",
    "\n",
    "    for subset, zsqs in metrics['bl_reduced_mean'].items():\n",
    "\n",
    "        jdidx = [data_jd_ints.index(jd) for jd in zscores[0].time_array[::zscores[0].Nbls].astype(int)]\n",
    "\n",
    "        images[subset] = zsqs[0][jdidx]\n",
    "\n",
    "    nrows = int(np.ceil(len(subsets)/3))\n",
    "\n",
    "    fig, ax = plt.subplots(nrows, 3, sharex=True, sharey=True, layout='constrained', figsize=(14, 3*nrows))\n",
    "\n",
    "    cmap = mpl.colors.ListedColormap([\"C0\", f\"C1\", f\"C3\"])\n",
    "\n",
    "    for i, (key, img) in enumerate(images.items()):\n",
    "        axx = ax.flatten()[i]\n",
    "        plt.sca(axx)\n",
    "\n",
    "        cbar = plt.imshow(\n",
    "            img, norm=mpl.colors.LogNorm( vmin=1, vmax=1000),\n",
    "            origin='lower',\n",
    "            extent=(\n",
    "                zscores[0].freq_array.min()/1e6, \n",
    "                zscores[0].freq_array.max()/1e6,\n",
    "                0,\n",
    "                len(data_jd_ints)\n",
    "            ),\n",
    "            cmap=cmap, aspect='auto',\n",
    "            interpolation='none',\n",
    "        )\n",
    "\n",
    "        #axx.xaxis.set_ticks(np.arange(img.shape[1]))\n",
    "        axx.yaxis.set_ticks(np.arange(img.shape[0]) +0.5)\n",
    "\n",
    "        #axx.xaxis.set_ticklabels([f\"<{b[1]}\" for b in bands_considered[:img.shape[1]]])\n",
    "        axx.yaxis.set_ticklabels(data_jd_ints)\n",
    "\n",
    "        axx.set_title(key.replace(\"baselines\", \"\"), pad=-3)\n",
    "\n",
    "        if i < 3:\n",
    "            axx.tick_params('x', labeltop=True, labelbottom=False, top=True)\n",
    "\n",
    "    for j in range(i+1, ax.size):\n",
    "        ax.flatten()[j].axis('off')\n",
    "\n",
    "    cbar = plt.colorbar(cbar, ax = ax)\n",
    "    cbar.set_label(r\"Mean $Z^2$ over bl subset\")"
   ]
  },
  {
   "cell_type": "code",
   "execution_count": null,
   "id": "ee644b1c-0ae0-4e0c-a7f7-c6e7f4d860e2",
   "metadata": {
    "tags": []
   },
   "outputs": [],
   "source": [
    "if make_plots:\n",
    "    plot_reduced_over_bls()"
   ]
  },
  {
   "cell_type": "markdown",
   "id": "66744163-0286-4fbd-a26f-d0774b3baa71",
   "metadata": {},
   "source": [
    "### Plot Selection of the Worst Visibilities"
   ]
  },
  {
   "cell_type": "code",
   "execution_count": null,
   "id": "367a6d8e-99c7-4456-b42e-2a376cbac976",
   "metadata": {
    "tags": []
   },
   "outputs": [],
   "source": [
    "def plot_visibilities_per_type(\n",
    "    lstbin_blpols: list[tuple[int, tuple[int, int, str]]], \n",
    "    stacks: list[UVData],\n",
    "    stats: lstmet.LSTBinStats,\n",
    "    comments: list[str],\n",
    "    freq_range=None | tuple[float, float] | list[tuple[int, int]], \n",
    "    label=None, \n",
    "    yrange=None,\n",
    "    alpha=0.5,\n",
    "):\n",
    "    all_figs = []\n",
    "    \n",
    "    lststyle = dict(color='k', lw=3, zorder=-1)\n",
    "    meta = stackconf.config.datameta\n",
    "    \n",
    "    if isinstance(freq_range, tuple):\n",
    "        mask = (meta.freq_array >= freq_range[0]) & (meta.freq_array < freq_range[1])\n",
    "        freqs=meta.freq_array[mask]/1e6\n",
    "    else:\n",
    "        mask = slice(None)\n",
    "        freqs = meta.freq_array/1e6\n",
    "\n",
    "    handles = []\n",
    "    for jdint, style in styles.items():\n",
    "        handles.append(mpl.lines.Line2D([0], [0], label=str(jdint), alpha=alpha, **style))\n",
    "\n",
    "            \n",
    "    for i, (comment, (lstidx, blpol)) in enumerate(zip(comments, lstbin_blpols)):\n",
    "        if isinstance(freq_range, list):\n",
    "            this_range = freq_range[i]\n",
    "            \n",
    "            # pad the range a bit\n",
    "            this_range = (max(this_range[0] - 100, 0), min(this_range[1]+100, 1536))\n",
    "            mask = slice(this_range[0], this_range[1])\n",
    "            freqs = meta.freq_array[mask]/1e6\n",
    "            \n",
    "        stack = stacks[lstidx]\n",
    "        zscore = zscores[lstidx]\n",
    "        \n",
    "        rawd = stack.get_data(blpol)[:, mask]        \n",
    "        rawf = stack.get_flags(blpol)[:, mask]\n",
    "        rawn = stack.get_nsamples(blpol)[:, mask]\n",
    "        inp = rawn < 0\n",
    "        \n",
    "        lstf = stats.flags[blpol][lstidx, mask]\n",
    "        lstd = stats.mean[blpol][lstidx, mask]\n",
    "        lstn = stats.nsamples[blpol][lstidx, mask]\n",
    "        \n",
    "        lstmed = stats.mean[blpol][lstidx, mask]  # actually mean\n",
    "        lstmad = stats.mad[blpol][lstidx, mask]\n",
    "        \n",
    "        zsq = zscore.get_data(blpol)[:, mask].real\n",
    "        \n",
    "        if np.all(lstf):\n",
    "            print(\"ALL FLAGGED\")\n",
    "            continue\n",
    "            \n",
    "        fig, ax = plt.subplots(\n",
    "            4, 2, \n",
    "            sharex=True, figsize=(15, 8), \n",
    "            constrained_layout=True, gridspec_kw={'height_ratios': (2,1,2,1)}\n",
    "        )\n",
    "        \n",
    "        nights_in = set()\n",
    "\n",
    "        mag = np.where(rawf, np.nan, np.abs(rawd))\n",
    "#        phs = np.where(rawf, np.nan, np.angle(rawd))\n",
    "        rl = np.where(rawf, np.nan, rawd.real)\n",
    "        im = np.where(rawf, np.nan, rawd.imag)\n",
    "        \n",
    "        maglstbin = np.where(lstf, np.nan, np.abs(lstd))\n",
    "#        phslstbin = np.where(lstf, np.nan, np.angle(lstd))\n",
    "        rllstbin = np.where(lstf, np.nan, lstd.real)\n",
    "        imlstbin = np.where(lstf, np.nan, lstd.imag)\n",
    "        \n",
    "        rllstbin_med = np.where(lstf, np.nan, lstmed.real)\n",
    "        imlstbin_med = np.where(lstf, np.nan, lstmed.imag)\n",
    "        rllstbin_mad = np.where(lstf, np.nan, lstmad.real)\n",
    "        imlstbin_mad = np.where(lstf, np.nan, lstmad.imag)\n",
    "                \n",
    "        ax[0, 0].plot(freqs, maglstbin, **lststyle)\n",
    "        ax[0, 1].plot(freqs, rllstbin, **lststyle)                \n",
    "        ax[2, 1].plot(freqs, imlstbin, **lststyle)\n",
    "        \n",
    "        for jdidx, jd in enumerate(stack.time_array[::stack.Nbls]):\n",
    "            jdint = int(jd)\n",
    "            \n",
    "            style = styles[jdint]\n",
    "\n",
    "            if np.all(rawf[jdidx]):\n",
    "                continue\n",
    "\n",
    "            thisinp = inp[jdidx]\n",
    "            inp_ranges = consecutive(np.nonzero(thisinp)[0])\n",
    "            \n",
    "            # Amplitude and Phase\n",
    "            ax[0, 0].plot(freqs, mag[jdidx], **style)\n",
    "            for rng in inp_ranges:\n",
    "                ax[0, 0].fill_between(freqs[rng[0]:rng[1]], mag[jdidx, rng[0]:rng[1]], maglstbin[rng[0]:rng[1]], color=style['color'], alpha=0.2)\n",
    "                \n",
    "            ax[1, 0].plot(freqs, mag[jdidx] - maglstbin, **style)\n",
    "            for rng in inp_ranges:\n",
    "                ax[1, 0].fill_between(freqs[rng[0]:rng[1]], mag[jdidx, rng[0]:rng[1]] - maglstbin[rng[0]:rng[1]], 0, color=style['color'], alpha=0.2)\n",
    "            \n",
    "            ax[2, 0].plot(freqs, zsq[jdidx], **style)\n",
    "            for rng in inp_ranges:\n",
    "                ax[2, 0].fill_between(freqs[rng[0]:rng[1]], zsq[jdidx, rng[0]:rng[1]], 0, color=style['color'], alpha=0.2)\n",
    "\n",
    "            # Real / Imag\n",
    "            ax[0, 1].plot(freqs, rl[jdidx], **style)\n",
    "            for rng in inp_ranges:\n",
    "                ax[0, 1].fill_between(freqs[rng[0]:rng[1]], rl[jdidx, rng[0]:rng[1]], rllstbin[rng[0]:rng[1]], color=style['color'], alpha=0.2)\n",
    "            \n",
    "            rldiff = (rl[jdidx] - rllstbin_med)/rllstbin_mad\n",
    "            ax[1, 1].plot(freqs, rldiff, **style)\n",
    "            for rng in inp_ranges:\n",
    "                ax[1,1].fill_between(freqs[rng[0]:rng[1]], rldiff[rng[0]:rng[1]], 0, color=style['color'], alpha=0.2)\n",
    "            \n",
    "            ax[2, 1].plot(freqs, im[jdidx], **style)\n",
    "            for rng in inp_ranges:\n",
    "                ax[2, 1].fill_between(freqs[rng[0]:rng[1]], im[jdidx, rng[0]:rng[1]], imlstbin[rng[0]:rng[1]], color=style['color'], alpha=0.2)\n",
    "            \n",
    "            imdiff = (im[jdidx] - imlstbin_med)/imlstbin_mad\n",
    "            ax[3, 1].plot(freqs, (im[jdidx] - imlstbin_med)/imlstbin_mad, **style)\n",
    "            for rng in inp_ranges:\n",
    "                ax[3,1].fill_between(freqs[rng[0]:rng[1]], imdiff[rng[0]:rng[1]], 0, color=style['color'], alpha=0.2)\n",
    "\n",
    "            if yrange:\n",
    "                ax[0, 0].set_ylim(yrange)\n",
    "\n",
    "        ax[1,1].axhline(4, color='gray', ls='--')\n",
    "        ax[1,1].axhline(-4, color='gray', ls='--')\n",
    "\n",
    "        ax[3,1].axhline(4, color='gray', ls='--')\n",
    "        ax[3,1].axhline(-4, color='gray', ls='--')\n",
    "            \n",
    "        bl_coords = stackconf.config.datameta.antpos_enu[blpol[0]] - stackconf.config.datameta.antpos_enu[blpol[1]]\n",
    "        \n",
    "        fig.suptitle(\n",
    "            f\"Baseline: {blpol} [{bl_coords[0]:.1f}-EW, {bl_coords[1]:.1f}-NS]. \"\n",
    "            f\"LST = {stackconf.lst_grid[0]*12/np.pi:.5f} hr.\"\n",
    "        )\n",
    "        ax[-1, 0].set_xlabel(\"Frequency [MHz]\")\n",
    "        ax[-1, 1].set_xlabel(\"Frequency [MHz]\")\n",
    "        \n",
    "        ax[0, 0].set_ylabel(\"Magnitude\")\n",
    "        ax[0, 1].set_ylabel(\"Real Part\")\n",
    "        \n",
    "        ax[1, 0].set_ylabel(\"Magnitude Diff\")\n",
    "        ax[1, 1].set_ylabel(\"Real Z-score\")\n",
    "        ax[1, 1].set_ylim(-7, 7)\n",
    "        \n",
    "        ax[2, 0].set_ylabel(r\"$Z^2$\")\n",
    "        ax[2, 0].set_yscale('log')\n",
    "        ax[2, 0].set_ylim(1e-1,)\n",
    "        \n",
    "        ax[2, 1].set_ylabel(\"Imag Part\")\n",
    "        \n",
    "        #ax[3, 0].set_ylabel(\"Phase Diff\")\n",
    "        ax[3, 1].set_ylabel(\"Imag Z-score\")\n",
    "        ax[3, 1].set_ylim(-7, 7)\n",
    "        ax[0, 0].legend(handles=handles, ncols=5)\n",
    "\n",
    "        ax[0,1].text(0.95, 0.95, comment, transform=ax[0,1].transAxes, ha='right', va='top')\n",
    "\n",
    "        for axx in ax.flatten():\n",
    "            for line in range(0, 1536, 200):\n",
    "                axx.axvline(meta.freq_array[line]/1e6, color='gray', alpha=0.4)\n",
    "            axx.set_xlim(freqs[0], freqs[-1])\n",
    "            \n",
    "        all_figs.append(fig)\n",
    "        \n",
    "    return all_figs "
   ]
  },
  {
   "cell_type": "code",
   "execution_count": null,
   "id": "ebe47d99-b5b3-4efa-aa53-25ee8429717e",
   "metadata": {
    "tags": []
   },
   "outputs": [],
   "source": [
    "def get_worst_mean_over_each_band(n=1):\n",
    "    bad_fellas = {}\n",
    "\n",
    "    nights0 = [data_jd_ints.index(jd) for jd in zscores[0].time_array[::zscores[0].Nbls].astype(int)]\n",
    "    nights1 = [data_jd_ints.index(jd) for jd in zscores[1].time_array[::zscores[1].Nbls].astype(int)]\n",
    "        \n",
    "    newmeans = {band: np.ones((len(zscores), len(data_jd_ints), len(stackconf.antpairs), len(stackconf.pols)))*np.nan for band in metrics['band_reduced_mean']}\n",
    "    \n",
    "    for band, zsqs in metrics['band_reduced_mean'].items():\n",
    "        # zsqs is length(lstbins), where each is an array of shape (nights, antpairs, pols)\n",
    "        # however, the number of nights for each lstbin could be different, so make them the same here....\n",
    "        newmeans[band][0, nights0] = zsqs[0]\n",
    "        newmeans[band][1, nights1] = zsqs[1]\n",
    "        \n",
    "    lst_night_bl_pols = [(lst, jd, bl + (pol,)) for lst in range(len(zscores)) for jd in data_jd_ints for bl in stackconf.antpairs for pol in stackconf.pols]\n",
    "    \n",
    "    for band, zsq in newmeans.items():\n",
    "        zsq = np.where(np.isnan(zsq.flatten()), -1, zsq.flatten())\n",
    "        \n",
    "        worst_idx = np.argpartition(zsq, -n)[-n:]\n",
    "        worst_zsq = zsq[worst_idx]\n",
    "        worst_idx = worst_idx[np.argsort(-worst_zsq)]\n",
    "        \n",
    "        for idx, z in zip(worst_idx, worst_zsq):\n",
    "            lst, jd, bl = lst_night_bl_pols[idx]\n",
    "            \n",
    "            if (lst, bl) not in bad_fellas:\n",
    "                bad_fellas[(lst, bl)] = []\n",
    "                \n",
    "            bad_fellas[(lst, bl)].append((jd, z, fr\"Worst $Z^2$ in band {band[0]}-{band[1]}\", band))\n",
    "\n",
    "    return bad_fellas\n"
   ]
  },
  {
   "cell_type": "code",
   "execution_count": null,
   "id": "96fa5d88-9894-4ad1-87cc-e8bc2d0ae345",
   "metadata": {
    "tags": []
   },
   "outputs": [],
   "source": [
    "def get_worst_mean_for_continuously_bad_stuff(n=1):\n",
    "    \n",
    "    bad_fellas = {}\n",
    "    \n",
    "    chsizes = [(1, 2), (2, 10), (10, 20), (20, 50), (50, 100), (100, 1536)]\n",
    "    sized = {ch: {} for ch in chsizes}\n",
    "    for k, v in allbad.items():\n",
    "        s = k[-1] - k[-2]  # size of chunk\n",
    "        if s == 1:\n",
    "            continue\n",
    "        \n",
    "        for i, ch in enumerate(chsizes):\n",
    "            if ch[0] <= s < ch[1]:\n",
    "                sized[ch][k] = v\n",
    "\n",
    "    for chsize, thesebads in sized.items():\n",
    "        \n",
    "        keys = list(thesebads.keys())\n",
    "        meanz = np.array([np.nanmean(v) for v in thesebads.values()])\n",
    "        \n",
    "        worst_idx = np.argpartition(meanz, -n)[-n:]\n",
    "        worst_zsq = meanz[worst_idx]\n",
    "        worst_idx = worst_idx[np.argsort(-worst_zsq)]\n",
    "\n",
    "        for idx, z in zip(worst_idx, worst_zsq):\n",
    "            lst, a, b, pol, jdint, low, high = keys[idx]\n",
    "            bl = (a, b, stackconf.pols[pol])\n",
    "            \n",
    "            if (lst, bl) not in bad_fellas:\n",
    "            \n",
    "                bad_fellas[(lst, bl)] = []\n",
    "\n",
    "            bad_fellas[(lst, bl)].append((int(jdint), z, fr\"Worst $Z^2$ over {chsize[0]}-{chsize[1]} channels\",(low, high)))\n",
    "    return bad_fellas"
   ]
  },
  {
   "cell_type": "code",
   "execution_count": null,
   "id": "ab09d780-5163-4167-9f2f-823c2ad75fed",
   "metadata": {
    "tags": []
   },
   "outputs": [],
   "source": [
    "def get_worst_continuous_bad_zscore(n=1):\n",
    "    bad_fellas = {}\n",
    "    nights0 = [data_jd_ints.index(jd) for jd in zscores[0].time_array[::zscores[0].Nbls].astype(int)]\n",
    "    nights1 = [data_jd_ints.index(jd) for jd in zscores[1].time_array[::zscores[1].Nbls].astype(int)]\n",
    "    \n",
    "    smallbands = [b for b in bands_considered if b[1] - b[0] <= 200]\n",
    "    \n",
    "    newmeans = np.ones(\n",
    "        (len(smallbands), len(zscores), len(data_jd_ints), len(stackconf.antpairs), len(stackconf.pols))\n",
    "    )*np.nan\n",
    "    \n",
    "    for i, band in enumerate(smallbands):\n",
    "        zsqs = metrics['band_reduced_mean'][band]\n",
    "        # zsqs is length(lstbins), where each is an array of shape (nights, antpairs, pols)\n",
    "        # however, the number of nights for each lstbin could be different, so make them the same here....\n",
    "        newmeans[i, 0, nights0] = zsqs[0]\n",
    "        newmeans[i, 1, nights1] = zsqs[1]\n",
    "\n",
    "    lst_night_bl_pols = [(lst, jd, bl + (pol,)) for lst in range(len(zscores)) for jd in data_jd_ints for bl in stackconf.antpairs for pol in stackconf.pols]\n",
    "\n",
    "    zsq = np.nanmin(newmeans, axis=0)\n",
    "    \n",
    "    zsq = np.where(np.isnan(zsq).flatten(), -1, zsq.flatten())\n",
    "    \n",
    "    worst_idx = np.argpartition(zsq, -n)[-n:]\n",
    "    worst_zsq = zsq[worst_idx]\n",
    "    worst_idx = worst_idx[np.argsort(-worst_zsq)]\n",
    "\n",
    "    for idx, z in zip(worst_idx, worst_zsq):\n",
    "        lst, jd, bl = lst_night_bl_pols[idx]\n",
    "\n",
    "        if (lst, bl) not in bad_fellas:\n",
    "            bad_fellas[(lst, bl)] = []\n",
    "\n",
    "        bad_fellas[(lst, bl)].append((jd, z, fr\"Worst min($Z^2$) over entire band\", (0, 1536)))\n",
    "\n",
    "    return bad_fellas\n"
   ]
  },
  {
   "cell_type": "code",
   "execution_count": null,
   "id": "15c78779-851d-4fc5-aa11-dfc9eeafa809",
   "metadata": {
    "tags": []
   },
   "outputs": [],
   "source": [
    "def get_bad_inpaints(n=1):\n",
    "    \n",
    "    bad_fellas = {}\n",
    "    \n",
    "    nights = [\n",
    "        zscores[0].time_array[::zscores[0].Nbls].astype(int).tolist(),\n",
    "        zscores[1].time_array[::zscores[1].Nbls].astype(int).tolist()\n",
    "    ]\n",
    "\n",
    "    chsizes = [(2, 5), (5, 10), (10, 20)]    \n",
    "    sized = {ch: {} for ch in chsizes}\n",
    "    for k, v in inpainted_regions.items():\n",
    "        s = k[-1] - k[-2]  # size of chunk\n",
    "        if s == 1:\n",
    "            continue\n",
    "        \n",
    "        for i, ch in enumerate(chsizes):\n",
    "            if ch[0] <= s < ch[1]:\n",
    "                sized[ch][k] = v\n",
    "                \n",
    "    for chsize, bads in sized.items():\n",
    "        \n",
    "        \n",
    "        keys = list(bads.keys())\n",
    "        \n",
    "        meanz = np.array([\n",
    "            np.nanmean(zscores[lst].get_data((a, b, stackconf.pols[pol]))[nights[lst].index(int(jdint)), low:high]) \n",
    "            for (lst, a, b, pol, jdint, low, high) in bads.keys()\n",
    "        ])\n",
    "        \n",
    "        worst_idx = np.argpartition(meanz, -n)[-n:]\n",
    "        worst_zsq = meanz[worst_idx]\n",
    "        worst_idx = worst_idx[np.argsort(-worst_zsq)]\n",
    "\n",
    "        for idx, z in zip(worst_idx, worst_zsq):\n",
    "            lst, a, b, pol, jdint, low, high = keys[idx]\n",
    "            bl = (a, b, stackconf.pols[pol])\n",
    "            \n",
    "            if (lst, bl) not in bad_fellas:\n",
    "            \n",
    "                bad_fellas[(lst, bl)] = []\n",
    "\n",
    "            bad_fellas[(lst, bl)].append((int(jdint), z, fr\"Worst inpainted $Z^2$ for {chsize[0]}-{chsize[1]} chans\", (low, high)))\n",
    "    return bad_fellas"
   ]
  },
  {
   "cell_type": "code",
   "execution_count": null,
   "id": "7b1dd92c-8099-45fe-91e8-6ecc727a9f1c",
   "metadata": {
    "tags": []
   },
   "outputs": [],
   "source": [
    "if make_plots:\n",
    "    worst_mean_over_each_band = get_worst_mean_over_each_band(n=plot_n_worst)"
   ]
  },
  {
   "cell_type": "code",
   "execution_count": null,
   "id": "0c580443-25d1-4785-8523-7606e818d394",
   "metadata": {
    "tags": []
   },
   "outputs": [],
   "source": [
    "if make_plots:\n",
    "    worst_mean_for_continously_bad = get_worst_mean_for_continuously_bad_stuff(n=plot_n_worst)"
   ]
  },
  {
   "cell_type": "code",
   "execution_count": null,
   "id": "d27b92f3-b330-4ea4-8a97-fd8c43a75142",
   "metadata": {
    "tags": []
   },
   "outputs": [],
   "source": [
    "if make_plots:\n",
    "    worst_minimum_zscores_over_bands = get_worst_continuous_bad_zscore(n=plot_n_worst)"
   ]
  },
  {
   "cell_type": "code",
   "execution_count": null,
   "id": "f45b9bce-e745-4fb4-a9b9-4384aaa9728a",
   "metadata": {
    "tags": []
   },
   "outputs": [],
   "source": [
    "if make_plots:\n",
    "    worst_inpainted_regions = get_bad_inpaints(n=plot_n_worst)"
   ]
  },
  {
   "cell_type": "code",
   "execution_count": null,
   "id": "c99e810f-721a-4113-a94a-c58488e12999",
   "metadata": {
    "tags": []
   },
   "outputs": [],
   "source": [
    "if make_plots:\n",
    "    # Merge all the things that we want to take a closer look at\n",
    "    badstuff = {}\n",
    "\n",
    "    for dct in (worst_mean_over_each_band, worst_mean_for_continously_bad, worst_minimum_zscores_over_bands, worst_inpainted_regions):\n",
    "        for k, v in dct.items():\n",
    "            if k not in badstuff:\n",
    "                badstuff[k] = []\n",
    "\n",
    "            badstuff[k].extend(v)"
   ]
  },
  {
   "cell_type": "code",
   "execution_count": null,
   "id": "51d30300-47df-4748-b139-bc65dd026490",
   "metadata": {
    "tags": []
   },
   "outputs": [],
   "source": [
    "if make_plots:\n",
    "    freq_ranges = [sum((vv[-1] for vv in v), start=()) for v in badstuff.values()]\n",
    "    freq_ranges = [(min(v), max(v)) for v in freq_ranges]\n",
    "\n",
    "    plot_visibilities_per_type(\n",
    "        lstbin_blpols= list(badstuff.keys()), \n",
    "        stacks= cross_stacks,\n",
    "        stats= cross_stats,\n",
    "        comments=[\"\\n\".join([f\"{vv[-2]}: {vv[0]}\" for vv in v]) for v in badstuff.values()],\n",
    "        freq_range=freq_ranges,\n",
    "        alpha=0.5,\n",
    "    );"
   ]
  },
  {
   "cell_type": "markdown",
   "id": "9b41bf66-9ebe-45dd-8c68-0a85754f5494",
   "metadata": {},
   "source": [
    "### Write Out Metrics"
   ]
  },
  {
   "cell_type": "code",
   "execution_count": null,
   "id": "478f0b66-50b5-4557-af8f-98276692c89d",
   "metadata": {
    "tags": []
   },
   "outputs": [],
   "source": [
    "# Write out the \"bad\" data\n",
    "fname = out_fname.format(kind='LSTBIN-METRICS')"
   ]
  },
  {
   "cell_type": "code",
   "execution_count": null,
   "id": "15c73052-e21e-4863-a918-53bf6b3583a8",
   "metadata": {
    "tags": []
   },
   "outputs": [],
   "source": [
    "if save_metric_data:\n",
    "    def write_metric(grp, metric: dict[str, list[np.ndarray]]):\n",
    "        for key in metric:\n",
    "            _grp = grp.create_group(str(key))\n",
    "\n",
    "            for i, lstbin in enumerate(metric[key]):\n",
    "                _grp[f'zsqmean-{i}'] = lstbin\n",
    "\n",
    "\n",
    "    with h5py.File(outdir / fname, 'w') as fl:\n",
    "\n",
    "        meta = fl.create_group(\"meta\")\n",
    "        meta['pols'] = stackconf.pols\n",
    "        meta['ant1'] = np.array([a for a, b in stackconf.antpairs])\n",
    "        meta['ant2'] = np.array([b for a, b in stackconf.antpairs])\n",
    "        meta['freqs'] = stackconf.config.datameta.freq_array\n",
    "        nights = meta.create_group(\"nights\")\n",
    "        for i, nght in enumerate(zscores):\n",
    "            nights[str(i)] = nght.time_array[::nght.Nbls].astype(int)\n",
    "\n",
    "        mgrp = fl.create_group(\"metrics\")\n",
    "\n",
    "        for name, mtrc in metrics.items():\n",
    "            if name=='night_reduced_mean':\n",
    "                # night reduced mean is different -- simply an array\n",
    "                nrm = mgrp.create_group(\"night_reduced_mean\")\n",
    "                for i, val in enumerate(mtrc):\n",
    "                    nrm[f'zsqmean-{i}'] = val\n",
    "            else:\n",
    "                write_metric(mgrp.create_group(name), mtrc)\n",
    "        \n",
    "        "
   ]
  },
  {
   "cell_type": "markdown",
   "id": "c5f27a43-3dfe-4823-a73b-42f01ff0c823",
   "metadata": {},
   "source": [
    "## Notebook Metadata and Software Versions"
   ]
  },
  {
   "cell_type": "code",
   "execution_count": null,
   "id": "0cac8e81-b343-4af2-bbc7-2462785751c6",
   "metadata": {
    "tags": []
   },
   "outputs": [],
   "source": [
    "for repo in ['numpy', 'scipy', 'astropy', 'hera_cal', 'hera_qm', 'hera_filters', 'hera_notebook_templates', 'pyuvdata']:\n",
    "    exec(f'from {repo} import __version__')\n",
    "    print(f'{repo:>25}: {__version__}')"
   ]
  },
  {
   "cell_type": "code",
   "execution_count": null,
   "id": "410a246a-5bba-495c-9c08-f5069bea6787",
   "metadata": {
    "tags": []
   },
   "outputs": [],
   "source": [
    "print(\"Run by: \")\n",
    "os.system(\"whoami\");"
   ]
  },
  {
   "cell_type": "code",
   "execution_count": null,
   "id": "25b9c5cd-532d-4ca6-9416-a8383705b18b",
   "metadata": {
    "tags": []
   },
   "outputs": [],
   "source": [
    "print(f\"Run on {datetime.now()}\")"
   ]
  },
  {
   "cell_type": "code",
   "execution_count": null,
   "id": "e58dd072-07af-4ebb-b80c-e67f6ad845c7",
   "metadata": {
    "tags": []
   },
   "outputs": [],
   "source": [
    "print(f\"Execution of notebook took: {(_time() - start_time)/60.0:.2f} minutes\")"
   ]
  },
  {
   "cell_type": "code",
   "execution_count": null,
   "id": "f80ccf05-a877-4ac7-adb6-049c5ad5e8ce",
   "metadata": {
    "tags": []
   },
   "outputs": [],
   "source": [
    "print(f\"Peak memory in this notebook run: {resource.getrusage(resource.RUSAGE_SELF).ru_maxrss / 1024**2:.2f} GB\")"
   ]
  }
 ],
 "metadata": {
  "kernelspec": {
   "display_name": "h6c",
   "language": "python",
   "name": "h6c"
  },
  "language_info": {
   "codemirror_mode": {
    "name": "ipython",
    "version": 3
   },
   "file_extension": ".py",
   "mimetype": "text/x-python",
   "name": "python",
   "nbconvert_exporter": "python",
   "pygments_lexer": "ipython3",
   "version": "3.10.6"
  },
  "toc": {
   "base_numbering": 1,
   "nav_menu": {},
   "number_sections": true,
   "sideBar": true,
   "skip_h1_title": true,
   "title_cell": "Table of Contents",
   "title_sidebar": "Contents",
   "toc_cell": true,
   "toc_position": {},
   "toc_section_display": true,
   "toc_window_display": true
  },
  "toc-showtags": true
 },
 "nbformat": 4,
 "nbformat_minor": 5
}
