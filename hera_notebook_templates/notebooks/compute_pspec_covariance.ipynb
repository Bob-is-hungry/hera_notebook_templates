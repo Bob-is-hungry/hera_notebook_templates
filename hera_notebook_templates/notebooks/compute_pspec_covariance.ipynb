{
 "cells": [
  {
   "cell_type": "code",
   "execution_count": 1,
   "id": "1af43796",
   "metadata": {
    "execution": {
     "iopub.execute_input": "2025-03-21T09:47:36.952195Z",
     "iopub.status.busy": "2025-03-21T09:47:36.951958Z",
     "iopub.status.idle": "2025-03-21T09:47:36.954928Z",
     "shell.execute_reply": "2025-03-21T09:47:36.954422Z",
     "shell.execute_reply.started": "2025-03-21T09:47:36.952175Z"
    }
   },
   "outputs": [],
   "source": [
    "import time\n",
    "tstart = time.time()"
   ]
  },
  {
   "cell_type": "code",
   "execution_count": 2,
   "id": "b89703f1",
   "metadata": {
    "execution": {
     "iopub.execute_input": "2025-03-21T09:47:37.524151Z",
     "iopub.status.busy": "2025-03-21T09:47:37.523894Z",
     "iopub.status.idle": "2025-03-21T09:47:57.821470Z",
     "shell.execute_reply": "2025-03-21T09:47:57.820845Z",
     "shell.execute_reply.started": "2025-03-21T09:47:37.524132Z"
    }
   },
   "outputs": [],
   "source": [
    "import os\n",
    "os.environ['HDF5_USE_FILE_LOCKING'] = 'FALSE'\n",
    "import h5py\n",
    "import hdf5plugin  # REQUIRED to have the compression plugins available\n",
    "import numpy as np\n",
    "import pandas as pd\n",
    "import re\n",
    "from functools import reduce\n",
    "import matplotlib.pyplot as plt\n",
    "import matplotlib\n",
    "import copy\n",
    "import warnings\n",
    "from astropy import units\n",
    "from scipy import constants, interpolate, special\n",
    "from scipy.signal.windows import dpss\n",
    "from pyuvdata import UVBeam\n",
    "from pyuvdata import utils as uvutils\n",
    "from hera_cal import io, utils, vis_clean, frf, datacontainer, noise, redcal\n",
    "from hera_qm.time_series_metrics import true_stretches\n",
    "from hera_filters import dspec\n",
    "import hera_pspec as hp\n",
    "import uvtools\n",
    "from IPython.display import HTML\n",
    "from pathlib import Path\n",
    "import sys"
   ]
  },
  {
   "cell_type": "code",
   "execution_count": 3,
   "id": "c0ef4454",
   "metadata": {
    "execution": {
     "iopub.execute_input": "2025-03-21T09:47:57.822700Z",
     "iopub.status.busy": "2025-03-21T09:47:57.822340Z",
     "iopub.status.idle": "2025-03-21T09:47:57.826555Z",
     "shell.execute_reply": "2025-03-21T09:47:57.826083Z",
     "shell.execute_reply.started": "2025-03-21T09:47:57.822678Z"
    }
   },
   "outputs": [],
   "source": [
    "TAPER = \"bh\"\n",
    "EFIELD_HEALPIX_BEAM_FILE = (\n",
    "    \"/lustre/aoc/projects/hera/H4C/beams/NF_HERA_Vivaldi_efield_beam_healpix.fits\"\n",
    ")\n",
    "EFIELD_HEALPIX_BEAM_FILE = Path(EFIELD_HEALPIX_BEAM_FILE)\n",
    "CORR_MATRIX_NOTCH_CUTOFF = 30.0\n",
    "CORR_MATRIX_FREQ_DECIMATION = 10\n",
    "USE_CORR_MATRIX = True\n",
    "TARGET_AVERAGING_TIME = 300\n",
    "FR_EIGENVAL_CUTOFF = 1e-12\n",
    "FR_QUANTILE_HIGH = 0.95\n",
    "FR_QUANTILE_LOW = 0.05\n",
    "FR_SPECTRA_FILE = \"/lustre/aoc/projects/hera/zmartino/hera_frf/spectra_cache/spectra_cache_hera_core.h5\"\n",
    "FR_SPECTRA_FILE = Path(FR_SPECTRA_FILE)\n",
    "XTALK_FR = 0.01\n",
    "NINTERLEAVE = 4\n",
    "INTEGRATION_FLAG_CUT = 0.2\n",
    "CHANNEL_FLAG_CUT = 0.0\n",
    "PIXEL_FLAG_CUT = 0.0\n",
    "FM_CUT_FREQ = 100000000.0\n",
    "FLAG_COHERENT_CHUNKS = False\n",
    "USE_BAND_AVG_NSAMPLES = True\n",
    "BAND_STR = \"50.1~62.2,63.3~73.5,74.6~85.4,108.0~116.1,117.3~124.4,125.3~136.2,138.3~148.2,150.1~159.2,159.3~169.9,171.9~181.1,181.4~196.4,198.5~208.4,212.3~220.6,224.4~231.1\"\n"
   ]
  },
  {
   "cell_type": "code",
   "execution_count": 10,
   "id": "11bbcdf7-49c2-444e-afde-602353c02789",
   "metadata": {
    "execution": {
     "iopub.execute_input": "2025-03-21T09:49:32.695319Z",
     "iopub.status.busy": "2025-03-21T09:49:32.695002Z",
     "iopub.status.idle": "2025-03-21T09:49:32.717075Z",
     "shell.execute_reply": "2025-03-21T09:49:32.716547Z",
     "shell.execute_reply.started": "2025-03-21T09:49:32.695300Z"
    }
   },
   "outputs": [],
   "source": [
    "import hera_pspec as hp\n",
    "import numpy as np\n",
    "from scipy import special, integrate\n",
    "import uvtools.dspec as dspec\n",
    "from hera_pspec import uvwindow, conversions\n",
    "from astropy import constants\n",
    "import copy\n",
    "\n",
    "class simple_pspec:\n",
    "    def __init__(self, vis1, vis2, nsample1, nsample2, \n",
    "                 freqs, beamfunc, beamtype=\"healpix\",\n",
    "                 cosmo=None, little_h=True,\n",
    "                 vis_unit='mK', taper='blackman-harris'):\n",
    "        self.spw_Nfreqs = freqs.size\n",
    "        self.spw_Ndlys  = freqs.size\n",
    "        self.x1 = copy.deepcopy(vis1)\n",
    "        self.x2 = copy.deepcopy(vis2)\n",
    "        self.w1 = nsample1\n",
    "        self.w2 = nsample2\n",
    "        self.freqs = freqs  \n",
    "        df = np.median(np.diff(self.freqs))\n",
    "        self.delays = np.fft.fftshift(np.fft.fftfreq(self.spw_Ndlys, d=df)) #in sec\n",
    "        \n",
    "        self.taper = taper\n",
    "        self.Q_alt = {}\n",
    "        if self.taper == 'none':\n",
    "            self.taper_func = np.ones(self.spw_Nfreqs)\n",
    "        else:\n",
    "            self.taper_func = dspec.gen_window(self.taper, self.spw_Nfreqs)\n",
    "            \n",
    "        if beamtype == \"healpix\":\n",
    "            raise NotImplementedError\n",
    "            \n",
    "        elif beamtype == \"pspec_beam\":\n",
    "            if type(beamfunc) == hp.pspecbeam.PSpecBeamUV:\n",
    "                _beam, beam_omega, N = \\\n",
    "                beamfunc.beam_normalized_response(pol='pI', freq=self.freqs)\n",
    "            elif type(beamfunc) == tuple:\n",
    "                assert len(beamfunc) == 3, \"Invalid beam function\"\n",
    "                _beam, beam_omega, N = beamfunc\n",
    "            else:\n",
    "                raise ValueError(\"Invalid beam function\")\n",
    "            \n",
    "            self.omega_p = beam_omega.real\n",
    "            self.omega_pp = np.sum(_beam**2, axis=-1).real*np.pi/(3.*N*N)\n",
    "            _beam = _beam/self.omega_p[:, None]\n",
    "            \n",
    "            self.qnorm_exact = np.pi/(3.*N*N) * np.dot(_beam, _beam.T)\n",
    "            self.qnorm_exact *= np.median(np.diff(self.delays))\n",
    "            \n",
    "        elif beamtype == \"azimuthal\":\n",
    "            _th = np.linspace(0, np.pi/2, 500) #Only above the ground\n",
    "            _beam = beamfunc(_th, self.freqs)\n",
    "            self.omega_p = 2*np.pi*integrate.simpson(_beam*np.sin(_th), x=_th, axis=-1)\n",
    "            self.omega_pp = 2*np.pi*integrate.simpson(_beam**2*np.sin(_th), x=_th, axis=-1)\n",
    "\n",
    "            _beam = _beam/self.omega_p[:, None]\n",
    "            self.qnorm_exact = 2*np.pi*integrate.simpson(_beam[:, None, :]*_beam[None, :, :]*np.sin(_th), x=_th, axis=-1)\n",
    "            self.qnorm_exact *= np.median(np.diff(self.delays))\n",
    "        \n",
    "        else:\n",
    "            raise NotImplementedError\n",
    "\n",
    "        if cosmo is not None:\n",
    "            self.cosmo = cosmo\n",
    "        else:\n",
    "            self.cosmo = conversions.Cosmo_Conversions()\n",
    "        df = np.median(np.diff(self.freqs))\n",
    "        integration_freqs = np.linspace(self.freqs.min(),\n",
    "                                        self.freqs.min() + df*self.spw_Nfreqs,\n",
    "                                        5000, endpoint=True, dtype=float)\n",
    "        integration_freqs_MHz = integration_freqs / 1e6\n",
    "\n",
    "        # Get redshifts and cosmological functions\n",
    "        redshifts = self.cosmo.f2z(integration_freqs).flatten()\n",
    "        X2Y = np.array([self.cosmo.X2Y(z, little_h=little_h) for z in redshifts])\n",
    "        self.scalar = integrate.trapezoid(X2Y, x=integration_freqs)/(np.abs(integration_freqs[-1]-integration_freqs[0]))\n",
    "        \n",
    "        if vis_unit == 'Jy':\n",
    "            c =  constants.c.cgs.value\n",
    "            k_b =  constants.k_B.cgs.value\n",
    "            self.Jy2mK = 1e3 * 1e-23 * c**2 / (2 * k_b * self.freqs**2 * self.omega_p)\n",
    "            self.x1 *= self.Jy2mK\n",
    "            self.x2 *= self.Jy2mK\n",
    "        \n",
    "    def get_R(self):\n",
    "        return np.diag(self.taper_func)\n",
    "        \n",
    "    def get_Q_alt(self, mode):\n",
    "        try:\n",
    "            Q_alt = self.Q_alt[mode]\n",
    "        except KeyError:\n",
    "            if self.spw_Ndlys % 2 == 0:\n",
    "                start_idx = -self.spw_Ndlys/2\n",
    "            else:\n",
    "                start_idx = -(self.spw_Ndlys - 1)/2\n",
    "            m = (start_idx + mode) * np.arange(self.spw_Nfreqs)\n",
    "            m = np.exp(-2j * np.pi * m / self.spw_Ndlys)\n",
    "            Q_alt = np.einsum('i,j', m.conj(), m) # dot it with its conjugate\n",
    "            self.Q_alt[mode] = Q_alt\n",
    "            \n",
    "        return Q_alt \n",
    "        \n",
    "    def get_GH(self, operator=None):\n",
    "        G = np.zeros((self.spw_Ndlys, self.spw_Ndlys), dtype=complex)\n",
    "        H = np.zeros((self.spw_Ndlys, self.spw_Ndlys), dtype=complex)\n",
    "        R = self.get_R()\n",
    "        \n",
    "        sinc_matrix = np.zeros((self.spw_Nfreqs, self.spw_Nfreqs))\n",
    "        for i in range(self.spw_Nfreqs):\n",
    "            for j in range(self.spw_Nfreqs):\n",
    "                sinc_matrix[i,j] = float(i - j)\n",
    "        sinc_matrix = np.sinc(sinc_matrix / float(self.spw_Nfreqs))\n",
    "        \n",
    "        iR1Q1, iR2Q2, iR1Q1_win, iR2Q2_win = {}, {}, {}, {}\n",
    "        for ch in range(self.spw_Ndlys):\n",
    "            Q_alt = self.get_Q_alt(ch)\n",
    "            if operator is not None:\n",
    "                iR1Q1[ch] = np.conj(operator).T@np.conj(R).T@(Q_alt) # O R_1 Q_alt\n",
    "                iR2Q2[ch] = R@operator@(Q_alt* self.qnorm_exact) # R_2 OQ_true\n",
    "                iR1Q1_win[ch] = iR1Q1[ch] #np.conj(operator).T@np.conj(R).T@(Q_alt) # O R_1 Q_alt\n",
    "                iR2Q2_win[ch] = R@operator@(Q_alt* self.qnorm_exact * sinc_matrix) # R_2 O Q_true\n",
    "            else:\n",
    "                iR1Q1[ch] = np.conj(R).T@(Q_alt) # R_1 Q_alt\n",
    "                iR2Q2[ch] = R@(Q_alt * self.qnorm_exact) # R_2 Q_true                \n",
    "                iR1Q1_win[ch] = iR1Q1[ch] # R_1 Q_alt\n",
    "                iR2Q2_win[ch] = R@(Q_alt* self.qnorm_exact * sinc_matrix) # R_2 Q_true\n",
    "            \n",
    "        for i in range(self.spw_Ndlys):\n",
    "            for j in range(self.spw_Ndlys):\n",
    "                # tr(R_2 Q_i R_1 Q_j)\n",
    "                G[i,j] = np.einsum('ab,ba', iR1Q1[i], iR2Q2[j])  \n",
    "                H[i,j] = np.einsum('ab,ba', iR1Q1_win[i], iR2Q2_win[j])\n",
    "        if np.count_nonzero(G) == 0:\n",
    "            G = np.eye(self.spw_Ndlys)\n",
    "        if np.count_nonzero(H) == 0:\n",
    "            H = np.eye(self.spw_Ndlys)            \n",
    "        self.G = G/2.\n",
    "        self.H = H/2.\n",
    "        return G/2., H/2. \n",
    "\n",
    "    def get_MW(self, GH=None, operator=None):\n",
    "        if GH is None:\n",
    "            if hasattr(self, 'G'):\n",
    "                G, H = self.G, self.H\n",
    "            else:\n",
    "                G, H = self.get_GH(operator)\n",
    "        else:\n",
    "            G, H = GH\n",
    "        M = np.diag(1. / np.sum(G, axis=1)) \n",
    "        W_norm = np.diag(1. / np.sum(H, axis=1))\n",
    "        W = np.dot(W_norm, H)\n",
    "        return M, W\n",
    "    \n",
    "    def p_hat(self, calc_cov=False, Cnos1=None, Cnos2=None, SN=False, s_model=None):\n",
    "        R = self.get_R()\n",
    "        Rx1 = np.dot(R, self.x1.T)\n",
    "        Rx2 = np.dot(R, self.x2.T)\n",
    "        Q_alt_tensor = np.array([self.get_Q_alt(mode) for mode in range(self.spw_Ndlys)])\n",
    "        QRx2 = np.dot(Q_alt_tensor, Rx2)\n",
    "        q = 1/2*np.einsum('i...,ji...->j...', Rx1.conj(), QRx2)\n",
    "        \n",
    "        M, W = self.get_MW()\n",
    "        M *= self.scalar\n",
    "        p = M@q\n",
    "        \n",
    "        if calc_cov:\n",
    "            if hasattr(self, 'E_matrices'):\n",
    "                E_matrices = self.E_matrices\n",
    "            else:\n",
    "                E_matrices = 1/2*np.diag(np.conj(R).T)[None, :, None]*Q_alt_tensor*np.diag(R)[None, None, :]\n",
    "                E_matrices = np.einsum('ab, bij->aij', M, E_matrices)\n",
    "                self.E_matrices = E_matrices\n",
    "\n",
    "            Cnos1 = Cnos1.astype(np.complex128)\n",
    "            if Cnos2 is None:\n",
    "                Cnos2 = Cnos1.astype(np.complex128)\n",
    "            else:\n",
    "                Cnos2 = Cnos2.astype(np.complex128)\n",
    "            \n",
    "            if hasattr(self, 'einstein_path'):\n",
    "                einstein_path_0, einstein_path_1, einstein_path_2 = self.einstein_path\n",
    "            else:\n",
    "                einstein_path_0 =  np.einsum_path('bij, cji->bc', E_matrices, E_matrices, optimize='optimal')[0]\n",
    "                einstein_path_1 = np.einsum_path('bi, cj,ij->bc', \n",
    "                                                 E_matrices[:,:,0], E_matrices[:,:,0], E_matrices[0,:,:], \n",
    "                                                 optimize='optimal')[0]\n",
    "                einstein_path_2 =  np.einsum_path('ab,cd,bd->ac', M, M, M, optimize='optimal')[0]\n",
    "                self.einstein_path = (einstein_path_0, einstein_path_1, einstein_path_2)\n",
    "            \n",
    "            if SN:\n",
    "                raise NotImplementedError(\"P_SN currently not supported\")\n",
    "                '''\n",
    "                if s_model is None:\n",
    "                    Csig = 1/2*(self.x1[:, None]*self.x2[None, :].conj() + self.x2[:, None]*self.x1[None, :].conj())\n",
    "                else:\n",
    "                    Csig = s_model[:, None]*s_model[None, :].conj()\n",
    "                E_Csn = np.einsum(\"aij, jk->aik\", E_matrices, (Csig+Cnos))\n",
    "                E_Csig = np.einsum(\"aij, jk->aik\", E_matrices, Csig)\n",
    "                p_pdagger = np.einsum('bij, cji->bc', E_Csn, E_Csn, optimize=einstein_path_0)\n",
    "                p_pdagger -= np.einsum('bij, cji->bc', E_Csig, E_Csig, optimize=einstein_path_0)\n",
    "                '''\n",
    "            else:\n",
    "                E_Cnos1 = np.einsum(\"aij, jk->aik\", E_matrices, Cnos1)\n",
    "                E_Cnos2 = np.einsum(\"aij, jk->aik\", E_matrices, Cnos2)\n",
    "                p_pdagger = 1/2*np.einsum('bij, cji->bc', E_Cnos1, E_Cnos2, optimize=einstein_path_0)\n",
    "            '''\n",
    "            if SN:\n",
    "                if s1 is None:\n",
    "                    s1 = self.x1\n",
    "                if s2 is None:\n",
    "                    s2 = self.x2                   \n",
    "                E12_x1 = np.dot(E_matrices, s1)\n",
    "                E12_x2 = np.dot(E_matrices, s2)\n",
    "                x2star_E21 = E12_x2.conj()\n",
    "                x1star_E21 = E12_x1.conj()\n",
    "                x1star_E12 = np.dot(np.transpose(E_matrices,(0,2,1)), s1.conj())\n",
    "                x2star_E12 = np.dot(np.transpose(E_matrices,(0,2,1)), s2.conj())\n",
    "                E21_x1 = x1star_E12.conj()\n",
    "                E21_x2 = x2star_E12.conj()\n",
    "                SN_cov = (np.einsum('bi,cj,ij->bc', E12_x1, x2star_E21, C11, optimize=einstein_path_1)/2. + \n",
    "                          np.einsum('bi,cj,ij->bc', E12_x2, x1star_E21, C11, optimize=einstein_path_1)/2. +\n",
    "                          np.einsum('bi,cj,ij->bc', x2star_E12, E21_x1, C22, optimize=einstein_path_1)/2. + \n",
    "                          np.einsum('bi,cj,ij->bc', x1star_E12, E21_x2, C22, optimize=einstein_path_1)/2.\n",
    "                         )\n",
    "                # Apply zero clipping on the columns and rows containing negative diagonal elements\n",
    "                SN_cov[np.real(np.diag(SN_cov))<=0., :] = 0. + 1.j*0\n",
    "                SN_cov[:, np.real(np.diag(SN_cov))<=0.,] = 0. + 1.j*0\n",
    "                q_qdagger += SN_cov  \n",
    "            '''\n",
    "            return p, p_pdagger\n",
    "            \n",
    "        else:\n",
    "            return p\n",
    "                \n",
    "def airy_beam(theta, freqs, a=6):\n",
    "    \n",
    "    k = 2*np.pi * freqs / constants.c.value\n",
    "    k = k[:, np.newaxis]\n",
    "\n",
    "    arg = k*6*np.sin(theta)\n",
    "\n",
    "    beam = (2*special.jv(1,arg)/arg)**2\n",
    "    beam = np.where(np.isnan(beam), 1, beam)\n",
    "\n",
    "    return beam\n",
    "\n"
   ]
  },
  {
   "cell_type": "code",
   "execution_count": 4,
   "id": "039a0eaf",
   "metadata": {
    "execution": {
     "iopub.execute_input": "2025-03-21T09:47:57.827340Z",
     "iopub.status.busy": "2025-03-21T09:47:57.827081Z",
     "iopub.status.idle": "2025-03-21T09:47:57.858640Z",
     "shell.execute_reply": "2025-03-21T09:47:57.858104Z",
     "shell.execute_reply.started": "2025-03-21T09:47:57.827321Z"
    }
   },
   "outputs": [],
   "source": [
    "def parse_band_str(band_str: str, freqs: np.ndarray) -> tuple[float, list[float], list[float], list[float], list[slice], list[int]]:\n",
    "    \"\"\"Parse a band string into a channel width and a list of slices.\n",
    "    \n",
    "    Parameters\n",
    "    ----------\n",
    "    band_str : str\n",
    "        A string of comma-separated frequency bands in the form 'low~high'.\n",
    "    freqs : np.ndarray\n",
    "        An array of frequencies in Hz.\n",
    "        \n",
    "    Returns\n",
    "    -------\n",
    "    df\n",
    "        The channel width in Hz.\n",
    "    bands\n",
    "        A list of the frequency bands in the form (low, high) ub Hz\n",
    "    min_freqs\n",
    "        A list of the minimum frequencies in the bands in MHz.\n",
    "    max_freqs\n",
    "        A list of the maximum frequencies in the bands in MHz.\n",
    "    band_slices\n",
    "        A list of slices corresponding to the bands.\n",
    "    nchans\n",
    "        A list of the number of channels in each band.\n",
    "    \"\"\"\n",
    "    df = np.median(np.diff(freqs))\n",
    "    bands = [tuple([float(edge) for edge in band.split('~')]) for band in band_str.strip().split(',')]\n",
    "    min_freqs = [(np.min(freqs[freqs >= (1e6 * b[0])]) - df / 2) / 1e6 for b in bands]\n",
    "    max_freqs = [(np.max(freqs[freqs <= (1e6 * b[1])]) + df / 2) / 1e6 for b in bands]\n",
    "    min_chan = [np.where(freqs >= 1e6 * b[0])[0][0] for b in bands]\n",
    "    max_chan = [np.where(freqs <= 1e6 * b[1])[0][-1] for b in bands]\n",
    "    band_slices = [slice(minc, maxc+1) for minc, maxc in zip(min_chan, max_chan)]\n",
    "    nchans = [maxc - minc + 1 for minc, maxc in zip(min_chan, max_chan)]\n",
    "    \n",
    "    return (\n",
    "        df,\n",
    "        bands,\n",
    "        min_freqs, \n",
    "        max_freqs, \n",
    "        band_slices,\n",
    "        nchans,\n",
    "    )"
   ]
  },
  {
   "cell_type": "code",
   "execution_count": 6,
   "id": "b975a4b8",
   "metadata": {
    "execution": {
     "iopub.execute_input": "2025-03-21T09:48:10.793456Z",
     "iopub.status.busy": "2025-03-21T09:48:10.793217Z",
     "iopub.status.idle": "2025-03-21T09:48:10.795990Z",
     "shell.execute_reply": "2025-03-21T09:48:10.795470Z",
     "shell.execute_reply.started": "2025-03-21T09:48:10.793437Z"
    }
   },
   "outputs": [],
   "source": [
    "# Chose an ANTPAIR\n",
    "ANTPAIR = (99, 22)"
   ]
  },
  {
   "cell_type": "code",
   "execution_count": 13,
   "id": "ce0b0e2f-d54e-449c-8ec4-4fe7416b4af3",
   "metadata": {
    "execution": {
     "iopub.execute_input": "2025-03-21T09:50:50.420345Z",
     "iopub.status.busy": "2025-03-21T09:50:50.420037Z",
     "iopub.status.idle": "2025-03-21T09:50:50.423555Z",
     "shell.execute_reply": "2025-03-21T09:50:50.423077Z",
     "shell.execute_reply.started": "2025-03-21T09:50:50.420324Z"
    }
   },
   "outputs": [],
   "source": [
    "SINGLE_BL_FOLDER = Path(\"/lustre/aoc/projects/hera/h6c-analysis/IDR2/lstbin-outputs/redavg-smoothcal-inpaint-500ns-lstcal/inpaint/single_baseline_files/\")\n",
    "SINGLE_BL_UVH5 = SINGLE_BL_FOLDER / f\"zen.LST.baseline.{ANTPAIR[0]}_{ANTPAIR[1]}.sum.uvh5\"\n",
    "SINGLE_BL_PSPEC = SINGLE_BL_FOLDER / f\"zen.LST.baseline.{ANTPAIR[0]}_{ANTPAIR[1]}.sum.tavg.pspec.h5\""
   ]
  },
  {
   "cell_type": "code",
   "execution_count": 8,
   "id": "b8af47ca-dd0e-4335-bb8e-2c6605296431",
   "metadata": {
    "execution": {
     "iopub.execute_input": "2025-03-21T09:48:38.499643Z",
     "iopub.status.busy": "2025-03-21T09:48:38.499386Z",
     "iopub.status.idle": "2025-03-21T09:48:50.846246Z",
     "shell.execute_reply": "2025-03-21T09:48:50.845516Z",
     "shell.execute_reply.started": "2025-03-21T09:48:38.499624Z"
    }
   },
   "outputs": [],
   "source": [
    "if not SINGLE_BL_FILE.is_file():\n",
    "    raise ValueError(f\"Invalid baseline ({ANTPAIR[0]}, {ANTPAIR[1]})\")\n",
    "\n",
    "all_files = SINGLE_BL_FILE.parent.glob(SINGLE_BL_FILE.name.replace(f'{ANTPAIR[0]}_{ANTPAIR[1]}', '*'))\n",
    "AUTO_BL_FILE = sorted([f for f in all_files if len(set(re.search(r'\\d+_\\d+', f.name).group().split('_'))) == 1])[0]\n",
    "single_bl_times = np.array(io.HERAData(SINGLE_BL_FILE).times)\n",
    "hd = io.HERAData([AUTO_BL_FILE, SINGLE_BL_FILE])\n",
    "data, flags, nsamples = hd.read(times=single_bl_times)\n",
    "cross_bls = [ANTPAIR + (pol,) for pol in data.pols()]"
   ]
  },
  {
   "cell_type": "code",
   "execution_count": 14,
   "id": "845945bf-2695-4065-843d-a09cea487094",
   "metadata": {
    "execution": {
     "iopub.execute_input": "2025-03-21T09:51:33.483229Z",
     "iopub.status.busy": "2025-03-21T09:51:33.482975Z",
     "iopub.status.idle": "2025-03-21T09:51:33.625800Z",
     "shell.execute_reply": "2025-03-21T09:51:33.625259Z",
     "shell.execute_reply.started": "2025-03-21T09:51:33.483210Z"
    }
   },
   "outputs": [],
   "source": [
    "psc = hp.container.PSpecContainer(SINGLE_BL_PSPEC, mode='r', keep_open=False)\n",
    "uvp = psc.get_pspec('stokespol', 'time_and_interleave_averaged')"
   ]
  },
  {
   "cell_type": "code",
   "execution_count": null,
   "id": "bfe4735d-4875-4d49-885b-dc789b0a54d3",
   "metadata": {},
   "outputs": [],
   "source": []
  },
  {
   "cell_type": "code",
   "execution_count": 15,
   "id": "557176cb",
   "metadata": {
    "execution": {
     "iopub.execute_input": "2025-03-21T09:52:19.608533Z",
     "iopub.status.busy": "2025-03-21T09:52:19.608279Z",
     "iopub.status.idle": "2025-03-21T09:52:27.288262Z",
     "shell.execute_reply": "2025-03-21T09:52:27.287715Z",
     "shell.execute_reply.started": "2025-03-21T09:52:19.608513Z"
    }
   },
   "outputs": [],
   "source": [
    "# Derive pspec and cov with simple_ps\n",
    "beam_hera = hp.PSpecBeamUV(\"/lustre/aoc/projects/hera/H4C/beams/NF_HERA_Vivaldi_efield_beam_healpix_pstokes.fits\")\n",
    "pre_calc_beam = []\n",
    "for spw in uvp.spw_array:\n",
    "    beam_tuple = beam_hera.beam_normalized_response(pol='pI', freq=uvp.freq_array[uvp.spw_freq_array ==spw])\n",
    "    pre_calc_beam.append(beam_tuple)"
   ]
  },
  {
   "cell_type": "code",
   "execution_count": 34,
   "id": "aadf9a2a",
   "metadata": {
    "execution": {
     "iopub.execute_input": "2025-03-21T10:35:38.399401Z",
     "iopub.status.busy": "2025-03-21T10:35:38.399173Z",
     "iopub.status.idle": "2025-03-21T10:36:06.569284Z",
     "shell.execute_reply": "2025-03-21T10:36:06.568417Z",
     "shell.execute_reply.started": "2025-03-21T10:35:38.399382Z"
    }
   },
   "outputs": [],
   "source": [
    "%%time\n",
    "# Now let's compare full covariance calculation vs hacky way by scaling a template with P_N\n",
    "# Calculate a PS covariance assuming identity visibility space nosie matrix\n",
    "hdf = hd.freqs[Path('/lustre/aoc/projects/hera/h6c-analysis/IDR2/lstbin-outputs/redavg-smoothcal-inpaint-500ns-lstcal/inpaint/single_baseline_files/zen.LST.baseline.99_22.sum.uvh5')]\n",
    "df = np.median(np.diff(hdf))\n",
    "dt = np.median(hd.integration_time)\n",
    "\n",
    "# simple_ps_interleave = {}\n",
    "# simple_ps_cov_interleave = {}\n",
    "Tsys_template = np.nanmean(hd.get_data((0, 0, 'ee')).real+hd.get_data((0, 0, 'nn')).real, axis=0)/np.sqrt(df*dt)\n",
    "PS_cov_template = {}\n",
    "for spw in uvp.spw_array:\n",
    "    # simple_ps_interleave[spw] = []\n",
    "    # simple_ps_cov_interleave[spw] = []\n",
    "    freqs = uvp.freq_array[uvp.spw_freq_array == spw]\n",
    "    ps_obj = simple_pspec(\n",
    "        np.zeros(freqs.size), \n",
    "        np.zeros(freqs.size), \n",
    "        None, None, \n",
    "        freqs=freqs,\n",
    "        beamfunc=pre_calc_beam[spw], beamtype=\"pspec_beam\",\n",
    "        cosmo=None, little_h=True,\n",
    "        vis_unit='Jy', taper='blackman-harris'\n",
    "    )  \n",
    "\n",
    "    hdmask = np.isin(hdf, freqs, assume_unique=True)\n",
    "    Cnos1 = np.diag(Tsys_template[hdmask]**2*np.ones(freqs.size))\n",
    "    Cnos2 = np.diag(Tsys_template[hdmask]**2*np.ones(freqs.size))\n",
    "    _, _ps_cov_template = ps_obj.p_hat(calc_cov=True, Cnos1=Cnos1, Cnos2=Cnos2)\n",
    "    PS_cov_template[spw] = _ps_cov_template.real/np.diag(_ps_cov_template.real)\n",
    "\n",
    "#np.save(\"/lustre/aoc/projects/hera/kfchen/H6C/inpainting/Noise_Sim.ipynbPS_Cov_Template.npy\", PS_cov_template)"
   ]
  },
  {
   "cell_type": "code",
   "execution_count": 69,
   "id": "e94cc4d7-b8e5-4a00-869d-68c3ac0aff96",
   "metadata": {
    "execution": {
     "iopub.execute_input": "2025-03-21T12:33:03.935777Z",
     "iopub.status.busy": "2025-03-21T12:33:03.935508Z",
     "iopub.status.idle": "2025-03-21T12:33:04.230392Z",
     "shell.execute_reply": "2025-03-21T12:33:04.229903Z",
     "shell.execute_reply.started": "2025-03-21T12:33:03.935757Z"
    }
   },
   "outputs": [],
   "source": [
    "# Also get it an ever dumber way\n",
    "from scipy.signal.windows import blackmanharris\n",
    "\n",
    "n = 89\n",
    "taper = blackmanharris(89)\n",
    "cov = np.abs(np.fft.fft(taper**2))**2"
   ]
  },
  {
   "cell_type": "code",
   "execution_count": 79,
   "id": "d1e3925e-38af-4daa-baa2-be05b03163ff",
   "metadata": {
    "execution": {
     "iopub.execute_input": "2025-03-21T13:55:06.814770Z",
     "iopub.status.busy": "2025-03-21T13:55:06.814501Z",
     "iopub.status.idle": "2025-03-21T13:55:07.237903Z",
     "shell.execute_reply": "2025-03-21T13:55:07.237384Z",
     "shell.execute_reply.started": "2025-03-21T13:55:06.814750Z"
    }
   },
   "outputs": [
    {
     "data": {
      "text/plain": [
       "(1e-08, 2)"
      ]
     },
     "execution_count": 79,
     "metadata": {},
     "output_type": "execute_result"
    },
    {
     "data": {
      "image/png": "[encoded data removed]",
      "text/plain": [
       "<Figure size 640x480 with 1 Axes>"
      ]
     },
     "metadata": {},
     "output_type": "display_data"
    }
   ],
   "source": [
    "plt.plot(np.fft.fftshift(cov)/cov.max(), label='simple analytic')\n",
    "\n",
    "\n",
    "cen_idx = np.searchsorted(delays, 0)\n",
    "plt.plot(cov_guess[cen_idx, :]/cov_guess[cen_idx].max(), 'ro:', ms=2, label=\"Approximate covariance from kai-feng\")\n",
    "\n",
    "plt.yscale('log')\n",
    "plt.legend()\n",
    "plt.xlim(30, 60)\n",
    "plt.ylim(1e-8, 2)"
   ]
  },
  {
   "cell_type": "code",
   "execution_count": 68,
   "id": "8f11029a",
   "metadata": {
    "execution": {
     "iopub.execute_input": "2025-03-21T11:39:47.895595Z",
     "iopub.status.busy": "2025-03-21T11:39:47.895351Z",
     "iopub.status.idle": "2025-03-21T11:39:48.207471Z",
     "shell.execute_reply": "2025-03-21T11:39:48.206939Z",
     "shell.execute_reply.started": "2025-03-21T11:39:47.895576Z"
    }
   },
   "outputs": [
    {
     "data": {
      "image/png": "[encoded data removed]",
      "text/plain": [
       "<Figure size 640x480 with 2 Axes>"
      ]
     },
     "metadata": {},
     "output_type": "display_data"
    }
   ],
   "source": [
    "spw = 2\n",
    "key = uvp.get_all_keys()[0]\n",
    "delays = uvp.get_dlys(spw) * 1e9\n",
    "cov_guess = PS_cov_template[spw]\n",
    "im = plt.imshow(\n",
    "    cov_guess.real, interpolation=None, origin=\"lower\", aspect=\"equal\",\n",
    "    #norm=matplotlib.colors.LogNorm(vmin=(pn.real**2).min(), vmax=(pn.real**2).max()),\n",
    "    norm=matplotlib.colors.LogNorm(vmin=cov_guess.real.max()/1e5, vmax=cov_guess.real.max()),\n",
    "    cmap=\"inferno\", extent=[delays.min(), delays.max(), delays.min(), delays.max()]\n",
    ")\n",
    "\n",
    "\n",
    "plt.colorbar(im, pad=.02, aspect=40, extend='both', label='Covariance')\n",
    "plt.show()"
   ]
  }
 ],
 "metadata": {
  "kernelspec": {
   "display_name": "h6c-uv",
   "language": "python",
   "name": "h6c-uv"
  },
  "language_info": {
   "codemirror_mode": {
    "name": "ipython",
    "version": 3
   },
   "file_extension": ".py",
   "mimetype": "text/x-python",
   "name": "python",
   "nbconvert_exporter": "python",
   "pygments_lexer": "ipython3",
   "version": "3.12.7"
  }
 },
 "nbformat": 4,
 "nbformat_minor": 5
}
