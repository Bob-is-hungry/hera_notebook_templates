{
 "cells": [
  {
   "cell_type": "markdown",
   "id": "2be6a5a1",
   "metadata": {},
   "source": [
    "# Season Data Quality Summary\n",
    "\n",
    "**Josh Dillon**, Last Revised January 2022\n",
    "\n",
    "This notebook parses information from each nightly `rtp_summary` notebook (as saved to .csvs) and builds a variety of useful tables. It is designed to highlight general trends across days."
   ]
  },
  {
   "cell_type": "code",
   "execution_count": 26,
   "id": "8754ac52",
   "metadata": {
    "ExecuteTime": {
     "end_time": "2022-01-15T19:43:55.875155Z",
     "start_time": "2022-01-15T19:43:52.034766Z"
    }
   },
   "outputs": [
    {
     "data": {
      "text/html": [
       "<style>.container { width:100% !important; }</style>"
      ],
      "text/plain": [
       "<IPython.core.display.HTML object>"
      ]
     },
     "metadata": {},
     "output_type": "display_data"
    }
   ],
   "source": [
    "import numpy as np\n",
    "import pandas as pd\n",
    "pd.set_option('display.max_rows', 1000)\n",
    "import matplotlib.pyplot as plt\n",
    "import matplotlib\n",
    "import glob\n",
    "import re\n",
    "import os\n",
    "from pathlib import Path\n",
    "from astropy.time import Time\n",
    "from IPython.display import display, HTML\n",
    "from hera_notebook_templates.utils import status_colors, Antenna\n",
    "import yaml\n",
    "%matplotlib inline\n",
    "%config InlineBackend.figure_format = 'retina'\n",
    "display(HTML(\"<style>.container { width:100% !important; }</style>\"))"
   ]
  },
  {
   "cell_type": "code",
   "execution_count": 6,
   "id": "2de5242c",
   "metadata": {
    "ExecuteTime": {
     "end_time": "2022-01-15T19:43:55.880200Z",
     "start_time": "2022-01-15T19:43:55.877470Z"
    }
   },
   "outputs": [],
   "source": [
    "# If you want to run this notebook locally, copy the output of the next cell into the next line of this cell.\n",
    "yaml_folder = Path('/lustre/aoc/projects/hera/h6c-analysis/day_flags/0/')\n",
    "os.environ[\"A_PRIORI_YAML_FOLDER\"] = str(yaml_folder)"
   ]
  },
  {
   "cell_type": "code",
   "execution_count": 7,
   "id": "67de06ca",
   "metadata": {
    "ExecuteTime": {
     "end_time": "2022-01-15T19:43:55.889368Z",
     "start_time": "2022-01-15T19:43:55.886252Z"
    }
   },
   "outputs": [
    {
     "name": "stdout",
     "output_type": "stream",
     "text": [
      "yaml_folder = \"/lustre/aoc/projects/hera/h6c-analysis/day_flags/0\"\n"
     ]
    }
   ],
   "source": [
    "# Use environment variables to figure out path to the csvs\n",
    "yaml_folder = Path(os.environ[\"A_PRIORI_YAML_FOLDER\"])\n",
    "print(f'yaml_folder = \"{yaml_folder}\"')"
   ]
  },
  {
   "cell_type": "code",
   "execution_count": 29,
   "id": "8811586a",
   "metadata": {
    "ExecuteTime": {
     "end_time": "2022-01-15T19:43:55.988938Z",
     "start_time": "2022-01-15T19:43:55.890745Z"
    }
   },
   "outputs": [
    {
     "name": "stdout",
     "output_type": "stream",
     "text": [
      "Found 25 a-priori YAMLS in /lustre/aoc/projects/hera/h6c-analysis/day_flags/0\n"
     ]
    }
   ],
   "source": [
    "# load yamls in chronological order\n",
    "yamls = sorted(yaml_folder.glob('*_flags.yaml'))\n",
    "print(f'Found {len(yamls)} a-priori YAMLS in {yaml_folder}')"
   ]
  },
  {
   "cell_type": "code",
   "execution_count": null,
   "id": "96dae9ba",
   "metadata": {},
   "outputs": [],
   "source": [
    "# "
   ]
  },
  {
   "cell_type": "code",
   "execution_count": null,
   "id": "c473c2fd",
   "metadata": {
    "ExecuteTime": {
     "end_time": "2022-01-15T19:43:55.993799Z",
     "start_time": "2022-01-15T19:43:55.990905Z"
    }
   },
   "outputs": [],
   "source": [
    "# Per-season options\n",
    "def jd_to_summary_url(jd):\n",
    "    return f'https://htmlpreview.github.io/?https://github.com/HERA-Team/H6C_Notebooks/blob/main/_rtp_summary_/rtp_summary_{jd}.html'\n",
    "\n",
    "def ant_to_report_url(ant):\n",
    "    return f'https://htmlpreview.github.io/?https://github.com/HERA-Team/H6C_Notebooks/blob/main/antenna_report/antenna_{ant}_report.html'"
   ]
  },
  {
   "cell_type": "markdown",
   "id": "b6195cfd",
   "metadata": {},
   "source": [
    "## Load Data"
   ]
  },
  {
   "cell_type": "code",
   "execution_count": 37,
   "id": "7ef4d348",
   "metadata": {},
   "outputs": [],
   "source": [
    "data = {}\n",
    "for y in yamls:\n",
    "    int_jd = int(y.name[y.name.index(\"245\"):y.name.index(\"245\")+7])\n",
    "    with open(y, 'r') as fl:\n",
    "        data[int_jd] = yaml.load(fl, Loader=yaml.SafeLoader)"
   ]
  },
  {
   "cell_type": "code",
   "execution_count": 38,
   "id": "f6843cd0",
   "metadata": {},
   "outputs": [
    {
     "data": {
      "text/plain": [
       "dict_keys([2459847, 2459849, 2459851, 2459853, 2459854, 2459857, 2459858, 2459859, 2459860, 2459861, 2459862, 2459863, 2459864, 2459865, 2459866, 2459867, 2459868, 2459869, 2459870, 2459871, 2459872, 2459873, 2459874, 2459875, 2459876])"
      ]
     },
     "execution_count": 38,
     "metadata": {},
     "output_type": "execute_result"
    }
   ],
   "source": [
    "data.keys()"
   ]
  },
  {
   "cell_type": "code",
   "execution_count": 39,
   "id": "8df8d499",
   "metadata": {},
   "outputs": [],
   "source": [
    "# Calculate the total amount of time that is flagged\n",
    "hours_flagged = 0\n",
    "for jd, d in data.items():\n",
    "    for flg in d['JD_flags']:\n",
    "        hours_flagged += (flg[1] - flg[0])*24"
   ]
  },
  {
   "cell_type": "code",
   "execution_count": 40,
   "id": "09ad4568",
   "metadata": {},
   "outputs": [],
   "source": [
    "hours_flagged_frac = hours_flagged / (len(data)*8)"
   ]
  },
  {
   "cell_type": "code",
   "execution_count": 41,
   "id": "40ca9613",
   "metadata": {},
   "outputs": [
    {
     "data": {
      "text/plain": [
       "200"
      ]
     },
     "execution_count": 41,
     "metadata": {},
     "output_type": "execute_result"
    }
   ],
   "source": [
    "len(data)*8"
   ]
  },
  {
   "cell_type": "code",
   "execution_count": 44,
   "id": "acc13ddc",
   "metadata": {},
   "outputs": [
    {
     "name": "stdout",
     "output_type": "stream",
     "text": [
      "Total number of hours flagged: 26.62\n",
      "Percentage of hours flagged: 13.31%\n"
     ]
    }
   ],
   "source": [
    "print(f\"Total number of hours flagged: {hours_flagged:.2f}\")\n",
    "print(f\"Percentage of hours flagged: { hours_flagged_frac * 100:.2f}%\")"
   ]
  },
  {
   "cell_type": "code",
   "execution_count": 45,
   "id": "e1ae4753",
   "metadata": {},
   "outputs": [],
   "source": [
    "ant_nights_flagged = 0\n",
    "for jd, d in data.items():\n",
    "    ant_nights_flagged += len(d['ex_ants'])"
   ]
  },
  {
   "cell_type": "code",
   "execution_count": 46,
   "id": "ff808f04",
   "metadata": {},
   "outputs": [
    {
     "data": {
      "text/plain": [
       "2672"
      ]
     },
     "execution_count": 46,
     "metadata": {},
     "output_type": "execute_result"
    }
   ],
   "source": [
    "ant_nights_flagged"
   ]
  },
  {
   "cell_type": "code",
   "execution_count": 47,
   "id": "ef4da159",
   "metadata": {},
   "outputs": [
    {
     "name": "stdout",
     "output_type": "stream",
     "text": [
      "Average number of ants flagged per night:  106.88\n"
     ]
    }
   ],
   "source": [
    "print(\"Average number of ants flagged per night: \", ant_nights_flagged / len(data))"
   ]
  },
  {
   "cell_type": "code",
   "execution_count": null,
   "id": "358a5d4a",
   "metadata": {
    "ExecuteTime": {
     "end_time": "2022-01-15T19:43:58.382660Z",
     "start_time": "2022-01-15T19:43:58.377606Z"
    }
   },
   "outputs": [],
   "source": [
    "def antenna_flag_plot():\n",
    "    fig, ax = plt.subplots(1, 1, figsize=(14,7), dpi=100)\n",
    "    utc = Time(jds, format='jd').datetime\n",
    "    floor_jd = int(np.floor(np.min(jds) / 1000) * 1000)\n",
    "    ax.plot_date(utc, to_show['Ants in Data'], '.-', ms=10, label='Antennas in Data')\n",
    "    ax.plot(utc, to_show['Unflagged Antenna-Days'], 'r.-', ms=10, label='Unflagged Antenna-Days')\n",
    "    ax2 = ax.twiny()\n",
    "    ax2.plot(np.array(jds) - floor_jd, to_show['Unflagged Antenna-Days'], 'r.', ms=10)\n",
    "    ax2.set_xlabel(f'JD - {floor_jd}')\n",
    "    ax.set_ylabel('Number of Antennas')\n",
    "    ax.set_xlabel('Date')\n",
    "    ax.legend()\n",
    "    ax2.grid()\n",
    "    ax.grid(axis='y')"
   ]
  },
  {
   "cell_type": "markdown",
   "id": "c7d29092",
   "metadata": {},
   "source": [
    "# Figure 1: (Unflagged) Antennas in the Array\n",
    "\n",
    "This plot shows the progression of the number of antennas in the data and the number of antenna-days that are not automatically flagged."
   ]
  },
  {
   "cell_type": "code",
   "execution_count": null,
   "id": "ed512005",
   "metadata": {
    "ExecuteTime": {
     "end_time": "2022-01-15T19:43:58.889448Z",
     "start_time": "2022-01-15T19:43:58.386066Z"
    }
   },
   "outputs": [],
   "source": [
    "antenna_flag_plot()    "
   ]
  },
  {
   "cell_type": "markdown",
   "id": "e6353639",
   "metadata": {},
   "source": [
    "# Table 1: Per Night Flagging\n",
    "\n",
    "This table shows how many antennas we in the data for each night, the effective number of unflagged antenna-days, and the fraction of antennda-days flagged by:\n",
    "* `auto_metrics` for bad autocorrelation shape, amplitude, or temporal structure,\n",
    "* `ant_metrics` for low/no correlations or for having polarizations swapped, or\n",
    "* `redcal` for non-redundancy. \n",
    "\n",
    "Note that an antenna can be flagged by both `auto_metrics` and `ant_metrics`, so those quantities may add up to more than 100%. However an antenna flagged by either `auto_metrics` (for the night) or `ant_metrics` (for the file) will be excluded from `redcal`, so these percentages will tend to be small. Dashes indicate missing metric data, likely because part of the RTP failed to run. Also included are links to individual `rtp_summary` notebooks."
   ]
  },
  {
   "cell_type": "code",
   "execution_count": null,
   "id": "47382d43",
   "metadata": {
    "ExecuteTime": {
     "end_time": "2022-01-15T19:43:58.916565Z",
     "start_time": "2022-01-15T19:43:58.890869Z"
    },
    "scrolled": false
   },
   "outputs": [],
   "source": [
    "HTML(table.render(render_links=True, escape=False))"
   ]
  },
  {
   "cell_type": "code",
   "execution_count": null,
   "id": "8664ae6c",
   "metadata": {
    "ExecuteTime": {
     "end_time": "2022-01-15T19:43:59.228322Z",
     "start_time": "2022-01-15T19:43:58.918581Z"
    },
    "scrolled": false
   },
   "outputs": [],
   "source": [
    "# Build table for antenna flagging\n",
    "antnums = sorted(antennas.keys())\n",
    "to_show = {'Ant': [f'<a href=\"{ant_to_report_url(antnum)}\" target=\"_blank\">{antnum}</a>' for antnum in antnums]}\n",
    "to_show['Node'] = [antennas[ant].node for ant in antnums]\n",
    "\n",
    "to_show['Most Recent Status'] = [antennas[ant].statuses[np.max(list(antennas[ant].statuses.keys()))] for ant in antnums]\n",
    "\n",
    "to_show['Total Days This Season'] = [len(antennas[ant].total_flags) for ant in antnums]\n",
    "to_show['Unflagged Days This Season'] = [antennas[ant].unflagged_days() for ant in antnums]\n",
    "to_show['Flag % This Season'] = 1 - np.array(to_show['Unflagged Days This Season']) / np.array(to_show['Total Days This Season'])\n",
    "to_show['Top Flag Rationale (Season)'] = [antennas[ant].most_common_flag_rationale() for ant in antnums]\n",
    "\n",
    "to_show['Total Days This Week'] = [len([antennas[ant].total_flags[jd] for jd in jds[0:min(len(jds), 7)] if jd in antennas[ant].total_flags]) for ant in antnums]\n",
    "to_show['Unflagged Days This Week'] = [antennas[ant].unflagged_days(jds[0:min(len(jds), 7)]) for ant in antnums]\n",
    "to_show['Flag % This Week'] = 1 - np.array(to_show['Unflagged Days This Week']) / np.array(to_show['Total Days This Week'])\n",
    "to_show['Top Flag Rationale (Week)'] = [antennas[ant].most_common_flag_rationale(jds[0:min(len(jds), 7)]) for ant in antnums]\n",
    "\n",
    "jd_links = []\n",
    "for jd in jds:\n",
    "    jd_links.append(f'<a href=\"{jd_to_summary_url(jd)}\" target=\"_blank\">{jd}</a>')\n",
    "    to_show[jd_links[-1]] = [antennas[ant].total_flags[jd] if jd in antennas[ant].total_flags else np.nan for ant in antnums ]\n",
    "df = pd.DataFrame(to_show)\n",
    "\n",
    "table = df.style.hide_index()\\\n",
    "          .applymap(lambda val: f'background-color: {status_colors[val]}' if val in status_colors else '', subset=['Most Recent Status']) \\\n",
    "          .format('{:,.0%}', na_rep='-', subset=jd_links + ['Flag % This Season', 'Flag % This Week']) \\\n",
    "          .format('{:}', na_rep='-', subset=['Top Flag Rationale (Season)', 'Top Flag Rationale (Week)']) \\\n",
    "          .format('{:,.1f}', na_rep='-', subset=['Unflagged Days This Season', 'Unflagged Days This Week'] ) \\\n",
    "          .background_gradient(cmap='plasma', vmax=1, vmin=0, axis=None, subset=jd_links) \\\n",
    "          .bar(subset=['Flag % This Season', 'Flag % This Week'], vmin=0, vmax=1) "
   ]
  },
  {
   "cell_type": "markdown",
   "id": "100672e9",
   "metadata": {},
   "source": [
    "# Table 2: Per-Antenna, Per-Night Flagging\n",
    "\n",
    "This table summarizes information about individual antennas for the whole season and in the last seven days. This includes the number of days the antenna was in the data, what fraction of them were flagged, and how many unflagged days that leaves. It also attempts to figure out which metric led the most flagging, by seeing which step produced the most flags and when which median metric was largest within that step. Finally, it includes per-night flagging fractions."
   ]
  },
  {
   "cell_type": "code",
   "execution_count": null,
   "id": "7c1efec1",
   "metadata": {
    "ExecuteTime": {
     "end_time": "2022-01-04T20:14:39.090199Z",
     "start_time": "2022-01-04T20:14:38.706403Z"
    },
    "scrolled": false
   },
   "outputs": [],
   "source": [
    "HTML(table.render(render_links=True, escape=False))"
   ]
  },
  {
   "cell_type": "code",
   "execution_count": null,
   "id": "3fb003df",
   "metadata": {
    "ExecuteTime": {
     "end_time": "2022-01-04T20:14:39.148993Z",
     "start_time": "2022-01-04T20:14:39.091572Z"
    }
   },
   "outputs": [],
   "source": [
    "# Build table for node flagging\n",
    "nodenums = sorted([k for k in nodes.keys() if type(k) == str])\n",
    "\n",
    "to_show = {'Node': nodenums, 'Number of Ants': [len(nodes[n]) for n in nodenums]}\n",
    "\n",
    "to_show['Total Antenna-Days This Season'] = [np.sum([jd in antenna.total_flags for antenna in nodes[n] for jd in jds]) for n in nodenums]\n",
    "to_show['Unflagged Antenna-Days This Season'] = [np.sum([antenna.unflagged_days() for antenna in nodes[n]]) for n in nodenums]\n",
    "to_show['Flag % This Season'] = 1 - np.array(to_show['Unflagged Antenna-Days This Season']) / np.array(to_show['Total Antenna-Days This Season'])\n",
    "\n",
    "to_show['Total Antenna-Days This Week'] = [np.sum([jd in antenna.total_flags for antenna in nodes[n] for jd in jds[0:min(len(jds), 7)]]) for n in nodenums]\n",
    "to_show['Unflagged Antenna-Days This Week'] = [np.sum([antenna.unflagged_days(jds[0:min(len(jds), 7)]) for antenna in nodes[n]]) for n in nodenums]\n",
    "to_show['Flag % This Week'] = 1 - np.array(to_show['Unflagged Antenna-Days This Week']) / np.array(to_show['Total Antenna-Days This Week'])\n",
    "\n",
    "jd_links = []\n",
    "for jd in jds:\n",
    "    jd_links.append(f'<a href=\"{jd_to_summary_url(jd)}\" target=\"_blank\">{jd}</a>')\n",
    "    to_show[jd_links[-1]] = [np.nansum([antenna.total_flags[jd] if jd in antenna.total_flags else np.nan for antenna in nodes[n]]) / \n",
    "                             np.sum([jd in antenna.total_flags for antenna in nodes[n]]) for n in nodenums]\n",
    "df = pd.DataFrame(to_show)\n",
    "table = df.style.hide_index() \\\n",
    "          .format('{:,.0%}', na_rep='-', subset=jd_links + ['Flag % This Season', 'Flag % This Week'] ) \\\n",
    "          .format('{:,.1f}', na_rep='-', subset=['Unflagged Antenna-Days This Season', 'Unflagged Antenna-Days This Week'] ) \\\n",
    "          .background_gradient(cmap='plasma', vmax=1, vmin=0, axis=None, subset=jd_links) \\\n",
    "          .bar(subset=['Flag % This Season', 'Flag % This Week'], vmin=0, vmax=1) \n"
   ]
  },
  {
   "cell_type": "markdown",
   "id": "7dcb0419",
   "metadata": {},
   "source": [
    "# Table 3: Per-Node, Per-Night Flagging\n",
    "\n",
    "This table summarizes flagging by node, showing how many antennas are in the data from each node, how many antenna-days were observed in each node, and how many of them were unflagged (both for the whole season and the last 7 nights)."
   ]
  },
  {
   "cell_type": "code",
   "execution_count": null,
   "id": "16fcc92e",
   "metadata": {
    "ExecuteTime": {
     "end_time": "2022-01-04T20:14:39.238995Z",
     "start_time": "2022-01-04T20:14:39.156641Z"
    },
    "scrolled": false
   },
   "outputs": [],
   "source": [
    "HTML(table.render(render_links=True, escape=False))"
   ]
  },
  {
   "cell_type": "code",
   "execution_count": null,
   "id": "9ec045f6",
   "metadata": {},
   "outputs": [],
   "source": []
  }
 ],
 "metadata": {
  "kernelspec": {
   "display_name": "h6c",
   "language": "python",
   "name": "h6c"
  },
  "language_info": {
   "codemirror_mode": {
    "name": "ipython",
    "version": 3
   },
   "file_extension": ".py",
   "mimetype": "text/x-python",
   "name": "python",
   "nbconvert_exporter": "python",
   "pygments_lexer": "ipython3",
   "version": "3.10.6"
  },
  "toc": {
   "base_numbering": 1,
   "nav_menu": {},
   "number_sections": false,
   "sideBar": true,
   "skip_h1_title": false,
   "title_cell": "Table of Contents",
   "title_sidebar": "Contents",
   "toc_cell": false,
   "toc_position": {},
   "toc_section_display": true,
   "toc_window_display": false
  }
 },
 "nbformat": 4,
 "nbformat_minor": 5
}
