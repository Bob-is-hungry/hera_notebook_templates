{
 "cells": [
  {
   "cell_type": "markdown",
   "id": "63495cff",
   "metadata": {},
   "source": [
    "# H1C Systematics Mitigation (Reflections & Cross-Talk) Nightly Notebook\n",
    "\n",
    "**Josh Dillon**, Last Revised 4/27/22"
   ]
  },
  {
   "cell_type": "code",
   "execution_count": null,
   "id": "4c36ee8b",
   "metadata": {
    "ExecuteTime": {
     "end_time": "2022-04-28T00:14:47.968264Z",
     "start_time": "2022-04-28T00:14:45.444669Z"
    }
   },
   "outputs": [],
   "source": [
    "import numpy as np\n",
    "import matplotlib.pyplot as plt\n",
    "import matplotlib\n",
    "from hera_cal import io, redcal, apply_cal, abscal, utils, datacontainer\n",
    "from hera_cal.smooth_cal import build_time_blacklist\n",
    "from hera_qm.metrics_io import load_metric_file\n",
    "from hera_cal.frf import FRFilter\n",
    "import pyuvdata\n",
    "import glob\n",
    "import os\n",
    "from copy import deepcopy\n",
    "import inspect\n",
    "import h5py\n",
    "import matplotlib.cm as cm\n",
    "from IPython.display import display, HTML\n",
    "import contextlib\n",
    "\n",
    "%matplotlib inline\n",
    "%config InlineBackend.figure_format = 'retina'\n",
    "display(HTML(\"<style>.container { width:100% !important; }</style>\"))"
   ]
  },
  {
   "cell_type": "code",
   "execution_count": null,
   "id": "613628bb",
   "metadata": {
    "ExecuteTime": {
     "end_time": "2022-04-28T00:14:47.973291Z",
     "start_time": "2022-04-28T00:14:47.970499Z"
    }
   },
   "outputs": [],
   "source": [
    "# If you want to run this notebook locally, copy the output of the next cell into the first few lines of this cell.\n",
    "# JD = '2458187'\n",
    "# data_path = '/lustre/aoc/projects/hera/H1C_IDR3/IDR3_3/2458187'\n",
    "# os.environ[\"JULIANDATE\"] = JD\n",
    "# os.environ[\"DATA_PATH\"] = data_path"
   ]
  },
  {
   "cell_type": "code",
   "execution_count": null,
   "id": "d7f706b0",
   "metadata": {
    "ExecuteTime": {
     "end_time": "2022-04-28T00:14:47.982901Z",
     "start_time": "2022-04-28T00:14:47.974866Z"
    }
   },
   "outputs": [],
   "source": [
    "# Use environment variables to figure out path to data\n",
    "JD = os.environ['JULIANDATE']\n",
    "data_path = os.environ['DATA_PATH']\n",
    "print(f'JD = \"{JD}\"')\n",
    "print(f'data_path = \"{data_path}\"')"
   ]
  },
  {
   "cell_type": "code",
   "execution_count": null,
   "id": "cdeff34a",
   "metadata": {
    "ExecuteTime": {
     "end_time": "2022-04-28T00:14:48.019072Z",
     "start_time": "2022-04-28T00:14:47.984818Z"
    }
   },
   "outputs": [],
   "source": [
    "print(f'Looking for data in {data_path} on {JD}...')\n",
    "\n",
    "smooth_cal_files = sorted(glob.glob(os.path.join(data_path, f'*.smooth_abs.calfits')))\n",
    "print(f'...found {len(smooth_cal_files)} smoothed calibration files.')\n",
    "\n",
    "total_flags_files = sorted(glob.glob(os.path.join(data_path, '*.total_threshold_and_a_priori_flags.h5')))\n",
    "print(f'...found {len(total_flags_files)} total thresholding and apriori flags files.')\n",
    "\n",
    "ref_cal_files = sorted(glob.glob(os.path.join(data_path, '*.time_avg_ref_cal.calfits')))\n",
    "print(f'...found {len(ref_cal_files)} time-averaged reflection calibration files.')\n",
    "\n",
    "inpainted_autos_files = sorted(glob.glob(os.path.join(data_path, '*.autos.inpainted.uvh5')))\n",
    "print(f'...found {len(inpainted_autos_files)} CLEAN-inpainted autocorrelation files.')\n",
    "\n",
    "final_cal_files = sorted(glob.glob(os.path.join(data_path, '*.final_calibrated.uvh5')))\n",
    "print(f'...found {len(final_cal_files)} smooth-calibrated and reflection-calibrated data files.')\n",
    "\n",
    "dpss_filled_files = sorted(glob.glob(os.path.join(data_path, '*.dpss_filled.uvh5')))\n",
    "print(f'...found {len(dpss_filled_files)} DPSS inpainted files.')\n",
    "\n",
    "dpss_res_files = sorted(glob.glob(os.path.join(data_path, '*.dpss_res.uvh5')))\n",
    "print(f'...found {len(dpss_res_files)} DPSS delay-filtered files.')\n",
    "\n",
    "dpss_res_xtalk_filt_files = sorted(glob.glob(os.path.join(data_path, '*.dpss_res.xtalk_filt.uvh5')))\n",
    "print(f'...found {len(dpss_res_xtalk_filt_files)} DPSS delay-filtered, DPSS cross-talk-filtered files.')"
   ]
  },
  {
   "cell_type": "code",
   "execution_count": null,
   "id": "7afa33b5",
   "metadata": {
    "ExecuteTime": {
     "end_time": "2022-04-28T00:14:49.066302Z",
     "start_time": "2022-04-28T00:14:48.020621Z"
    }
   },
   "outputs": [],
   "source": [
    "# Load information about antenna positions and antenna flags\n",
    "hc = io.HERACal(smooth_cal_files[len(smooth_cal_files) // 2])\n",
    "_, sc_flags, _, _ = hc.read()\n",
    "ex_ants = set([ant[0] for ant in sc_flags if np.all(sc_flags[ant])])\n",
    "hd = io.HERAData(final_cal_files[len(final_cal_files) // 2])"
   ]
  },
  {
   "cell_type": "code",
   "execution_count": null,
   "id": "05ee9d19",
   "metadata": {
    "ExecuteTime": {
     "end_time": "2022-04-28T00:14:49.081438Z",
     "start_time": "2022-04-28T00:14:49.069062Z"
    }
   },
   "outputs": [],
   "source": [
    "# Pick group of 4 antennas in a row as close as possible to the emitter\n",
    "candidates = []\n",
    "for i, ant in enumerate(hd.data_ants):\n",
    "    if np.all([((ant + n) in hd.data_ants) and ((ant + n) not in ex_ants) for n in range(4)]):\n",
    "        y_positions = [hd.antpos[ant + n][1] for n in range(4)]\n",
    "        if np.max(y_positions) - np.min(y_positions) < 5:\n",
    "            candidates.append(ant)\n",
    "westernmost_ant = sorted(candidates, key=lambda ant: np.linalg.norm(hd.antpos[ant] - np.array([-180, -10, 0])))[0]\n",
    "ants_to_load = [westernmost_ant + n for n in range(4)]"
   ]
  },
  {
   "cell_type": "code",
   "execution_count": null,
   "id": "36e7e79d",
   "metadata": {
    "ExecuteTime": {
     "end_time": "2022-04-28T00:14:50.730401Z",
     "start_time": "2022-04-28T00:14:49.083594Z"
    }
   },
   "outputs": [],
   "source": [
    "plt.figure(figsize=(10,8))\n",
    "xpos = np.array([hd.antpos[ant][0] for ant in hd.data_ants])\n",
    "ypos = np.array([hd.antpos[ant][1] for ant in hd.data_ants])\n",
    "plt.scatter(xpos, ypos, c='w', s=0)\n",
    "for ant in hd.data_ants:\n",
    "    pos = hd.antpos[ant]\n",
    "    bad = ant in [ant[0] for ant in ex_ants]\n",
    "    plt.gca().add_artist(plt.Circle(tuple(pos[0:2]), radius=7, \n",
    "                                    fill=(~bad), color=['grey','r'][bad]))\n",
    "    if ant in ants_to_load:\n",
    "        plt.gca().add_artist(plt.Circle(tuple(hd.antpos[ant][0:2]), radius=7, fill=True, lw=0, color='b'))\n",
    "        plt.gca().add_artist(plt.Circle(tuple(hd.antpos[ant][0:2]), radius=6, fill=True, color='grey'))        \n",
    "    plt.text(pos[0],pos[1],str(ant), va='center', ha='center', color='w', size=14)        \n",
    "        \n",
    "legend_objs = []\n",
    "legend_labels = []\n",
    "legend_objs.append(matplotlib.lines.Line2D([0], [0], marker='o', color='w', markeredgecolor='grey', markerfacecolor='grey', markersize=13))\n",
    "legend_labels.append(f'{len(hd.data_ants) - len(ex_ants)} Unflagged Antennas')\n",
    "legend_objs.append(matplotlib.lines.Line2D([0], [0], marker='o', color='w', markeredgecolor='r', markerfacecolor='r', markersize=13))\n",
    "legend_labels.append(f'{len(ex_ants)} Flagged Antennas')\n",
    "legend_objs.append(matplotlib.lines.Line2D([0], [0], marker='o', color='w', markeredgewidth=2, markeredgecolor='b', markersize=15))\n",
    "legend_labels.append('Antennas Inspected\\nIn This Notebook')\n",
    "plt.legend(legend_objs, legend_labels, ncol=1, fontsize='large', framealpha=1)\n",
    "\n",
    "\n",
    "plt.xlabel(\"Antenna East-West Position (meters)\", size=14)\n",
    "plt.ylabel(\"Antenna North-South Position (meters)\", size=14)\n",
    "plt.axis('equal')\n",
    "plt.ylim([np.min(ypos)-10, np.max(ypos)+10])\n",
    "plt.tight_layout()\n",
    "plt.show()"
   ]
  },
  {
   "cell_type": "markdown",
   "id": "91923a21",
   "metadata": {},
   "source": [
    "### Figure 1: Array and Flagged Antennas\n",
    "This figure also shows which antennas are examined in the rest of this notebook. They were chosen to be 4 neighboring, unflagged antennas in a line, as close as possible to the receiverators (the likely cross-talk emitter).\n"
   ]
  },
  {
   "cell_type": "code",
   "execution_count": null,
   "id": "93703975",
   "metadata": {
    "ExecuteTime": {
     "end_time": "2022-04-28T00:14:50.842623Z",
     "start_time": "2022-04-28T00:14:50.731902Z"
    }
   },
   "outputs": [],
   "source": [
    "# Figure out baselines to load\n",
    "hd_final_cal = io.HERAData(final_cal_files[len(final_cal_files) // 2])\n",
    "bls = hd_final_cal.bls\n",
    "bls_to_load = [bl for bl in bls if bl[0] in ants_to_load and bl[1] in ants_to_load and bl[2] in ['ee', 'nn']]\n",
    "auto_bls = [bl for bl in bls_to_load if utils.split_bl(bl)[0] == utils.split_bl(bl)[1]]\n",
    "example_bl = sorted(bls_to_load, key=lambda bl: np.linalg.norm(hd_final_cal.antpos[bl[0]] - hd_final_cal.antpos[bl[1]]))[-1]  #i.e. the longest baseline"
   ]
  },
  {
   "cell_type": "code",
   "execution_count": null,
   "id": "63a4c711",
   "metadata": {
    "ExecuteTime": {
     "end_time": "2022-04-28T00:14:51.019458Z",
     "start_time": "2022-04-28T00:14:50.843822Z"
    }
   },
   "outputs": [],
   "source": [
    "# Figure out how many channels/integrations are completely flagged on both ends\n",
    "final_flag_waterfall = np.squeeze(pyuvdata.UVFlag(total_flags_files).flag_array)\n",
    "\n",
    "def count_edge_flags(flag_wf):\n",
    "    unflagged_channels = np.arange(flag_wf.shape[1])[~np.all(flag_wf, axis=0)]\n",
    "    ecf_low = unflagged_channels[0]\n",
    "    ecf_high = flag_wf.shape[1] - unflagged_channels[-1] - 1\n",
    "\n",
    "    unflagged_ints = np.arange(flag_wf.shape[0])[~np.all(flag_wf, axis=1)]\n",
    "    ect_low = unflagged_ints[0]\n",
    "    ect_high = flag_wf.shape[0] - unflagged_ints[-1] - 1\n",
    "    return ect_low, ect_high, ecf_low, ecf_high\n",
    "\n",
    "ect_low, ect_high, ecf_low, ecf_high = count_edge_flags(final_flag_waterfall)\n",
    "\n",
    "print(f'There are {ect_low} edge integrations flagged at the start of the night and {ect_high} at the end of the night.')\n",
    "print(f'There are {ecf_low} edge channels flagged at the low end and {ecf_high} at the high end.')"
   ]
  },
  {
   "cell_type": "markdown",
   "id": "3542e4d8",
   "metadata": {},
   "source": [
    "## Examine Reflection Calibration"
   ]
  },
  {
   "cell_type": "code",
   "execution_count": null,
   "id": "3aa8da4f",
   "metadata": {
    "ExecuteTime": {
     "end_time": "2022-04-28T00:14:51.145219Z",
     "start_time": "2022-04-28T00:14:51.023158Z"
    }
   },
   "outputs": [],
   "source": [
    "# Load reflection calibration\n",
    "hcr = io.HERACal(ref_cal_files)\n",
    "ref_cal_gains, ref_cal_flags, _, _ = hcr.read()"
   ]
  },
  {
   "cell_type": "code",
   "execution_count": null,
   "id": "5acc94e9",
   "metadata": {
    "ExecuteTime": {
     "end_time": "2022-04-28T00:15:56.377434Z",
     "start_time": "2022-04-28T00:14:51.147147Z"
    }
   },
   "outputs": [],
   "source": [
    "# Load inpainted autocorrelations\n",
    "hd_ip_autos = io.HERAData(inpainted_autos_files)\n",
    "hd_ip_autos.read(bls=auto_bls, return_data=False)"
   ]
  },
  {
   "cell_type": "code",
   "execution_count": null,
   "id": "9debf91b",
   "metadata": {
    "ExecuteTime": {
     "end_time": "2022-04-28T00:16:00.169980Z",
     "start_time": "2022-04-28T00:15:56.379236Z"
    }
   },
   "outputs": [],
   "source": [
    "# Time-average autocorrelations (and FT them)\n",
    "F = FRFilter(hd_ip_autos)\n",
    "F.timeavg_data(F.data, F.times, F.lsts, flags=F.flags, t_avg=1e10, overwrite=True)\n",
    "F.fft_data(data=F.avg_data, flags=F.avg_flags, assign='avg_fft', ax='freq', window='bh', edgecut_low=ecf_low, edgecut_hi=ecf_high, overwrite=True)\n",
    "avg_data, avg_flags = deepcopy(F.avg_data), deepcopy(F.avg_flags)\n",
    "\n",
    "# Time-average autocorrelations with reflection calibration (and FT them)\n",
    "apply_cal.calibrate_in_place(F.data, ref_cal_gains, data_flags=F.flags, cal_flags=ref_cal_flags)\n",
    "F.timeavg_data(F.data, F.times, F.lsts, flags=F.flags, t_avg=1e10, overwrite=True)\n",
    "F.fft_data(data=F.avg_data, flags=F.avg_flags, assign='avg_ref_cal_fft', ax='freq', window='bh', edgecut_low=ecf_low, edgecut_hi=ecf_high, overwrite=True)"
   ]
  },
  {
   "cell_type": "code",
   "execution_count": null,
   "id": "b15e3723",
   "metadata": {
    "ExecuteTime": {
     "end_time": "2022-04-28T00:16:01.219032Z",
     "start_time": "2022-04-28T00:16:00.171216Z"
    }
   },
   "outputs": [],
   "source": [
    "fig, axes = plt.subplots(2, 1, figsize=(14,10), sharex=True, gridspec_kw={'hspace': 0})\n",
    "for i, (pol, ax) in enumerate(zip(F.pols, axes)):\n",
    "    abl = (ants_to_load[0], ants_to_load[0], pol)\n",
    "    ax.semilogy(F.freqs / 1e6, np.where(np.all(final_flag_waterfall, axis=0), np.nan, np.squeeze(np.abs(avg_data[abl]))),\n",
    "                c='C1', lw=2, label=f'{abl} Smooth Calibrated')\n",
    "    ax.semilogy(F.freqs / 1e6, np.where(np.all(final_flag_waterfall, axis=0), np.nan, np.squeeze(np.abs(F.avg_data[abl]))),\n",
    "                c='C0', lw=1, label=f'{abl} Reflection Calibrated')\n",
    "    ax.legend()\n",
    "    ax.set_ylabel('Time-Averaged $|V_{ii}|$ (Jy)')\n",
    "    ax.set_xlabel('Frequency (MHz)') "
   ]
  },
  {
   "cell_type": "markdown",
   "id": "b2575ab7",
   "metadata": {},
   "source": [
    "### Figure 2: Demonstration of Reflection Calibration\n",
    "\n",
    "This figure shows how reflection calibration works on a single example antenna's autocorrelations (both polarizations). The autocorrelations are inpainted in frequency with CLEAN before being fit with a single time-independent reflection solution."
   ]
  },
  {
   "cell_type": "code",
   "execution_count": null,
   "id": "e557427b",
   "metadata": {
    "ExecuteTime": {
     "end_time": "2022-04-28T00:16:02.372328Z",
     "start_time": "2022-04-28T00:16:01.220248Z"
    }
   },
   "outputs": [],
   "source": [
    "# Plot delay spectra of autocorrelations with and without reflection calibration\n",
    "fig, axes = plt.subplots(4, 2, figsize=(14,12), sharex=True, sharey=True, gridspec_kw={'hspace': 0, 'wspace': 0})\n",
    "for i, (abl, ax) in enumerate(zip(F.data, axes.flatten())):\n",
    "    ax.semilogy(F.delays, np.abs(np.squeeze(F.avg_fft[abl])), c='C1', label=f'{abl} Inpainted')\n",
    "    ax.semilogy(F.delays, np.abs(np.squeeze(F.avg_ref_cal_fft[abl])), c='C0', lw=.5, label=f'{abl} Ref Cal')\n",
    "    ax.legend()\n",
    "    ax.set_xlim([-3999, 3999])\n",
    "    if i >= 6:\n",
    "        ax.set_xlabel('Delay (ns)')\n",
    "    if i % 2 == 0:\n",
    "        ax.set_ylabel('$|\\\\widetilde{V}_{ii}|$  [Jy Hz]')\n",
    "    \n",
    "plt.tight_layout()"
   ]
  },
  {
   "cell_type": "markdown",
   "id": "97860455",
   "metadata": {},
   "source": [
    "### Figure 3: Autocorrelation Delay Spectra, Before and After Reflection Calibration\n",
    "\n",
    "These delay spectra and time-averaged, delay-inpainted autocorrleations before and after reflection calibration. Ideally they the same power at 0 and high delay, but reduced power at low to medium delay."
   ]
  },
  {
   "cell_type": "markdown",
   "id": "7eddde22",
   "metadata": {},
   "source": [
    "## Load Waterfalls"
   ]
  },
  {
   "cell_type": "code",
   "execution_count": null,
   "id": "2ea4398c",
   "metadata": {
    "ExecuteTime": {
     "end_time": "2022-04-28T00:31:04.798083Z",
     "start_time": "2022-04-28T00:16:02.373399Z"
    }
   },
   "outputs": [],
   "source": [
    "# load dpss residual data\n",
    "hd_dpss_res = io.HERAData(dpss_res_files)\n",
    "hd_dpss_res.read(bls=bls_to_load, axis='blt', return_data=False)"
   ]
  },
  {
   "cell_type": "code",
   "execution_count": null,
   "id": "43d0ad01",
   "metadata": {
    "ExecuteTime": {
     "end_time": "2022-04-28T00:47:09.138966Z",
     "start_time": "2022-04-28T00:31:04.825863Z"
    }
   },
   "outputs": [],
   "source": [
    "# load dpss filled data\n",
    "hd_dpss_filled = io.HERAData(dpss_filled_files)\n",
    "hd_dpss_filled.read(bls=bls_to_load, axis='blt', return_data=False)"
   ]
  },
  {
   "cell_type": "code",
   "execution_count": null,
   "id": "f1e0187b",
   "metadata": {
    "ExecuteTime": {
     "end_time": "2022-04-28T01:00:47.903554Z",
     "start_time": "2022-04-28T00:47:09.297526Z"
    }
   },
   "outputs": [],
   "source": [
    "# load dpss filled, dpss cross-talk filtered data\n",
    "hd_dpss_res_xtalk_filt = io.HERAData(dpss_res_xtalk_filt_files)\n",
    "hd_dpss_res_xtalk_filt.read(bls=bls_to_load, axis='blt', return_data=False)"
   ]
  },
  {
   "cell_type": "code",
   "execution_count": null,
   "id": "3c14a5c8",
   "metadata": {
    "ExecuteTime": {
     "end_time": "2022-04-28T01:00:54.958352Z",
     "start_time": "2022-04-28T01:00:49.533473Z"
    }
   },
   "outputs": [],
   "source": [
    "# plot example waterfall of final calibrated data, both abs and angle\n",
    "fig, axes = plt.subplots(1, 2, figsize=(14,12))\n",
    "\n",
    "d, f, n = hd_dpss_filled.build_datacontainers()\n",
    "lsts_unwrapped = np.where(d.lsts > d.lsts[-1], d.lsts - 2 * np.pi, d.lsts) * 12 / np.pi  # in hours\n",
    "extent = [d.freqs[0] / 1e6, d.freqs[-1] / 1e6, lsts_unwrapped[-1], lsts_unwrapped[0]]\n",
    "\n",
    "im = axes[0].imshow(np.where(final_flag_waterfall, np.nan, np.abs(d[example_bl])), aspect='auto', interpolation='none', \n",
    "                   norm=matplotlib.colors.LogNorm(), cmap='inferno', extent=extent)\n",
    "plt.colorbar(im, ax=axes[0], label='$|V_{ij}|$ (Jy)')\n",
    "axes[0].set_title(f'Final Calibrated Amplitude of {example_bl}')\n",
    "\n",
    "im = axes[1].imshow(np.where(final_flag_waterfall, np.nan, np.angle(d[example_bl])), aspect='auto', interpolation='none', \n",
    "                    cmap='twilight', extent=extent)\n",
    "plt.colorbar(im, ax=axes[1], label='Angle($V_{ij})$ (radians)')\n",
    "axes[1].set_title(f'Final Calibrated Phase of {example_bl}')\n",
    "\n",
    "for ax in axes:\n",
    "    ax.set_xlabel('Frequency (MHz)')\n",
    "    ax.set_ylabel('LST (hours)')\n",
    "plt.tight_layout()"
   ]
  },
  {
   "cell_type": "markdown",
   "id": "cb7bf4db",
   "metadata": {},
   "source": [
    "### Figure 4: Full-Day, Final Calibrated Amplitude and Phase of an Example Baseline\n",
    "This is after reflection calibration but before any delay or cross-talk filtering."
   ]
  },
  {
   "cell_type": "markdown",
   "id": "477dbaf5",
   "metadata": {},
   "source": [
    "## Examine DPSS-Inpainted Visibilities"
   ]
  },
  {
   "cell_type": "code",
   "execution_count": null,
   "id": "ecd08b90",
   "metadata": {
    "ExecuteTime": {
     "end_time": "2022-04-28T01:01:12.613840Z",
     "start_time": "2022-04-28T01:00:54.959551Z"
    }
   },
   "outputs": [],
   "source": [
    "# FFT visibilities in 1D and 2D\n",
    "F_filled = FRFilter(hd_dpss_filled)\n",
    "F_filled.fft_data(data=F_filled.data, assign='dfft', ax='freq', window='bh', \n",
    "                  edgecut_low=ecf_low, edgecut_hi=ecf_high, overwrite=True)\n",
    "F_filled.vis_clean(data=F_filled.data, flags=F_filled.flags, keys=[example_bl], ax='time', max_frate=5, tol=1e-6, gain=0.9,\n",
    "                   window='bh', alpha=0.1, overwrite=True, verbose=True, x=F_filled.times*24*3600, output_prefix='xclean')\n",
    "F_filled.fft_data(data=F_filled.xclean_data, keys=[example_bl], assign='xdfft2', ax='both', window=('bh','bh'), \n",
    "                  edgecut_low=(ect_low, ecf_low), edgecut_hi=(ect_high, ecf_high), overwrite=True)"
   ]
  },
  {
   "cell_type": "code",
   "execution_count": null,
   "id": "8b6e9736",
   "metadata": {
    "ExecuteTime": {
     "end_time": "2022-04-28T01:01:13.510159Z",
     "start_time": "2022-04-28T01:01:12.615527Z"
    }
   },
   "outputs": [],
   "source": [
    "# plot real part of DPSS inpainted example waterfall\n",
    "lsts_unwrapped = np.where(F_filled.lsts > F_filled.lsts[-1], F_filled.lsts - 2 * np.pi, F_filled.lsts) * 12 / np.pi  # in hours\n",
    "extent = [F_filled.freqs[0]/1e6, F_filled.freqs[-1]/1e6, lsts_unwrapped[-1], lsts_unwrapped[0]]\n",
    "\n",
    "def sym_log_norm(to_plot):\n",
    "    '''Shortcut for symmetric sym log norm.'''\n",
    "    return matplotlib.colors.SymLogNorm(10, vmin=-np.nanmax(np.abs(to_plot)), vmax=np.nanmax(np.abs(to_plot)))\n",
    "\n",
    "plt.figure(figsize=(14,8))\n",
    "to_plot = np.where(F_filled.flags[example_bl], np.nan, F_filled.data[example_bl]).real\n",
    "plt.imshow(to_plot, aspect='auto', interpolation='none',  cmap='bwr', extent=extent, norm=sym_log_norm(to_plot))\n",
    "plt.colorbar(label='Re$[V_{ij}]$ (Jy)')\n",
    "plt.xlabel('Frequency (MHz)')\n",
    "plt.ylabel('LST (Hours)')\n",
    "plt.title(f'Final Calibrated, DPSS Inpainted Visibility: {example_bl}')\n",
    "plt.tight_layout()"
   ]
  },
  {
   "cell_type": "markdown",
   "id": "d07dab83",
   "metadata": {},
   "source": [
    "### Figure 5a: Real Part of DPSS-Inpainted Example Waterfall"
   ]
  },
  {
   "cell_type": "code",
   "execution_count": null,
   "id": "1b7a2e9a",
   "metadata": {
    "ExecuteTime": {
     "end_time": "2022-04-28T01:01:14.545981Z",
     "start_time": "2022-04-28T01:01:13.511597Z"
    }
   },
   "outputs": [],
   "source": [
    "# plot in delay space\n",
    "plt.figure(figsize=(14,8))\n",
    "to_plot = np.where(np.all(F_filled.flags[example_bl], axis=1, keepdims=True), np.nan, np.real(F_filled.dfft[example_bl]))\n",
    "plt.imshow(to_plot, interpolation='none', aspect='auto', cmap='bwr', norm=sym_log_norm(to_plot),\n",
    "           extent=[F_filled.delays[0], F_filled.delays[-1], lsts_unwrapped[-1], lsts_unwrapped[0]])\n",
    "plt.xlim([-2000, 2000])\n",
    "plt.xlabel('Delay (ns)')\n",
    "plt.ylabel('LST (hours)')\n",
    "plt.colorbar(label=r'Re$[\\widetilde{V}_{ij}]$ (Jy Hz)')\n",
    "plt.title(f'Final Calibrated, DPSS Inpainted Visibility: {example_bl}')\n",
    "plt.tight_layout()"
   ]
  },
  {
   "cell_type": "markdown",
   "id": "46d41dfb",
   "metadata": {},
   "source": [
    "### Figure 5b: Real Part of DPSS-Inpainted Example Waterfall in Delay Space"
   ]
  },
  {
   "cell_type": "code",
   "execution_count": null,
   "id": "4f934e52",
   "metadata": {
    "ExecuteTime": {
     "end_time": "2022-04-28T01:01:15.461914Z",
     "start_time": "2022-04-28T01:01:14.547334Z"
    }
   },
   "outputs": [],
   "source": [
    "# plot in delay space and FR space\n",
    "extent = [F_filled.delays[0], F_filled.delays[-1], F_filled.frates[-1], F_filled.frates[0]]\n",
    "plt.figure(figsize=(14,8))\n",
    "plt.imshow(np.abs(F_filled.xdfft2[example_bl]), aspect='auto', interpolation='none', \n",
    "           norm=matplotlib.colors.LogNorm(), cmap='turbo', extent=extent)\n",
    "plt.colorbar(label='$|\\widetilde{V}_{ij}|$ (Jy)')\n",
    "plt.xlabel('Delay (ns)')\n",
    "plt.xlim([-2000, 2000])\n",
    "plt.ylim([-5, 5])\n",
    "plt.ylabel('Fringe Rate (mHz)')\n",
    "plt.title(f'Final Calibrated, DPSS Inpainted (in Frequency) and CLEAN Inpainted (in Time): {example_bl}')\n",
    "plt.tight_layout()"
   ]
  },
  {
   "cell_type": "markdown",
   "id": "c5455c12",
   "metadata": {},
   "source": [
    "### Figure 5c: Magnitude of DPSS-Inpainted Example Waterfall in Fringe-Rate / Delay Space"
   ]
  },
  {
   "cell_type": "markdown",
   "id": "441fa2bb",
   "metadata": {},
   "source": [
    "## Examine DPSS-Residual Visibilities"
   ]
  },
  {
   "cell_type": "code",
   "execution_count": null,
   "id": "d2306ed7",
   "metadata": {
    "ExecuteTime": {
     "end_time": "2022-04-28T01:01:34.217364Z",
     "start_time": "2022-04-28T01:01:15.463286Z"
    }
   },
   "outputs": [],
   "source": [
    "# FFT visibilities in 1D and 2D\n",
    "F_res = FRFilter(hd_dpss_res)\n",
    "F_res.fft_data(data=F_res.data, assign='dfft', ax='freq', window='bh', \n",
    "               edgecut_low=ecf_low, edgecut_hi=ecf_high, overwrite=True)\n",
    "F_res.vis_clean(data=F_res.data, flags=F_res.flags, keys=[example_bl], ax='time', max_frate=5, tol=1e-6, gain=0.9,\n",
    "                   window='bh', alpha=0.1, overwrite=True, verbose=True, x=F_res.times*24*3600, output_prefix='xclean')\n",
    "F_res.fft_data(data=F_res.xclean_data, keys=[example_bl], assign='xdfft2', ax='both', window=('bh','bh'), \n",
    "                  edgecut_low=(ect_low, ecf_low), edgecut_hi=(ect_high, ecf_high), overwrite=True)"
   ]
  },
  {
   "cell_type": "code",
   "execution_count": null,
   "id": "94bc85c2",
   "metadata": {
    "ExecuteTime": {
     "end_time": "2022-04-28T01:01:35.275500Z",
     "start_time": "2022-04-28T01:01:34.218670Z"
    }
   },
   "outputs": [],
   "source": [
    "# plot real part of DPSS residual example waterfall\n",
    "lsts_unwrapped = np.where(F_res.lsts > F_res.lsts[-1], F_res.lsts - 2 * np.pi, F_res.lsts) * 12 / np.pi  # in hours\n",
    "extent = [F_res.freqs[0]/1e6, F_res.freqs[-1]/1e6, lsts_unwrapped[-1], lsts_unwrapped[0]]\n",
    "\n",
    "plt.figure(figsize=(14,8))\n",
    "to_plot = np.where(F_res.flags[example_bl], np.nan, F_res.data[example_bl]).real\n",
    "plt.imshow(to_plot, aspect='auto', interpolation='none', norm=sym_log_norm(to_plot), cmap='bwr', extent=extent)\n",
    "plt.colorbar(label='Re$[V_{ij}]$ (Jy)')\n",
    "plt.xlabel('Frequency (MHz)')\n",
    "plt.ylabel('LST (Hours)')\n",
    "plt.title(f'Final Calibrated, DPSS Residual Visibility: {example_bl}')\n",
    "plt.tight_layout()"
   ]
  },
  {
   "cell_type": "markdown",
   "id": "74361871",
   "metadata": {
    "ExecuteTime": {
     "end_time": "2022-04-27T02:20:28.039375Z",
     "start_time": "2022-04-27T02:20:12.289977Z"
    }
   },
   "source": [
    "### Figure 6a: Real Part of DPSS-Residual Example Waterfall"
   ]
  },
  {
   "cell_type": "code",
   "execution_count": null,
   "id": "5f29f171",
   "metadata": {
    "ExecuteTime": {
     "end_time": "2022-04-28T01:01:36.257326Z",
     "start_time": "2022-04-28T01:01:35.276722Z"
    }
   },
   "outputs": [],
   "source": [
    "# plot in delay space\n",
    "plt.figure(figsize=(14,8))\n",
    "to_plot = np.where(np.all(F_res.flags[example_bl], axis=1, keepdims=True), np.nan, np.real(F_res.dfft[example_bl]))\n",
    "plt.imshow(to_plot, interpolation='none', aspect='auto', cmap='bwr', norm=sym_log_norm(to_plot),\n",
    "           extent=[F_res.delays[0], F_res.delays[-1], lsts_unwrapped[-1], lsts_unwrapped[0]])\n",
    "plt.xlim([-2000, 2000])\n",
    "plt.xlabel('Delay (ns)')\n",
    "plt.ylabel('LST (hours)')\n",
    "plt.colorbar(label=r'Re$[\\widetilde{V}_{ij}]$ (Jy Hz)')\n",
    "plt.title(f'Final Calibrated, DPSS Residual Visibility: {example_bl}')\n",
    "plt.tight_layout()"
   ]
  },
  {
   "cell_type": "markdown",
   "id": "fce62a5e",
   "metadata": {
    "ExecuteTime": {
     "end_time": "2022-04-27T02:20:28.039375Z",
     "start_time": "2022-04-27T02:20:12.289977Z"
    }
   },
   "source": [
    "### Figure 6b: Real Part of DPSS-Residual Example Waterfall in Delay Space"
   ]
  },
  {
   "cell_type": "code",
   "execution_count": null,
   "id": "8a92352c",
   "metadata": {
    "ExecuteTime": {
     "end_time": "2022-04-28T01:01:37.169615Z",
     "start_time": "2022-04-28T01:01:36.258731Z"
    }
   },
   "outputs": [],
   "source": [
    "# plot in delay space and FR space\n",
    "extent = [F_res.delays[0], F_res.delays[-1], F_res.frates[-1], F_res.frates[0]]\n",
    "plt.figure(figsize=(14,8))\n",
    "plt.imshow(np.abs(F_res.xdfft2[example_bl]), aspect='auto', interpolation='none', \n",
    "           norm=matplotlib.colors.LogNorm(), cmap='jet', extent=extent)\n",
    "plt.colorbar(label='$|\\widetilde{V}_{ij}|$ (Jy)')\n",
    "plt.xlabel('Delay (ns)')\n",
    "plt.xlim([-2000, 2000])\n",
    "plt.ylim([-5, 5])\n",
    "plt.ylabel('Fringe Rate (mHz)')\n",
    "plt.title(f'Final Calibrated, DPSS Residual (in Frequency) and CLEAN Inpainted (in Time): {example_bl}')\n",
    "plt.tight_layout()"
   ]
  },
  {
   "cell_type": "markdown",
   "id": "f1bc3dbe",
   "metadata": {},
   "source": [
    "### Figure 6c: Magnitude of DPSS-Residual Example Waterfall in Fringe-Rate / Delay Space"
   ]
  },
  {
   "cell_type": "markdown",
   "id": "a1205124",
   "metadata": {},
   "source": [
    "## Examine DPSS-Residual, Cross-Talk Filtered Visibilities"
   ]
  },
  {
   "cell_type": "code",
   "execution_count": null,
   "id": "16b96054",
   "metadata": {
    "ExecuteTime": {
     "end_time": "2022-04-28T01:01:55.389766Z",
     "start_time": "2022-04-28T01:01:37.170714Z"
    }
   },
   "outputs": [],
   "source": [
    "# FFT visibilities in 1D and 2D\n",
    "F_res_filt = FRFilter(hd_dpss_res_xtalk_filt)\n",
    "F_res_filt.fft_data(data=F_res_filt.data, assign='dfft', ax='freq', window='bh', \n",
    "                    edgecut_low=ecf_low, edgecut_hi=ecf_high, overwrite=True)\n",
    "F_res_filt.vis_clean(data=F_res_filt.data, flags=F_res_filt.flags, keys=[example_bl], ax='time', max_frate=5, tol=1e-6, gain=0.9,\n",
    "                   window='bh', alpha=0.1, overwrite=True, verbose=True, x=F_res_filt.times*24*3600, output_prefix='xclean')\n",
    "F_res_filt.fft_data(data=F_res_filt.xclean_data, keys=[example_bl], assign='xdfft2', ax='both', window=('bh','bh'), \n",
    "                  edgecut_low=(ect_low, ecf_low), edgecut_hi=(ect_high, ecf_high), overwrite=True)"
   ]
  },
  {
   "cell_type": "code",
   "execution_count": null,
   "id": "a3d81f4a",
   "metadata": {
    "ExecuteTime": {
     "end_time": "2022-04-28T01:01:56.488464Z",
     "start_time": "2022-04-28T01:01:55.393277Z"
    }
   },
   "outputs": [],
   "source": [
    "# plot real part of DPSS residual example waterfall\n",
    "lsts_unwrapped = np.where(F_res_filt.lsts > F_res_filt.lsts[-1], F_res_filt.lsts - 2 * np.pi, F_res_filt.lsts) * 12 / np.pi  # in hours\n",
    "extent = [F_res_filt.freqs[0]/1e6, F_res_filt.freqs[-1]/1e6, lsts_unwrapped[-1], lsts_unwrapped[0]]\n",
    "\n",
    "plt.figure(figsize=(14,8))\n",
    "to_plot = np.where(F_res_filt.flags[example_bl], np.nan, F_res_filt.data[example_bl]).real\n",
    "plt.imshow(to_plot, aspect='auto', interpolation='none', norm=sym_log_norm(to_plot), cmap='bwr', extent=extent)\n",
    "plt.colorbar(label='Re$[V_{ij}]$ (Jy)')\n",
    "plt.xlabel('Frequency (MHz)')\n",
    "plt.ylabel('LST (Hours)')\n",
    "plt.title(f'Final Calibrated, DPSS Residual, DPSS Cross-Talk Filtered Visibility: {example_bl}')\n",
    "plt.tight_layout()"
   ]
  },
  {
   "cell_type": "markdown",
   "id": "9b18add9",
   "metadata": {
    "ExecuteTime": {
     "end_time": "2022-04-27T02:22:09.258011Z",
     "start_time": "2022-04-27T02:21:55.247112Z"
    }
   },
   "source": [
    "### Figure 7a: Real Part of DPSS-Residual Example Waterfall After Cross-Talk Filtering"
   ]
  },
  {
   "cell_type": "code",
   "execution_count": null,
   "id": "2923e18b",
   "metadata": {
    "ExecuteTime": {
     "end_time": "2022-04-28T01:01:57.480548Z",
     "start_time": "2022-04-28T01:01:56.489663Z"
    }
   },
   "outputs": [],
   "source": [
    "# plot in delay space\n",
    "plt.figure(figsize=(14,8))\n",
    "to_plot = np.where(np.all(F_res_filt.flags[example_bl], axis=1, keepdims=True), np.nan, np.real(F_res_filt.dfft[example_bl]))\n",
    "plt.imshow(to_plot, interpolation='none', aspect='auto', cmap='bwr', norm=sym_log_norm(to_plot),\n",
    "           extent=[F_res_filt.delays[0], F_res_filt.delays[-1], lsts_unwrapped[-1], lsts_unwrapped[0]])\n",
    "plt.xlim([-2000, 2000])\n",
    "plt.xlabel('Delay (ns)')\n",
    "plt.ylabel('LST (hours)')\n",
    "plt.colorbar(label=r'Re$[\\widetilde{V}_{ij}]$ (Jy Hz)')\n",
    "plt.title(f'Final Calibrated, DPSS Residual, DPSS Cross-Talk Filtered Visibility: {example_bl}')\n",
    "plt.tight_layout()"
   ]
  },
  {
   "cell_type": "markdown",
   "id": "67bc408b",
   "metadata": {
    "ExecuteTime": {
     "end_time": "2022-04-27T02:22:09.258011Z",
     "start_time": "2022-04-27T02:21:55.247112Z"
    }
   },
   "source": [
    "### Figure 7b: Real Part of DPSS-Residual Example Waterfall After Cross-Talk Filtering in Delay Space"
   ]
  },
  {
   "cell_type": "code",
   "execution_count": null,
   "id": "3cb31096",
   "metadata": {
    "ExecuteTime": {
     "end_time": "2022-04-28T01:01:58.410706Z",
     "start_time": "2022-04-28T01:01:57.481827Z"
    }
   },
   "outputs": [],
   "source": [
    "# plot in delay space and FR space\n",
    "extent = [F_res_filt.delays[0], F_res_filt.delays[-1], F_res_filt.frates[-1], F_res_filt.frates[0]]\n",
    "plt.figure(figsize=(14,8))\n",
    "plt.imshow(np.abs(F_res_filt.xdfft2[example_bl]), aspect='auto', interpolation='none', \n",
    "           norm=matplotlib.colors.LogNorm(), cmap='jet', extent=extent)\n",
    "plt.colorbar(label='$|\\widetilde{V}_{ij}|$ (Jy)')\n",
    "plt.xlabel('Delay (ns)')\n",
    "plt.xlim([-2000, 2000])\n",
    "plt.ylim([-5, 5])\n",
    "plt.ylabel('Fringe Rate (mHz)')\n",
    "plt.title(f'Final Calibrated, DPSS Residual, DPSS Cross-Talk Filtered, and CLEAN Inpainted (in Time): {example_bl}')\n",
    "plt.tight_layout()"
   ]
  },
  {
   "cell_type": "markdown",
   "id": "41808a16",
   "metadata": {},
   "source": [
    "### Figure 7c: Magnitude of DPSS-Residual Example Waterfall After Cross-Talk Filtering in Fringe-Rate / Delay Space"
   ]
  },
  {
   "cell_type": "markdown",
   "id": "6ad3352c",
   "metadata": {},
   "source": [
    "## Compare Incoherently Averaged Delay Spectra"
   ]
  },
  {
   "cell_type": "code",
   "execution_count": null,
   "id": "fee121bd",
   "metadata": {
    "ExecuteTime": {
     "end_time": "2022-04-28T01:35:54.237008Z",
     "start_time": "2022-04-28T01:35:52.198910Z"
    }
   },
   "outputs": [],
   "source": [
    "def calculate_avg_norm_spectra(dfft, flags, nsamples):\n",
    "    '''Calculates incoherently-averaged spectrum, using ses flags and frequency-averaged nsamples as weights.'''\n",
    "    avg_norm_spectra = {}\n",
    "    for bl in dfft:\n",
    "        if bl[0] != bl[1]:        \n",
    "            wgts = np.where(np.all(flags[bl], axis=1, keepdims=True), np.nan, np.sum(nsamples[bl], axis=1, keepdims=True))\n",
    "            avg_norm_spectra[bl] = np.nanmean(np.where(np.all(flags[bl], axis=1, keepdims=True), np.nan, np.abs(dfft[bl]) * wgts), axis=0) / np.nanmean(wgts)\n",
    "    return avg_norm_spectra\n",
    "\n",
    "# Calculate incoherently time-averaged delay spectra\n",
    "avg_norm_filled_spectra = calculate_avg_norm_spectra(F_filled.dfft, F_filled.flags, F_filled.nsamples)\n",
    "avg_norm_res_spectra = calculate_avg_norm_spectra(F_res.dfft, F_res.flags, F_res.nsamples)\n",
    "avg_norm_res_filt_spectra = calculate_avg_norm_spectra(F_res_filt.dfft, F_res_filt.flags, F_res_filt.nsamples)"
   ]
  },
  {
   "cell_type": "code",
   "execution_count": null,
   "id": "d3d838b7",
   "metadata": {
    "ExecuteTime": {
     "end_time": "2022-04-28T01:36:42.648304Z",
     "start_time": "2022-04-28T01:36:39.912874Z"
    }
   },
   "outputs": [],
   "source": [
    "# Plot all incoherently time-averaged delay spectra\n",
    "fig, axes = plt.subplots(6, 2, figsize=(14,12), sharex=True, sharey=True, gridspec_kw={'wspace': 0, 'hspace': 0})\n",
    "ylim = (np.min(np.array(list(avg_norm_filled_spectra.values()))) / 10, \n",
    "        np.max(np.array(list(avg_norm_filled_spectra.values()))) * 2)\n",
    "\n",
    "for i, bl, ax in zip(range(len(avg_norm_filled_spectra)), avg_norm_filled_spectra, axes.flatten()):\n",
    "    ax.semilogy(F_filled.delays, avg_norm_filled_spectra[bl], label='DPSS Filled')\n",
    "    ax.semilogy(F_res.delays, avg_norm_res_spectra[bl], label='DPSS Residual')\n",
    "    ax.semilogy(F_res_filt.delays, avg_norm_res_filt_spectra[bl], label='DPSS Residual &\\nDPSS Cros-Talk Filtered')    \n",
    "\n",
    "    ax.set_ylim(ylim)    \n",
    "    ax.set_xlabel('Delay (ns)')\n",
    "    \n",
    "    ax.set_xlim([-1999, 1999])\n",
    "    if i % 2 == 0:\n",
    "        ax.set_ylabel('$|\\\\tilde{V}_{ij}|$ (Jy Hz)')\n",
    "    \n",
    "    ax.legend(loc='upper left', title=bl)\n",
    "plt.tight_layout()"
   ]
  },
  {
   "cell_type": "markdown",
   "id": "e2e331fa",
   "metadata": {},
   "source": [
    "### Figure 8: Delay Spectra, Incoherently Averaged Over The Night, of All Baselines at All Three Stages of Filtering After Coherently"
   ]
  },
  {
   "cell_type": "markdown",
   "id": "eb8411a0",
   "metadata": {
    "ExecuteTime": {
     "end_time": "2022-04-27T05:35:56.274974Z",
     "start_time": "2022-04-27T05:35:56.272359Z"
    }
   },
   "source": [
    "## Examine Delay Spectra After Coherent Time-Averaging"
   ]
  },
  {
   "cell_type": "code",
   "execution_count": null,
   "id": "67164db0",
   "metadata": {
    "ExecuteTime": {
     "end_time": "2022-04-28T01:02:16.286075Z",
     "start_time": "2022-04-28T01:02:08.616029Z"
    }
   },
   "outputs": [],
   "source": [
    "# Perform time averaging\n",
    "with contextlib.redirect_stdout(None):\n",
    "    F_filled.timeavg_data(F_filled.data, F_filled.times, lsts=F_filled.lsts, t_avg=214.0, flags=F_filled.flags, nsamples=F_filled.nsamples, \n",
    "                          wgt_by_nsample=False, wgt_by_favg_nsample=True, overwrite=True)\n",
    "    F_res.timeavg_data(F_res.data, F_res.times, lsts=F_res.lsts, t_avg=214.0, flags=F_res.flags, nsamples=F_res.nsamples, \n",
    "                       wgt_by_nsample=False, wgt_by_favg_nsample=True, overwrite=True)\n",
    "    F_res_filt.timeavg_data(F_res_filt.data, F_res_filt.times, lsts=F_res_filt.lsts, t_avg=214.0, flags=F_res_filt.flags, nsamples=F_res_filt.nsamples, \n",
    "                            wgt_by_nsample=False, wgt_by_favg_nsample=True, overwrite=True)"
   ]
  },
  {
   "cell_type": "code",
   "execution_count": null,
   "id": "7b39910f",
   "metadata": {
    "ExecuteTime": {
     "end_time": "2022-04-28T01:02:16.293870Z",
     "start_time": "2022-04-28T01:02:16.287256Z"
    }
   },
   "outputs": [],
   "source": [
    "# Drop last integration, which will generally be smaller and make time grids not uniform\n",
    "for F in [F_filled, F_res, F_res_filt]:\n",
    "    F.avg_times = F.avg_times[:-1]\n",
    "    F.avg_lsts = F.avg_lsts[:-1]\n",
    "    for bl in F.avg_data:\n",
    "        F.avg_data[bl] = F.avg_data[bl][:-1, :]\n",
    "        F.avg_flags[bl] = F.avg_flags[bl][:-1, :]\n",
    "        F.avg_nsamples[bl] = F.avg_nsamples[bl][:-1, :]              "
   ]
  },
  {
   "cell_type": "code",
   "execution_count": null,
   "id": "7b1fda06",
   "metadata": {
    "ExecuteTime": {
     "end_time": "2022-04-28T01:02:16.641651Z",
     "start_time": "2022-04-28T01:02:16.295033Z"
    }
   },
   "outputs": [],
   "source": [
    "# Perform 1D FFTs\n",
    "F_filled.fft_data(data=F_filled.avg_data, assign='avg_dfft', ax='freq', window='bh', edgecut_low=ecf_low, edgecut_hi=ecf_high, overwrite=True)\n",
    "F_res.fft_data(data=F_res.avg_data, assign='avg_dfft', ax='freq', window='bh', edgecut_low=ecf_low, edgecut_hi=ecf_high, overwrite=True)\n",
    "F_res_filt.fft_data(data=F_res_filt.avg_data, assign='avg_dfft', ax='freq', window='bh', edgecut_low=ecf_low, edgecut_hi=ecf_high, overwrite=True)"
   ]
  },
  {
   "cell_type": "code",
   "execution_count": null,
   "id": "a0680fc1",
   "metadata": {
    "ExecuteTime": {
     "end_time": "2022-04-28T01:36:54.949440Z",
     "start_time": "2022-04-28T01:36:54.933681Z"
    }
   },
   "outputs": [],
   "source": [
    "# Calculate incoherently time-averaged delay spectra\n",
    "avg_norm_filled_spectra = calculate_avg_norm_spectra(F_filled.avg_dfft, F_filled.avg_flags, F_filled.avg_nsamples)\n",
    "avg_norm_res_spectra = calculate_avg_norm_spectra(F_res.avg_dfft, F_res.avg_flags, F_res.avg_nsamples)\n",
    "avg_norm_res_filt_spectra = calculate_avg_norm_spectra(F_res_filt.avg_dfft, F_res_filt.avg_flags, F_res_filt.avg_nsamples)"
   ]
  },
  {
   "cell_type": "code",
   "execution_count": null,
   "id": "c0ec1521",
   "metadata": {
    "ExecuteTime": {
     "end_time": "2022-04-28T01:36:58.949616Z",
     "start_time": "2022-04-28T01:36:56.281257Z"
    }
   },
   "outputs": [],
   "source": [
    "# Plot all incoherently time-averaged delay spectra\n",
    "fig, axes = plt.subplots(6, 2, figsize=(14,12), sharex=True, sharey=True, gridspec_kw={'wspace': 0, 'hspace': 0})\n",
    "ylim = (np.min(np.array(list(avg_norm_filled_spectra.values()))) / 10, \n",
    "        np.max(np.array(list(avg_norm_filled_spectra.values()))) * 2)\n",
    "\n",
    "for i, bl, ax in zip(range(len(avg_norm_filled_spectra)), avg_norm_filled_spectra, axes.flatten()):\n",
    "    ax.semilogy(F_filled.delays, avg_norm_filled_spectra[bl], label='DPSS Filled')\n",
    "    ax.semilogy(F_res.delays, avg_norm_res_spectra[bl], label='DPSS Residual')\n",
    "    ax.semilogy(F_res_filt.delays, avg_norm_res_filt_spectra[bl], label='DPSS Residual &\\nDPSS Cross-Talk Filtered')    \n",
    "\n",
    "    ax.set_ylim(ylim)    \n",
    "    ax.set_xlabel('Delay (ns)')\n",
    "    \n",
    "    ax.set_xlim([-1999, 1999])\n",
    "    if i % 2 == 0:\n",
    "        ax.set_ylabel('$|\\\\tilde{V}_{ij}|$ (Jy Hz)')    \n",
    "    \n",
    "    ax.legend(loc='upper left', title=bl)\n",
    "plt.tight_layout()"
   ]
  },
  {
   "cell_type": "markdown",
   "id": "976b2e9d",
   "metadata": {},
   "source": [
    "### Figure 9: Delay Spectra, Incoherently Averaged Over The Night, of All Baselines at All Three Stages of Filtering After Coherently Time-Averaging"
   ]
  },
  {
   "cell_type": "markdown",
   "id": "58fca0a6",
   "metadata": {
    "ExecuteTime": {
     "end_time": "2022-04-27T02:53:53.246605Z",
     "start_time": "2022-04-27T02:53:53.243149Z"
    }
   },
   "source": [
    "## Examine Delay Spectra After Forming Pseudo-Stokes I"
   ]
  },
  {
   "cell_type": "code",
   "execution_count": null,
   "id": "41936979",
   "metadata": {
    "ExecuteTime": {
     "end_time": "2022-04-28T01:02:19.798633Z",
     "start_time": "2022-04-28T01:02:19.620685Z"
    }
   },
   "outputs": [],
   "source": [
    "# Form psuedo-stokes by averaging 'ee' and 'nn'\n",
    "for F in [F_filled, F_res, F_res_filt]:\n",
    "    F.pseudo_I = datacontainer.DataContainer({})\n",
    "    F.pseudo_I_flags = datacontainer.DataContainer({})\n",
    "    F.pseudo_I_nsamples = datacontainer.DataContainer({})    \n",
    "    for bl in F.avg_data:\n",
    "        F.pseudo_I[bl[0], bl[1], 'pI'] = 0.5 * (F.avg_data[bl[0], bl[1], 'ee'] + F.avg_data[bl[0], bl[1], 'nn'])\n",
    "        F.pseudo_I_flags[bl[0], bl[1], 'pI'] = F.avg_flags[bl[0], bl[1], 'ee'] | F.avg_flags[bl[0], bl[1], 'nn']\n",
    "        F.pseudo_I_nsamples[bl[0], bl[1], 'pI'] = .5 * F.avg_nsamples[bl[0], bl[1], 'ee'] + .5 * F.avg_nsamples[bl[0], bl[1], 'nn']        "
   ]
  },
  {
   "cell_type": "code",
   "execution_count": null,
   "id": "9b30f82c",
   "metadata": {
    "ExecuteTime": {
     "end_time": "2022-04-28T01:02:19.993949Z",
     "start_time": "2022-04-28T01:02:19.799973Z"
    }
   },
   "outputs": [],
   "source": [
    "# FFT visibilities in 1D\n",
    "F_filled.fft_data(data=F_filled.pseudo_I, assign='pI_dfft', ax='freq', window='bh', edgecut_low=ecf_low, edgecut_hi=ecf_high, overwrite=True)\n",
    "F_res.fft_data(data=F_res.pseudo_I, assign='pI_dfft', ax='freq', window='bh', edgecut_low=ecf_low, edgecut_hi=ecf_high, overwrite=True)\n",
    "F_res_filt.fft_data(data=F_res_filt.pseudo_I, assign='pI_dfft', ax='freq', window='bh', edgecut_low=ecf_low, edgecut_hi=ecf_high, overwrite=True)"
   ]
  },
  {
   "cell_type": "code",
   "execution_count": null,
   "id": "451a4d87",
   "metadata": {
    "ExecuteTime": {
     "end_time": "2022-04-28T01:02:19.999913Z",
     "start_time": "2022-04-28T01:02:19.995235Z"
    }
   },
   "outputs": [],
   "source": [
    "# Recalculate the number of flagged edge times after time-averaging\n",
    "avg_flag_waterfall = np.all([F_res_filt.avg_flags[bl] for bl in F_res_filt.avg_flags], axis=0)\n",
    "avg_ect_low, avg_ect_high, _, _ = count_edge_flags(avg_flag_waterfall)"
   ]
  },
  {
   "cell_type": "code",
   "execution_count": null,
   "id": "e826cc2e",
   "metadata": {
    "ExecuteTime": {
     "end_time": "2022-04-28T01:02:20.601546Z",
     "start_time": "2022-04-28T01:02:20.000995Z"
    }
   },
   "outputs": [],
   "source": [
    "# Perform CLEANing in time and 2D FFT\n",
    "pI_example = (example_bl[0], example_bl[1], 'pI')\n",
    "F_res_filt.vis_clean(data=F_res_filt.pseudo_I, flags=F_res_filt.pseudo_I_flags, keys=[pI_example], ax='time', max_frate=5, tol=1e-6, gain=0.9,\n",
    "                     window='bh', alpha=0.1, overwrite=True, verbose=True, x=F_res_filt.avg_times*24*3600, output_prefix='pI_xclean')\n",
    "F_res_filt.fft_data(data=F_res_filt.pI_xclean_data, keys=[pI_example], assign='pI_xdfft2', ax='both', window=('bh','bh'), \n",
    "                    edgecut_low=(avg_ect_low, ecf_low), edgecut_hi=(avg_ect_high, ecf_high), overwrite=True)"
   ]
  },
  {
   "cell_type": "code",
   "execution_count": null,
   "id": "c3b7e3e6",
   "metadata": {
    "ExecuteTime": {
     "end_time": "2022-04-28T01:02:21.293028Z",
     "start_time": "2022-04-28T01:02:20.602946Z"
    }
   },
   "outputs": [],
   "source": [
    "# plot in delay space\n",
    "fig, axes = plt.subplots(1, 2, figsize=(14,8), gridspec_kw={'width_ratios': [2, 1]}, sharey=True)\n",
    "avg_lsts_unwrapped = np.where(F_res_filt.avg_lsts > F_res_filt.avg_lsts[-1], F_res_filt.avg_lsts - 2 * np.pi, F_res_filt.avg_lsts) * 12 / np.pi  # in hours\n",
    "extent=[F_res_filt.freqs[0] / 1e6, F_res_filt.freqs[-1] / 1e6, lsts_unwrapped[-1], lsts_unwrapped[0]]\n",
    "\n",
    "to_plot = np.where(F_res_filt.pseudo_I_flags[pI_example], np.nan, np.real(F_res_filt.pseudo_I[pI_example]))\n",
    "im = axes[0].imshow(to_plot, interpolation='none', aspect='auto', cmap='bwr', extent=extent, norm=sym_log_norm(to_plot))\n",
    "plt.colorbar(im, pad=.1, location='bottom', ax=axes[0], label=r'Re$[\\widetilde{V}_{ij}]$ (Jy Hz)')\n",
    "axes[0].set_xlabel('Delay (ns)')\n",
    "axes[0].set_ylabel('LST (hours)')\n",
    "axes[0].set_title(f'Final Calibrated, DPSS Residual, DPSS Cross-Talk Filtered,\\nTime Averaged Visibility: {pI_example}')\n",
    "\n",
    "im = axes[1].imshow(np.where(np.all(F_res_filt.pseudo_I_flags[pI_example], axis=1, keepdims=True), np.nan, np.real(F_res_filt.pseudo_I_nsamples[pI_example])),\n",
    "                    interpolation='none', aspect='auto', extent=extent)\n",
    "plt.colorbar(im, pad=.1, location='bottom', ax=axes[1], label=r'Number Samples')\n",
    "axes[1].set_xlabel('Frequency (MHz)')\n",
    "axes[1].set_title(f'Time Averaged Number of Samples: {pI_example}')\n",
    "    \n",
    "plt.tight_layout()"
   ]
  },
  {
   "cell_type": "markdown",
   "id": "17f3b754",
   "metadata": {},
   "source": [
    "### Figure 10a: Real Part of DPSS-Residual Example Waterfall After Cross-Talk Filtering, Coherent Time Averaging, and Forming Pseudo-Stokes I"
   ]
  },
  {
   "cell_type": "code",
   "execution_count": null,
   "id": "b38fcdb4",
   "metadata": {
    "ExecuteTime": {
     "end_time": "2022-04-28T01:02:22.147307Z",
     "start_time": "2022-04-28T01:02:21.294363Z"
    }
   },
   "outputs": [],
   "source": [
    "# plot in delay space\n",
    "fig, axes = plt.subplots(1, 2, figsize=(14,8), gridspec_kw={'width_ratios': [2, 1]}, sharey=True)\n",
    "avg_lsts_unwrapped = np.where(F_res_filt.avg_lsts > F_res_filt.avg_lsts[-1], F_res_filt.avg_lsts - 2 * np.pi, F_res_filt.avg_lsts) * 12 / np.pi  # in hours\n",
    "\n",
    "to_plot = np.where(np.all(F_res_filt.pseudo_I_flags[pI_example], axis=1, keepdims=True), np.nan, np.real(F_res_filt.pI_dfft[pI_example]))\n",
    "im = axes[0].imshow(to_plot, interpolation='none', aspect='auto', cmap='bwr', norm=sym_log_norm(to_plot),\n",
    "                    extent=[F_res_filt.delays[0], F_res_filt.delays[-1], lsts_unwrapped[-1], lsts_unwrapped[0]])\n",
    "plt.colorbar(im, pad=.1, location='bottom', ax=axes[0], label=r'Re$[\\widetilde{V}_{ij}]$ (Jy Hz)')\n",
    "axes[0].set_xlim([-2000, 2000])\n",
    "axes[0].set_xlabel('Delay (ns)')\n",
    "axes[0].set_ylabel('LST (hours)')\n",
    "axes[0].set_title(f'Final Calibrated, DPSS Residual, DPSS Cross-Talk Filtered,\\nTime Averaged Visibility: {pI_example}')\n",
    "\n",
    "im = axes[1].imshow(np.where(np.all(F_res_filt.pseudo_I_flags[pI_example], axis=1, keepdims=True), np.nan, np.real(F_res_filt.pseudo_I_nsamples[pI_example])),\n",
    "                    interpolation='none', aspect='auto', extent=[F_res_filt.freqs[0] / 1e6, F_res_filt.freqs[-1] / 1e6, lsts_unwrapped[-1], lsts_unwrapped[0]])\n",
    "plt.colorbar(im, pad=.1, location='bottom', ax=axes[1], label=r'Number Samples')\n",
    "axes[1].set_xlabel('Frequency (MHz)')\n",
    "axes[1].set_title(f'Time Averaged Number of Samples: {pI_example}')\n",
    "    \n",
    "plt.tight_layout()"
   ]
  },
  {
   "cell_type": "markdown",
   "id": "e0f2fc37",
   "metadata": {},
   "source": [
    "### Figure 10b: Real Part of DPSS-Residual Example Waterfall After Cross-Talk Filtering, Coherent Time Averaging, and Forming Pseudo-Stokes I in Delay Space"
   ]
  },
  {
   "cell_type": "code",
   "execution_count": null,
   "id": "5fa4c576",
   "metadata": {
    "ExecuteTime": {
     "end_time": "2022-04-28T01:02:22.824786Z",
     "start_time": "2022-04-28T01:02:22.148592Z"
    }
   },
   "outputs": [],
   "source": [
    "# plot in delay space and FR space\n",
    "frates = np.fft.fftshift(np.fft.fftfreq(len(F_res_filt.avg_times), np.median(np.diff(F_res_filt.avg_times)) * 24 * 3600) * 1e3) # in mHz\n",
    "\n",
    "extent = [F_res_filt.delays[0], F_res_filt.delays[-1], frates[-1], frates[0]]\n",
    "plt.figure(figsize=(14,8))\n",
    "plt.imshow(np.abs(F_res_filt.pI_xdfft2[pI_example]), aspect='auto', interpolation='none', \n",
    "           norm=matplotlib.colors.LogNorm(), cmap='jet', extent=extent)\n",
    "plt.colorbar(label='$|\\widetilde{V}_{ij}|$ (Jy)')\n",
    "plt.xlabel('Delay (ns)')\n",
    "plt.xlim([-2000, 2000])\n",
    "plt.ylabel('Fringe Rate (mHz)')\n",
    "plt.title(f'Final Calibrated, DPSS Residual, DPSS Cross-Talk Filtered, and CLEAN Inpainted (in Time): {pI_example}')\n",
    "plt.tight_layout()"
   ]
  },
  {
   "cell_type": "markdown",
   "id": "ffb4f8ec",
   "metadata": {},
   "source": [
    "### Figure 10c: Magnitude of DPSS-Residual Example Waterfall After Cross-Talk Filtering, Coherent Time Averaging, and Forming Pseudo-Stokes I in Fringe-Rate / Delay Space"
   ]
  },
  {
   "cell_type": "code",
   "execution_count": null,
   "id": "aa28bb0a",
   "metadata": {
    "ExecuteTime": {
     "end_time": "2022-04-28T01:37:44.758984Z",
     "start_time": "2022-04-28T01:37:44.665412Z"
    }
   },
   "outputs": [],
   "source": [
    "# Calculate incoherently time-averaged delay spectra\n",
    "avg_norm_filled_spectra = calculate_avg_norm_spectra(F_filled.pI_dfft, F_filled.pseudo_I_flags, F_filled.pseudo_I_nsamples)\n",
    "avg_norm_res_spectra = calculate_avg_norm_spectra(F_res.pI_dfft, F_res.pseudo_I_flags, F_res.pseudo_I_nsamples)\n",
    "avg_norm_res_filt_spectra = calculate_avg_norm_spectra(F_res_filt.pI_dfft, F_res_filt.pseudo_I_flags, F_res_filt.pseudo_I_nsamples)"
   ]
  },
  {
   "cell_type": "code",
   "execution_count": null,
   "id": "58c0dd90",
   "metadata": {
    "ExecuteTime": {
     "end_time": "2022-04-28T01:37:52.130548Z",
     "start_time": "2022-04-28T01:37:50.454687Z"
    }
   },
   "outputs": [],
   "source": [
    "# Plot all incoherently time-averaged delay spectra\n",
    "fig, axes = plt.subplots(3, 2, figsize=(14,12), sharex=True, sharey=True, gridspec_kw={'wspace': 0, 'hspace': 0})\n",
    "ylim = (np.min(np.array(list(avg_norm_filled_spectra.values()))) / 10, \n",
    "        np.max(np.array(list(avg_norm_filled_spectra.values()))) * 2)\n",
    "\n",
    "for i, bl, ax in zip(range(len(avg_norm_filled_spectra)), avg_norm_filled_spectra, axes.flatten()):\n",
    "    ax.semilogy(F_filled.delays, avg_norm_filled_spectra[bl], label='DPSS Filled')\n",
    "    ax.semilogy(F_res.delays, avg_norm_res_spectra[bl], label='DPSS Residual')\n",
    "    ax.semilogy(F_res_filt.delays, avg_norm_res_filt_spectra[bl], label='DPSS Residual &\\nDPSS Cross-Talk Filtered')    \n",
    "\n",
    "    ax.set_ylim(ylim)    \n",
    "    ax.set_xlabel('Delay (ns)')\n",
    "    ax.set_xlim([-1999, 1999])\n",
    "    if i % 2 == 0:\n",
    "        ax.set_ylabel('$|\\\\tilde{V}_{ij}|$ (Jy Hz)')    \n",
    "    \n",
    "    ax.legend(loc='upper left', title=bl)\n",
    "plt.tight_layout()"
   ]
  },
  {
   "cell_type": "markdown",
   "id": "09f65eac",
   "metadata": {},
   "source": [
    "### Figure 11: Delay Spectra, Incoherently Averaged Over The Night, of All Baselines at All Three Stages of Filtering After Coherently Time-Averaging and Forming Pseudo-Stokes I"
   ]
  },
  {
   "cell_type": "code",
   "execution_count": null,
   "id": "33ced951",
   "metadata": {
    "ExecuteTime": {
     "end_time": "2022-04-28T01:02:25.158159Z",
     "start_time": "2022-04-28T01:02:24.443378Z"
    }
   },
   "outputs": [],
   "source": [
    "from hera_cal import version\n",
    "print(version.history_string())"
   ]
  }
 ],
 "metadata": {
  "kernelspec": {
   "display_name": "Python 3 (ipykernel)",
   "language": "python",
   "name": "python3"
  },
  "language_info": {
   "codemirror_mode": {
    "name": "ipython",
    "version": 3
   },
   "file_extension": ".py",
   "mimetype": "text/x-python",
   "name": "python",
   "nbconvert_exporter": "python",
   "pygments_lexer": "ipython3",
   "version": "3.9.9"
  },
  "toc": {
   "base_numbering": 1,
   "nav_menu": {},
   "number_sections": false,
   "sideBar": true,
   "skip_h1_title": false,
   "title_cell": "Table of Contents",
   "title_sidebar": "Contents",
   "toc_cell": false,
   "toc_position": {
    "height": "calc(100% - 180px)",
    "left": "10px",
    "top": "150px",
    "width": "548px"
   },
   "toc_section_display": true,
   "toc_window_display": true
  },
  "varInspector": {
   "cols": {
    "lenName": 16,
    "lenType": 16,
    "lenVar": 40
   },
   "kernels_config": {
    "python": {
     "delete_cmd_postfix": "",
     "delete_cmd_prefix": "del ",
     "library": "var_list.py",
     "varRefreshCmd": "print(var_dic_list())"
    },
    "r": {
     "delete_cmd_postfix": ") ",
     "delete_cmd_prefix": "rm(",
     "library": "var_list.r",
     "varRefreshCmd": "cat(var_dic_list()) "
    }
   },
   "types_to_exclude": [
    "module",
    "function",
    "builtin_function_or_method",
    "instance",
    "_Feature"
   ],
   "window_display": false
  }
 },
 "nbformat": 4,
 "nbformat_minor": 5
}
