{
 "cells": [
  {
   "cell_type": "markdown",
   "metadata": {},
   "source": [
    "# RFI Inspection Daily RTP Notebook"
   ]
  },
  {
   "cell_type": "code",
   "execution_count": null,
   "metadata": {},
   "outputs": [],
   "source": [
    "import numpy as np\n",
    "import matplotlib.pyplot as plt\n",
    "import matplotlib\n",
    "import glob\n",
    "import os\n",
    "from astropy import units\n",
    "from copy import deepcopy\n",
    "from pyuvdata import UVFlag\n",
    "#from SSINS import INS\n",
    "#from SSINS import version as SSINS_ver\n",
    "import matplotlib.colors as colors\n",
    "from matplotlib import cm\n",
    "\n",
    "%matplotlib inline\n",
    "%config InlineBackend.figure_format = 'retina'"
   ]
  },
  {
   "cell_type": "code",
   "execution_count": null,
   "metadata": {
    "scrolled": true
   },
   "outputs": [],
   "source": [
    "# Use environment variables to figure out path to data\n",
    "JD = os.environ['JULIANDATE']\n",
    "data_path = os.environ['DATA_PATH']\n",
    "print(f'JD = {JD}')\n",
    "print(f'data_path = \"{data_path}\"')\n",
    "JD = int(JD)"
   ]
  },
  {
   "cell_type": "code",
   "execution_count": null,
   "metadata": {},
   "outputs": [],
   "source": [
    "uvf = UVFlag(f'{data_path}/zen.{JD}.total_threshold_flags.h5')\n",
    "\n",
    "# Load in the metadata for easier plotting.\n",
    "freqs = np.unique(uvf.freq_array)\n",
    "times = np.unique(uvf.time_array)\n",
    "lsts = np.unique(uvf.lst_array)\n",
    "chans = np.arange(freqs.size)\n",
    "plot_times = times - np.floor(times[0])\n",
    "lsts_hr = lsts * units.rad.to(\"cycle\") * units.day.to(\"hr\")\n",
    "freqs_MHz = freqs * units.Hz.to(\"MHz\")\n",
    "extent = (freqs_MHz[0], freqs_MHz[-1], plot_times[-1], plot_times[0])"
   ]
  },
  {
   "cell_type": "code",
   "execution_count": null,
   "metadata": {},
   "outputs": [],
   "source": [
    "plt.figure(figsize=(16,12))\n",
    "cax = plt.imshow(uvf.flag_array[:,:,0], aspect='auto', interpolation='nearest',\n",
    "           extent=[uvf.freq_array[0] / 1e6, uvf.freq_array[-1] / 1e6, \n",
    "                   uvf.time_array[-1] - JD, uvf.time_array[0] - JD])\n",
    "plt.xlabel('Frequency (MHz)')\n",
    "plt.ylabel(f'JD - {JD}')\n",
    "ax2 = plt.gca().twinx()\n",
    "ax2.set_ylim([uvf.lst_array[0] * 12 / np.pi, uvf.lst_array[-1] * 12 / np.pi])\n",
    "ax2.invert_yaxis()\n",
    "ax2.set_ylabel('LST (hours)')\n",
    "ax3 = plt.gca().twiny()\n",
    "ax3.set_xlim([0, uvf.Nfreqs - 1])\n",
    "ax3.set_xlabel('Channel');"
   ]
  },
  {
   "cell_type": "markdown",
   "metadata": {},
   "source": [
    "# Figure 1(a): Full day of XRFI flags\n",
    "Yellow is flagged. Blue is unflagged."
   ]
  },
  {
   "cell_type": "code",
   "execution_count": null,
   "metadata": {},
   "outputs": [],
   "source": [
    "xrfi_dirs = sorted(glob.glob(f'{data_path}/zen.{JD}.?????.xrfi'))\n",
    "print(f'Found {len(xrfi_dirs)} directories containing XRFI intermediate data products.')\n",
    "files1 = [glob.glob(f'{d}/*combined_metrics1.h5')[0] for d in xrfi_dirs]\n",
    "print(f'Found {len(files1)} combined round 1 XRFI metrics files.')\n",
    "files2 = [glob.glob(f'{d}/*combined_metrics2.h5')[0] for d in xrfi_dirs]\n",
    "print(f'Found {len(files2)} combined round 2 XRFI metrics files.')\n",
    "uvf1 = UVFlag(files1)\n",
    "uvf2 = UVFlag(files2)\n",
    "uvf2.metric_array = np.where(np.isinf(uvf2.metric_array), uvf1.metric_array,\n",
    "                             uvf2.metric_array)"
   ]
  },
  {
   "cell_type": "code",
   "execution_count": null,
   "metadata": {},
   "outputs": [],
   "source": [
    "plt.figure(figsize=(16,12))\n",
    "max_abs = 100\n",
    "if np.max(uvf2.metric_array) > max_abs:\n",
    "    extend = 'max'\n",
    "    if np.min(uvf2.metric_array) < -max_abs:\n",
    "        extend = 'both'\n",
    "elif np.min(uvf2.metric_array) < -max_abs:\n",
    "    extend = 'min'    \n",
    "else:\n",
    "    extend = 'neither'\n",
    "\n",
    "plt.imshow(uvf2.metric_array[:,:,0], aspect='auto', cmap='RdBu_r',\n",
    "           norm=colors.SymLogNorm(linthresh=1,vmin=-max_abs, vmax=max_abs), \n",
    "           extent=[uvf.freq_array[0] / 1e6, uvf.freq_array[-1] / 1e6, \n",
    "                   uvf.time_array[-1] - JD, uvf.time_array[0] - JD])\n",
    "plt.colorbar(pad=.07, extend=extend,\n",
    "             label='RFI Detection Significance ($\\sigma$s)')\n",
    "plt.title('Combined XRFI Metrics')\n",
    "plt.xlabel('Frequency (MHz)')\n",
    "plt.ylabel(f'JD - {JD}')\n",
    "ax2 = plt.gca().twinx()\n",
    "ax2.set_ylim([uvf.lst_array[0] * 12 / np.pi, uvf.lst_array[-1] * 12 / np.pi])\n",
    "ax2.invert_yaxis()\n",
    "ax2.set_ylabel('LST (hours)')\n",
    "ax3 = plt.gca().twiny()\n",
    "ax3.set_xlim([0, uvf.Nfreqs - 1])\n",
    "ax3.set_xlabel('Channel');"
   ]
  },
  {
   "cell_type": "markdown",
   "metadata": {},
   "source": [
    "## Figure 2(a): Combined XRFI Detection Significance\n",
    "This figure shows round 2 XRFI metrics (mean filter outliers) combined in quadrature. When flagged in round 1 of XRFI, round 1's combined median filter metrics are used instead. "
   ]
  },
  {
   "cell_type": "code",
   "execution_count": null,
   "metadata": {},
   "outputs": [],
   "source": [
    "# Load in the flags from each round of XRFI flagging.\n",
    "low_level_flag_labels = (\n",
    "    \"apriori_flags\",\n",
    "    \"auto_flags1\",\n",
    "    \"auto_flags2\",\n",
    "    \"combined_flags1\",\n",
    "    \"combined_flags2\",\n",
    "    \"flags1\",\n",
    "    \"flags2\",\n",
    "    \"og_flags1\",\n",
    "    \"og_flags2\",\n",
    "    \"ox_flags1\",\n",
    "    \"ox_flags2\",\n",
    "    \"v_flags1\",\n",
    "    \"v_flags2\",\n",
    ")\n",
    "# Keep the thresholded flags separate for easier analysis.\n",
    "thresholded_flag_labels = (\n",
    "    \"auto_threshold_flags\",\n",
    "    \"combined_threshold_flags\",\n",
    "    \"og_threshold_flags\",\n",
    "    \"ox_threshold_flags\",\n",
    "    \"v_threshold_flags\",\n",
    "    \"total_threshold_flags\",\n",
    ")\n",
    "\n",
    "low_level_flags = {}\n",
    "for file_id in low_level_flag_labels:\n",
    "    flag_files = [\n",
    "        glob.glob(os.path.join(xrfi_dir, f\"*.sum.{file_id}.h5\"))[0]\n",
    "        for xrfi_dir in xrfi_dirs\n",
    "    ]\n",
    "    uvf = UVFlag(flag_files)\n",
    "    low_level_flags[file_id] = uvf.flag_array[...,0]\n",
    "    \n",
    "thresholded_flags = {}\n",
    "for file_id in thresholded_flag_labels:\n",
    "    flag_file = f\"{data_path}/zen.{JD}.{file_id}.h5\"\n",
    "    uvf = UVFlag(flag_file)\n",
    "    thresholded_flags[file_id] = uvf.flag_array[...,0]\n",
    "    \n",
    "all_flags = dict(**low_level_flags, **thresholded_flags)"
   ]
  },
  {
   "cell_type": "code",
   "execution_count": null,
   "metadata": {},
   "outputs": [],
   "source": [
    "label_mapping = {\n",
    "    f\"Round {i}\": {\n",
    "        \"Priors\": (\"apriori_flags\", \"flags1\")[i-1],\n",
    "        \"Autocorrelations\": f\"auto_flags{i}\",\n",
    "        \"Omnical Gains\": f\"og_flags{i}\",\n",
    "        r\"Omnical $\\chi^2$\": f\"ox_flags{i}\",\n",
    "        \"Omnical Visibilities\": f\"v_flags{i}\",\n",
    "        \"Combined Metrics\": f\"combined_flags{i}\",\n",
    "    } for i in (1,2)\n",
    "}\n",
    "\n",
    "label_mapping[\"Round 3\"] = {\n",
    "    \"Priors\": \"flags2\",\n",
    "    \"Autocorrelations\": \"auto_threshold_flags\",\n",
    "    \"Omnical Gains\": \"og_threshold_flags\",\n",
    "    r\"Omnical $\\chi^2$\": \"ox_threshold_flags\",\n",
    "    \"Omnical Visibilities\": \"v_threshold_flags\",\n",
    "    \"Combined Metrics\": \"combined_threshold_flags\",\n",
    "}"
   ]
  },
  {
   "cell_type": "code",
   "execution_count": null,
   "metadata": {},
   "outputs": [],
   "source": [
    "unique_flags_by_stage = {}\n",
    "for round_label, mapping in label_mapping.items():\n",
    "    unique_flags_by_stage[round_label] = {}\n",
    "    overlap_flags = np.zeros_like(uvf.flag_array[...,0])\n",
    "    prior_flags = low_level_flags[mapping[\"Priors\"]]\n",
    "    unique_flags_by_stage[round_label][\"Priors\"] = prior_flags\n",
    "    for label, file_id in mapping.items():\n",
    "        if label == \"Priors\":\n",
    "            continue\n",
    "        flags = all_flags[file_id]\n",
    "        unique_flags = flags.copy()\n",
    "        for other_label, other_file_id in mapping.items():\n",
    "            if label == other_label:\n",
    "                continue\n",
    "            other_flags = all_flags[other_file_id]\n",
    "            unique_flags &= ~other_flags\n",
    "            overlap_region = flags & other_flags & ~prior_flags\n",
    "            overlap_flags[overlap_region] = True\n",
    "        unique_flags_by_stage[round_label][label] = unique_flags\n",
    "    unique_flags_by_stage[round_label][\"Multiple Sources\"] = overlap_flags"
   ]
  },
  {
   "cell_type": "code",
   "execution_count": null,
   "metadata": {
    "scrolled": true
   },
   "outputs": [],
   "source": [
    "pastel_palette = ( \n",
    "    \"paleturquoise\",\n",
    "    \"plum\",\n",
    "    \"lemonchiffon\",\n",
    "    \"palegreen\",\n",
    "    \"azure\",\n",
    "    \"mistyrose\",\n",
    "    \"bisque\",\n",
    "    \"aquamarine\",\n",
    ")\n",
    "background_color = \"slategrey\"\n",
    "color_palette = (background_color,) + pastel_palette\n",
    "cmap_labels = (\"Unflagged\",) + tuple(unique_flags_by_stage[\"Round 1\"].keys())\n",
    "cmap = plt.cm.colors.ListedColormap(color_palette[:len(cmap_labels)])\n",
    "norm = plt.cm.colors.Normalize(vmin=0, vmax=1)\n",
    "smap = plt.cm.ScalarMappable(cmap=cmap, norm=norm)\n",
    "colored_flags = {}\n",
    "for round_label, flag_dict in unique_flags_by_stage.items():\n",
    "    colored_flags[round_label] = np.zeros(uvf.flag_array[...,0].shape)\n",
    "    for label, flags in flag_dict.items():\n",
    "        colored_flags[round_label][flags] = cmap_labels.index(label) / (len(cmap_labels) - 1)"
   ]
  },
  {
   "cell_type": "code",
   "execution_count": null,
   "metadata": {
    "scrolled": false
   },
   "outputs": [],
   "source": [
    "# Plot flags in the low-band.\n",
    "fig, axes = plt.subplots(\n",
    "    len(colored_flags), figsize=(15, 11 * len(colored_flags)), dpi=300\n",
    ")\n",
    "freq_slice = np.argwhere(freqs_MHz < 90).flatten()  # Low-band, pre-FM\n",
    "tmin, tmax = plot_times[0], plot_times[-1]\n",
    "lstmin, lstmax = lsts_hr[0], lsts_hr[-1]\n",
    "fmin, fmax = freqs_MHz[freq_slice][::freq_slice.size - 1]\n",
    "extent = (fmin, fmax, tmax, tmin)\n",
    "for ax, (label, flags) in zip(axes, colored_flags.items()):\n",
    "    ax.set_title(label, fontsize=16)\n",
    "    ax.imshow(\n",
    "        flags[:,freq_slice], aspect=\"auto\", extent=extent, cmap=cmap, vmin=0, vmax=1\n",
    "    )\n",
    "    twinx = ax.twinx()\n",
    "    twiny = ax.twiny()\n",
    "    twinx.set_ylim(lstmax, lstmin)\n",
    "    twiny.set_xlim(freq_slice[0], freq_slice[-1])\n",
    "    ax.set_xlabel(\"Frequency (MHz)\", fontsize=12)\n",
    "    ax.set_ylabel(f\"JD - {JD}\", fontsize=12)\n",
    "    twinx.set_ylabel(\"LST (hour)\", fontsize=12)\n",
    "    twiny.set_xlabel(\"Channel\", fontsize=12)\n",
    "    \n",
    "fig.tight_layout()\n",
    "for ax in axes.ravel():\n",
    "    cbar = fig.colorbar(smap, ax=ax, orientation=\"horizontal\", pad=0.1)\n",
    "    cbar.set_ticks(np.linspace(0, 1, 2 * len(cmap.colors) + 1)[1::2])\n",
    "    cbar.set_ticklabels(cmap_labels)"
   ]
  },
  {
   "cell_type": "markdown",
   "metadata": {},
   "source": [
    "## Figure 3: Flag Evolution in the Low Band\n",
    "This figure delineates which steps different flags are introduced in, but does not make a distinction between sources when multiple flagging routines flag the same region of the waterfall. The plot shows flags for frequencies below the FM band, for the entire night. The top plot shows the flags for the first round of flagging (median filter), where the prior flags are the apriori flags; the middle plot shows the flags for the second round of flagging (mean filter), where the prior flags are the combined flags from the first round of flagging (plus extra flags based on the metrics added in quadrature); the bottom plot shows the flags for the final round of flagging (thresholding), where the prior flags are the combined flags from round 2 (plus extra flags based on the metrics added in quadrature)."
   ]
  },
  {
   "cell_type": "code",
   "execution_count": null,
   "metadata": {
    "scrolled": false
   },
   "outputs": [],
   "source": [
    "# Plot flags in the mid-band.\n",
    "fig, axes = plt.subplots(\n",
    "    len(colored_flags), figsize=(15, 11 * len(colored_flags)), dpi=300\n",
    ")\n",
    "\n",
    "# Figure out the details for which part of the flag arrays to plot.\n",
    "freq_slice = np.argwhere(\n",
    "    np.logical_and(freqs_MHz > 110, freqs_MHz < 185)\n",
    ").flatten()  # Mid-band: post-FM, pre-TV\n",
    "fmin, fmax = freqs_MHz[freq_slice][::freq_slice.size - 1]\n",
    "extent = (fmin, fmax, tmax, tmin)\n",
    "\n",
    "# Actually plot the things.\n",
    "for ax, (label, flags) in zip(axes, colored_flags.items()):\n",
    "    ax.set_title(label, fontsize=16)\n",
    "    ax.imshow(\n",
    "        flags[:,freq_slice], aspect=\"auto\", extent=extent, cmap=cmap, vmin=0, vmax=1\n",
    "    )\n",
    "    twinx = ax.twinx()\n",
    "    twiny = ax.twiny()\n",
    "    twinx.set_ylim(lstmax, lstmin)\n",
    "    twiny.set_xlim(freq_slice[0], freq_slice[-1])\n",
    "    ax.set_xlabel(\"Frequency (MHz)\", fontsize=12)\n",
    "    ax.set_ylabel(f\"JD - {JD}\", fontsize=12)\n",
    "    twinx.set_ylabel(\"LST (hour)\", fontsize=12)\n",
    "    twiny.set_xlabel(\"Channel\", fontsize=12)\n",
    "    \n",
    "fig.tight_layout()\n",
    "for ax in axes.ravel():\n",
    "    cbar = fig.colorbar(smap, ax=ax, orientation=\"horizontal\", pad=0.1)\n",
    "    cbar.set_ticks(np.linspace(0, 1, 2 * len(cmap.colors) + 1)[1::2])\n",
    "    cbar.set_ticklabels(cmap_labels)"
   ]
  },
  {
   "cell_type": "markdown",
   "metadata": {},
   "source": [
    "## Figure 4: Flag Evolution in the Mid-Band\n",
    "This figure delineates which steps different flags are introduced in, but does not make a distinction between sources when multiple flagging routines flag the same region of the waterfall. The plot shows flags for frequencies between the FM band and the analog TV band, for the entire night. The top plot shows the flags for the first round of flagging (median filter), where the prior flags are the apriori flags; the middle plot shows the flags for the second round of flagging (mean filter), where the prior flags are the combined flags from the first round of flagging (plus extra flags based on the metrics added in quadrature); the bottom plot shows the flags for the final round of flagging (thresholding), where the prior flags are the combined flags from round 2 (plus extra flags based on the metrics added in quadrature)."
   ]
  },
  {
   "cell_type": "code",
   "execution_count": null,
   "metadata": {},
   "outputs": [],
   "source": [
    "# Calculate occupancies for different important sets of flags.\n",
    "label_mapping = {\n",
    "    \"Apriori\": \"apriori_flags\",\n",
    "    \"Median Filter\": \"flags1\",\n",
    "    \"Mean Filter\": \"flags2\",\n",
    "    \"Thresholding\": \"total_threshold_flags\",\n",
    "}\n",
    "occupancies = {}\n",
    "for axis, axis_label in enumerate((\"Frequency\", \"Time\")):\n",
    "    occupancies[axis_label] = {}\n",
    "    for flag_label, flag_id in label_mapping.items():\n",
    "        flags = all_flags[flag_id]\n",
    "        occupancies[axis_label][flag_label] = flags.mean(axis=(1-axis))"
   ]
  },
  {
   "cell_type": "code",
   "execution_count": null,
   "metadata": {},
   "outputs": [],
   "source": [
    "fig, axes = plt.subplots(2, figsize=(15,14), dpi=200)\n",
    "for i, items in enumerate(zip(axes.ravel(), occupancies.items())):\n",
    "    ax, (occupancy_axis, flag_dict) = items\n",
    "    xvalues = (plot_times, freqs_MHz)[i]\n",
    "    alt_xvalues = (lsts_hr, chans)[i]\n",
    "    xlabel = (f\"JD - {JD}\", \"Frequency (MHz)\")[i]\n",
    "    ylabel = (\n",
    "        \"Fraction of Channels Flagged\",\n",
    "        \"Fraction of Integrations Flagged\"\n",
    "    )[i]\n",
    "    alt_xlabel = (\"LST (hours)\", \"Channel\")[i]\n",
    "    ax.set_xlabel(xlabel, fontsize=12)\n",
    "    ax.set_ylabel(ylabel, fontsize=12)\n",
    "    for flag_label, occupancy in flag_dict.items():\n",
    "        ax.plot(xvalues, occupancy, label=flag_label)\n",
    "    twin_ax = ax.twiny()\n",
    "    twin_ax.set_xlim(alt_xvalues[0], alt_xvalues[-1])\n",
    "    twin_ax.set_xlabel(alt_xlabel, fontsize=12)\n",
    "    ax.legend()"
   ]
  },
  {
   "cell_type": "markdown",
   "metadata": {},
   "source": [
    "## Figure 5: Flagging Occupancies\n",
    "These plots show the flagging occupancies for the Round 0 Flags (Apriori), Round 1 Flags (Median Filter), Round 2 Flags (Mean Filter), and Round 3 Flags (Thresholding). The top plot shows the fraction of channels flagged at each integration for each set of flags, and the bottom plot shows the fraction of integrations flagged as a function of frequency."
   ]
  },
  {
   "cell_type": "markdown",
   "metadata": {},
   "source": [
    "# Metadata"
   ]
  },
  {
   "cell_type": "code",
   "execution_count": null,
   "metadata": {},
   "outputs": [],
   "source": [
    "from hera_qm import version\n",
    "print(version.construct_version_info())"
   ]
  },
  {
   "cell_type": "code",
   "execution_count": null,
   "metadata": {},
   "outputs": [],
   "source": [
    "#print(f\"SSINS version info: {SSINS_ver.construct_version_info()}\")"
   ]
  },
  {
   "cell_type": "code",
   "execution_count": null,
   "metadata": {},
   "outputs": [],
   "source": []
  },
  {
   "cell_type": "code",
   "execution_count": null,
   "metadata": {},
   "outputs": [],
   "source": []
  },
  {
   "cell_type": "code",
   "execution_count": null,
   "metadata": {},
   "outputs": [],
   "source": []
  }
 ],
 "metadata": {
  "kernelspec": {
   "display_name": "Python 3",
   "language": "python",
   "name": "python3"
  },
  "language_info": {
   "codemirror_mode": {
    "name": "ipython",
    "version": 3
   },
   "file_extension": ".py",
   "mimetype": "text/x-python",
   "name": "python",
   "nbconvert_exporter": "python",
   "pygments_lexer": "ipython3",
   "version": "3.7.4"
  },
  "toc": {
   "base_numbering": 1,
   "nav_menu": {},
   "number_sections": false,
   "sideBar": true,
   "skip_h1_title": false,
   "title_cell": "Table of Contents",
   "title_sidebar": "Contents",
   "toc_cell": false,
   "toc_position": {},
   "toc_section_display": true,
   "toc_window_display": false
  }
 },
 "nbformat": 4,
 "nbformat_minor": 2
}
