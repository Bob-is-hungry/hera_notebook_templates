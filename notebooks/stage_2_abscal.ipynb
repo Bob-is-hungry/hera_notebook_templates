{
 "cells": [
  {
   "cell_type": "markdown",
   "metadata": {
    "ExecuteTime": {
     "end_time": "2020-09-18T18:32:56.276776Z",
     "start_time": "2020-09-18T18:32:56.271303Z"
    }
   },
   "source": [
    "# Stage 2 Absolute Calibration Nightly Notebook\n",
    "\n",
    "**Josh Dillon**, Last Revised 9/23/20"
   ]
  },
  {
   "cell_type": "code",
   "execution_count": null,
   "metadata": {
    "ExecuteTime": {
     "end_time": "2020-09-23T17:58:58.428491Z",
     "start_time": "2020-09-23T17:58:54.600843Z"
    }
   },
   "outputs": [],
   "source": [
    "import numpy as np\n",
    "import matplotlib.pyplot as plt\n",
    "import matplotlib\n",
    "from hera_cal import io, redcal, apply_cal, abscal, utils\n",
    "from hera_cal.smooth_cal import build_time_blacklist\n",
    "from hera_qm.metrics_io import load_metric_file\n",
    "import pyuvdata\n",
    "import glob\n",
    "import os\n",
    "from copy import deepcopy\n",
    "import inspect\n",
    "import h5py\n",
    "import matplotlib.cm as cm\n",
    "\n",
    "%matplotlib inline\n",
    "%config InlineBackend.figure_format = 'retina'"
   ]
  },
  {
   "cell_type": "code",
   "execution_count": null,
   "metadata": {
    "ExecuteTime": {
     "end_time": "2020-09-23T17:58:58.434878Z",
     "start_time": "2020-09-23T17:58:58.430624Z"
    }
   },
   "outputs": [],
   "source": [
    "# If you want to run this notebook locally, copy the output of the next cell into the first few lines of this cell.\n",
    "\n",
    "# JD = '2458937'\n",
    "# data_path = '/lustre/aoc/projects/hera/H3C/IDR3_1/2458937'\n",
    "# lst_blacklist_string = '0-1.3 2.5-4.3 5.0-5.7 6.5-9.1 10.6-11.5 11.9-14.3 16.3-1.3'\n",
    "# abscal_model_glob = '/lustre/aoc/projects/hera/zmartino/hera_calib_model/H3C/abscal_files_unique_baselines/zen.2458894.?????.uvh5'\n",
    "# os.environ[\"JULIANDATE\"] = JD\n",
    "# os.environ[\"DATA_PATH\"] = data_path\n",
    "# os.environ[\"LST_BLACKLIST_STRING\"] = lst_blacklist_string\n",
    "# os.environ[\"ABSCAL_MODEL_GLOB\"] = abscal_model_glob"
   ]
  },
  {
   "cell_type": "code",
   "execution_count": null,
   "metadata": {
    "ExecuteTime": {
     "end_time": "2020-09-23T17:58:58.449616Z",
     "start_time": "2020-09-23T17:58:58.436755Z"
    }
   },
   "outputs": [],
   "source": [
    "# Use environment variables to figure out path to data\n",
    "JD = os.environ['JULIANDATE']\n",
    "data_path = os.environ['DATA_PATH']\n",
    "lst_blacklist_string = os.environ['LST_BLACKLIST_STRING']\n",
    "abscal_model_glob = os.environ['ABSCAL_MODEL_GLOB']\n",
    "print(f'JD = {JD}')\n",
    "print(f'data_path = \"{data_path}\"')\n",
    "print(f'lst_blacklist_string = \"{lst_blacklist_string}\"')\n",
    "print(f'abscal_model_glob = \"{abscal_model_glob}\"')"
   ]
  },
  {
   "cell_type": "code",
   "execution_count": null,
   "metadata": {
    "ExecuteTime": {
     "end_time": "2020-09-23T17:58:59.089976Z",
     "start_time": "2020-09-23T17:58:58.452041Z"
    }
   },
   "outputs": [],
   "source": [
    "print('Looking for data in', data_path, 'on JD', JD)\n",
    "data_list = sorted(glob.glob(os.path.join(data_path, f'zen.{JD}.?????.sum.uvh5')))\n",
    "if len(data_list) == 0:\n",
    "    data_list = sorted(glob.glob(os.path.join(data_path, f'zen.{JD}.?????.uvh5')))\n",
    "print('...found {} data files.'.format(len(data_list)))\n",
    "\n",
    "abscal_list = sorted(glob.glob(os.path.join(data_path, f'zen.{JD}.*.abs.calfits')))\n",
    "print('...found {} abscal files.'.format(len(abscal_list)))\n",
    "\n",
    "omnical_list = sorted(glob.glob(os.path.join(data_path, f'zen.{JD}.*.sum.omni.calfits')))\n",
    "print('...found {} omnical files.'.format(len(omnical_list)))"
   ]
  },
  {
   "cell_type": "markdown",
   "metadata": {},
   "source": [
    "# Load And Inspect a Single File"
   ]
  },
  {
   "cell_type": "code",
   "execution_count": null,
   "metadata": {
    "ExecuteTime": {
     "end_time": "2020-09-23T18:01:10.663696Z",
     "start_time": "2020-09-23T17:58:59.092346Z"
    }
   },
   "outputs": [],
   "source": [
    "# get all JDs and LSTs\n",
    "_, _, file_lst_arrays, file_time_arrays = io.get_file_times(data_list)\n",
    "# parse lst_blacklist_string\n",
    "lst_blacklists = [tuple([float(arg) for arg in arg_pair.split('-', maxsplit=1)]) \n",
    "                  for arg_pair in lst_blacklist_string.split(' ')]\n",
    "# get times that are blaclisted and reshape them like file_time_arrays\n",
    "time_blacklisted = build_time_blacklist(file_time_arrays.flatten(), lst_blacklists=lst_blacklists)\n",
    "time_blacklisted = np.reshape(time_blacklisted, file_lst_arrays.shape)\n",
    "# pick the central time from among the not-LST blacklisted files, if possible\n",
    "good_indices = [i for i, tb in enumerate(time_blacklisted) if not np.any(tb)]\n",
    "if len(good_indices) > 0:\n",
    "    file_index = good_indices[len(good_indices)//2]\n",
    "else:\n",
    "    file_index = len(data_list)//2\n",
    "file_JD = '.'.join([s for s in data_list[file_index].split('.') if s.isdigit()])    "
   ]
  },
  {
   "cell_type": "code",
   "execution_count": null,
   "metadata": {
    "ExecuteTime": {
     "end_time": "2020-09-23T18:01:11.927529Z",
     "start_time": "2020-09-23T18:01:10.665804Z"
    }
   },
   "outputs": [],
   "source": [
    "# Load abscal gains and determine ex_ants\n",
    "hc = io.HERACal(abscal_list[file_index])\n",
    "gains, gain_flags, _, _ = hc.read()\n",
    "ex_ants = [ant for ant in gain_flags if np.all(gain_flags[ant])]\n",
    "\n",
    "# Get min_bl_cut, we only want to compare baselines actually used in absolute calibration\n",
    "try:\n",
    "    min_bl_cut = float(hc.history.replace('\\n','').split('--min_bl_cut')[-1].split('--')[0].strip())\n",
    "except:\n",
    "    print('Could not find min_bl_cut, setting to 1 m.')\n",
    "    min_bl_cut = 1.0\n",
    "\n",
    "# Load the most common redundant baseline longer than min_bl_cut\n",
    "hd = io.HERAData(data_list[file_index])\n",
    "bls_to_plot = []\n",
    "for pol in ['ee', 'nn']:\n",
    "    reds = redcal.get_reds(hd.antpos, pols=[pol])\n",
    "#     reds = redcal.filter_reds(reds, ex_ants=ex_ants)\n",
    "    reds = sorted(reds, key=len, reverse=True)\n",
    "    bl_lens = np.array([np.linalg.norm(hd.antpos[red[0][1]] - hd.antpos[red[0][0]]) for red in reds])\n",
    "    try:\n",
    "        bl_group_to_plot = (np.array(reds)[bl_lens >= min_bl_cut])[0]\n",
    "    except:\n",
    "        bl_group_to_plot = reds[0]\n",
    "    bls_to_plot.extend(bl_group_to_plot)\n",
    "    \n",
    "# reds = sorted(reds, key=len, reverse=True)\n",
    "data, flags, nsamples = hd.read(bls=bls_to_plot)\n",
    "apply_cal.calibrate_in_place(data, gains, data_flags=flags, cal_flags=gain_flags)"
   ]
  },
  {
   "cell_type": "code",
   "execution_count": null,
   "metadata": {
    "ExecuteTime": {
     "end_time": "2020-09-23T18:01:12.688029Z",
     "start_time": "2020-09-23T18:01:11.929455Z"
    }
   },
   "outputs": [],
   "source": [
    "plt.figure(figsize=(8,8))\n",
    "plt.scatter(np.array(list(hd.antpos.values()))[:,0], \n",
    "            np.array(list(hd.antpos.values()))[:,1], c='w', s=0)\n",
    "for ant,pos in hd.antpos.items():\n",
    "    bad = ant in [ant[0] for ant in ex_ants]\n",
    "    plt.gca().add_artist(plt.Circle(tuple(pos[0:2]), radius=7, \n",
    "                                    fill=(~bad), color=['grey','r'][bad]))\n",
    "    plt.text(pos[0],pos[1],str(ant), va='center', ha='center', color='w')\n",
    "plt.xlabel(\"Antenna East-West Position (meters)\")\n",
    "plt.ylabel(\"Antenna North-South Position (meters)\")\n",
    "plt.title('Antenna Positions on {} (Red = Flagged)'.format(file_JD));\n",
    "plt.axis('equal')\n",
    "plt.tight_layout()\n",
    "plt.show()"
   ]
  },
  {
   "cell_type": "markdown",
   "metadata": {},
   "source": [
    "### Figure 1: Array and Flagged Antennas\n",
    "\n",
    "#### OBSERVER CHECKLIST:\n",
    "* Check that the array configuration looks reasonable.\n",
    "* Check that all flags expected to be flagged are actually flagged but also that not everything is getting flagged."
   ]
  },
  {
   "cell_type": "code",
   "execution_count": null,
   "metadata": {
    "ExecuteTime": {
     "end_time": "2020-09-23T18:01:21.601259Z",
     "start_time": "2020-09-23T18:01:12.690556Z"
    }
   },
   "outputs": [],
   "source": [
    "# Find files that overlap with this file\n",
    "abscal_matched_files = list(abscal.match_times(data_list[file_index], \n",
    "                                               sorted(glob.glob(abscal_model_glob)), \n",
    "                                               filetype='uvh5', atol=1e-5))\n",
    "hdm = io.HERAData(abscal_matched_files)\n",
    "\n",
    "# Get model baselines to load\n",
    "model_bls = hdm.bls\n",
    "if isinstance(model_bls, dict):\n",
    "    model_bls = list(model_bls.values())[0]\n",
    "_, model_bl_to_load, data_to_model_bl_map =  abscal.match_baselines(bls_to_plot, model_bls, hd.antpos, \n",
    "                                                                    model_antpos=hdm.antpos, model_is_redundant=True)\n",
    "model, _, _ = hdm.read(bls=model_bl_to_load)\n",
    "\n",
    "# Rephase model at index of best match to mean LST in the data\n",
    "model_index = np.argmin(np.abs(model.lsts - np.mean(data.lsts)))\n",
    "model_blvecs = {bl: model.antpos[bl[0]] - model.antpos[bl[1]] for bl in model.keys()}\n",
    "utils.lst_rephase(model, model_blvecs, model.freqs, np.mean(data.lsts) - model.lsts[model_index],\n",
    "                  lat=hdm.telescope_location_lat_lon_alt_degrees[0], inplace=True)"
   ]
  },
  {
   "cell_type": "code",
   "execution_count": null,
   "metadata": {
    "ExecuteTime": {
     "end_time": "2020-09-23T18:01:24.906339Z",
     "start_time": "2020-09-23T18:01:21.603075Z"
    },
    "scrolled": false
   },
   "outputs": [],
   "source": [
    "for pol in ['ee', 'nn']:\n",
    "    for func, plot, ylabel in zip([np.abs, np.angle], [plt.semilogy, plt.plot], ['Amplitude (Jy)', 'Phase (Radians)']):\n",
    "        plt.figure(figsize=(16,4))        \n",
    "        for bl in [k for k in bls_to_plot if k[2] == pol]:\n",
    "            ant0, ant1 = utils.split_bl(bl)\n",
    "            blvec = hd.antpos[ant0[0]] - hd.antpos[ant1[0]]\n",
    "            if (ant0 not in ex_ants) and (ant1 not in ex_ants):\n",
    "                to_plot = deepcopy(data[bl])\n",
    "                to_plot[flags[bl]] = np.nan\n",
    "                plot(hd.freqs/1e6, func(np.nanmedian(to_plot, axis=0)))\n",
    "        for bl in [k for k in model if k[2] == pol]:\n",
    "            plot(hd.freqs/1e6, func(model[bl][model_index]), 'k-', label='Abscal Model')\n",
    "        plt.xlabel('Frequency (MHz)')\n",
    "        plt.ylabel(ylabel)\n",
    "        plt.legend(loc='lower right')\n",
    "        plt.title('{}-Polarized, {:f} m East, {:f} m North Visibility on {}'.format(pol, blvec[0], blvec[1], file_JD))"
   ]
  },
  {
   "cell_type": "markdown",
   "metadata": {},
   "source": [
    "### Figure 2: Example redundant baseline group, absolute calibrated, compared to the Abscal Model\n",
    "\n",
    "\n",
    "#### OBSERVER CHECKLIST:\n",
    "* Check that the data all look pretty redundant.\n",
    "* Check that the model isn't wildly out of line with the data. "
   ]
  },
  {
   "cell_type": "markdown",
   "metadata": {},
   "source": [
    "# Load a whole day"
   ]
  },
  {
   "cell_type": "code",
   "execution_count": null,
   "metadata": {
    "ExecuteTime": {
     "end_time": "2020-09-23T18:08:51.329312Z",
     "start_time": "2020-09-23T18:01:24.909085Z"
    }
   },
   "outputs": [],
   "source": [
    "# Load chisq and flagging info from abscal gains\n",
    "ant_flags_dict = {}\n",
    "chisq_ee_dict = {}\n",
    "chisq_nn_dict = {}\n",
    "cspa_med_dict = {}\n",
    "ants = set([])\n",
    "\n",
    "for cal in abscal_list:\n",
    "    hc = io.HERACal(cal)\n",
    "    _, flags, cspa, chisq = hc.read()\n",
    "    \n",
    "    ants |= set(flags.keys())\n",
    "    ant_flags_dict[cal] = {ant: np.all(flags[ant]) for ant in flags}\n",
    "    chisq_ee_dict[cal] = chisq['Jee']\n",
    "    chisq_nn_dict[cal] = chisq['Jnn']\n",
    "    cspa_med_dict[cal] = {ant: np.nanmedian(cspa[ant], axis=1) for ant in cspa}\n",
    "\n",
    "all_flagged_dict = {ant: np.all([af[ant] for af in ant_flags_dict.values()]) for ant in ants}\n",
    "cspa = {ant: np.hstack([np.squeeze(cspa_med_dict[cal][ant]) / \\\n",
    "                        ~ant_flags_dict[cal][ant] for cal in abscal_list]) for ant in ants}\n",
    "ee_chisq = np.vstack(np.array(list(chisq_ee_dict.values())))\n",
    "nn_chisq = np.vstack(np.array(list(chisq_nn_dict.values())))"
   ]
  },
  {
   "cell_type": "code",
   "execution_count": null,
   "metadata": {
    "ExecuteTime": {
     "end_time": "2020-09-23T18:10:49.444887Z",
     "start_time": "2020-09-23T18:08:51.332968Z"
    }
   },
   "outputs": [],
   "source": [
    "# save middle-numbered ants with a minimal number of flags\n",
    "ants_to_save = {}\n",
    "for pol in ['Jee', 'Jnn']:\n",
    "    min_flags = np.min([np.sum(~np.isfinite(cspa[ant])) \n",
    "                        for ant in cspa if ant[1] == pol])\n",
    "    ant_candidates = sorted([ant for ant in cspa if ant[1] == pol and \n",
    "                             np.sum(~np.isfinite(cspa[ant])) == min_flags])\n",
    "    Nac = len(ant_candidates)\n",
    "    ants_to_save[pol] = ant_candidates[(Nac // 2 - 1):(Nac // 2 + 1)]\n",
    "\n",
    "# Reload abscal gains\n",
    "times_dict = {}\n",
    "gain_dict = {}\n",
    "for cal in abscal_list:\n",
    "    hc = io.HERACal(cal)\n",
    "    gains, _, _, _ = hc.read()\n",
    "    times_dict[cal] = hc.times\n",
    "    gain_dict[cal] = {ant: gains[ant] for pol in ants_to_save \n",
    "                      for ant in ants_to_save[pol]}\n",
    "\n",
    "times = np.array(list(times_dict.values())).flatten()\n",
    "lsts = 12 / np.pi * pyuvdata.utils.get_lst_for_time(times, *hd.telescope_location_lat_lon_alt_degrees)\n",
    "gains = {ant: np.vstack([gain_dict[cal][ant] for cal in gain_dict]) \n",
    "         for pol in ants_to_save for ant in ants_to_save[pol]}    "
   ]
  },
  {
   "cell_type": "markdown",
   "metadata": {},
   "source": [
    "# Inspect a whole day"
   ]
  },
  {
   "cell_type": "code",
   "execution_count": null,
   "metadata": {
    "ExecuteTime": {
     "end_time": "2020-09-23T18:10:49.482304Z",
     "start_time": "2020-09-23T18:10:49.446870Z"
    }
   },
   "outputs": [],
   "source": [
    "# for overplotting blacklisted LSTs\n",
    "my_cmap = cm.binary\n",
    "my_cmap.set_under('k', alpha=0)\n",
    "blacklist = np.ones_like(ee_chisq) * time_blacklisted.flatten()[:, np.newaxis]"
   ]
  },
  {
   "cell_type": "code",
   "execution_count": null,
   "metadata": {
    "ExecuteTime": {
     "end_time": "2020-09-23T18:10:52.375485Z",
     "start_time": "2020-09-23T18:10:49.484092Z"
    }
   },
   "outputs": [],
   "source": [
    "# Grid and plot overall chi^2 for each polarization\n",
    "ee_chisq = np.vstack(np.array(list(chisq_ee_dict.values())))\n",
    "nn_chisq = np.vstack(np.array(list(chisq_nn_dict.values())))\n",
    "fig, axes = plt.subplots(1, 2, figsize=(20,12))\n",
    "\n",
    "for ax, cs, t in zip(axes, [ee_chisq, nn_chisq], ['ee-polarized', 'nn-polarized']):\n",
    "    extent=[hd.freqs[0]/1e6, hd.freqs[-1]/1e6, lsts[-1], lsts[0]]\n",
    "    im = ax.imshow(cs, aspect='auto', vmin=0, cmap='inferno', vmax=10, interpolation='nearest', extent=extent)\n",
    "    ax.imshow(blacklist, aspect='auto', \n",
    "              cmap=my_cmap, interpolation=None, clim=[0.9, 1], alpha=.25,\n",
    "              extent=[hd.freqs[0]/1e6, hd.freqs[-1]/1e6, lsts[-1], lsts[0]])\n",
    "    ax.set_title('Overall Abscal $\\chi^2$ / $N_{bls}$: ' + t)\n",
    "    ax.set_xlabel('Frequency (MHz)')\n",
    "    ax.set_ylabel('LST (Hours)')        \n",
    "    plt.colorbar(im, ax=ax, label='$\\chi^2$ / $N_{bls}$ (unitless)')"
   ]
  },
  {
   "cell_type": "markdown",
   "metadata": {
    "ExecuteTime": {
     "end_time": "2020-09-22T20:20:25.147745Z",
     "start_time": "2020-09-22T20:20:24.819620Z"
    }
   },
   "source": [
    "### Figure 3 Overall Abscal $\\chi^2 / N_{bls}$\n",
    "\n",
    "This computes the difference between the calibrated data and the abscal model, normalized by the thermal noise. Grayed out regions are \"blacklisted,\" meaning they are not flagged but they are given zero weight when performing calibration smoothing.\n",
    "\n",
    "#### OBSERVER CHECKLIST:\n",
    "* Look for regions of high $\\chi^2$ that are not blacklisted."
   ]
  },
  {
   "cell_type": "code",
   "execution_count": null,
   "metadata": {
    "ExecuteTime": {
     "end_time": "2020-09-23T18:10:57.139622Z",
     "start_time": "2020-09-23T18:10:52.377179Z"
    },
    "code_folding": []
   },
   "outputs": [],
   "source": [
    "# Pick vmax to not saturate 90% of the data\n",
    "vmax = np.max([np.percentile(np.abs(gains[ants_to_save[pol][1]]), 90) for pol in ['Jee', 'Jnn']])\n",
    "\n",
    "# Plot abscal gain amplitude waterfalls for a single antenna\n",
    "fig, axes = plt.subplots(3, 2, figsize=(16,16), gridspec_kw={'height_ratios': [1, .25, .25]})\n",
    "for ax, pol in zip(axes[0], ['Jee', 'Jnn']):\n",
    "    ant = ants_to_save[pol][1]\n",
    "    extent=[hd.freqs[0]/1e6, hd.freqs[-1]/1e6, lsts[-1], lsts[0]]\n",
    "    im = ax.imshow(np.abs(gains[ant]), aspect='auto', cmap='inferno', \n",
    "                   interpolation='nearest', vmin=0, vmax=vmax, extent=extent)\n",
    "    ax.imshow(blacklist, aspect='auto', \n",
    "              cmap=my_cmap, interpolation=None, clim=[0.9, 1], alpha=.25,\n",
    "              extent=[hd.freqs[0]/1e6, hd.freqs[-1]/1e6, lsts[-1], lsts[0]])\n",
    "    ax.set_title(f'Abscal Gain Amplitude of Antenna {ant[0]}: {pol[1:]}-polarized' )\n",
    "    ax.set_xlabel('Frequency (MHz)')\n",
    "    ax.set_ylabel('LST (Hours)')        \n",
    "    plt.colorbar(im, ax=ax,  orientation='horizontal', pad=.07)\n",
    "\n",
    "# Now plot median gain spectra and time series\n",
    "for ax, pol in zip(axes[1], ['Jee', 'Jnn']):\n",
    "    ant = ants_to_save[pol][1]\n",
    "    if not np.all(time_blacklisted):\n",
    "        ax.plot(hd.freqs / 1e6, np.median(np.abs(gains[ant][~time_blacklisted.flatten(), :]), axis=0))\n",
    "    ax.set_ylim([0, vmax])\n",
    "    ax.set_xlabel('Frequency (MHz)')\n",
    "    ax.set_ylabel('|g| (unitless)')\n",
    "    ax.set_title(f'Median Non-Blacklisted Abscal Gain Amplitude Spectrum of Antenna {ant[0]}: {pol[1:]}-polarized')\n",
    "\n",
    "# Now plot median gain time series\n",
    "for ax, pol in zip(axes[2], ['Jee', 'Jnn']):\n",
    "    ant = ants_to_save[pol][1]\n",
    "    if not np.all(time_blacklisted):\n",
    "        ax.plot(lsts[~time_blacklisted.flatten()], \n",
    "                np.median(np.abs(gains[ant][~time_blacklisted.flatten(), :]), axis=1), \n",
    "                'b.', label='Not Blacklisted LSTs')\n",
    "    if np.any(time_blacklisted):\n",
    "        ax.plot(lsts[time_blacklisted.flatten()], \n",
    "                np.median(np.abs(gains[ant][time_blacklisted.flatten(), :]), axis=1), \n",
    "                'r.', label='Blacklisted LSTs')\n",
    "    ax.set_ylim([0, vmax])\n",
    "    ax.set_xlabel('LST (hours)')\n",
    "    ax.set_ylabel('|g| (unitless)')\n",
    "    ax.set_title(f'Median Abscal Gain Amplitude Time-Series of Antenna {ant[0]}: {pol[1:]}-polarized')\n",
    "    ax.legend()\n",
    "\n",
    "plt.tight_layout()"
   ]
  },
  {
   "cell_type": "markdown",
   "metadata": {},
   "source": [
    "### Figure 4: Example Abscal Gain Amplitudes\n",
    "Abscal gain amplitudes for an example antenna. In the waterfall, grayed out regions are \"blacklisted,\" meaning they are not flagged but they are given zero weight when performing calibration smoothing. We also plot median non-blacklisted amplitude as a function of frequency (middle row) and the median amplitude as a function of time (bottom row)\n",
    "\n",
    "#### OBSERVER CHECKLIST:\n",
    "* Look to see that non-blacklisted times are relatively stable in amplitude\n",
    "* Check to see if the bandpass looks reasonable"
   ]
  },
  {
   "cell_type": "code",
   "execution_count": null,
   "metadata": {
    "ExecuteTime": {
     "end_time": "2020-09-23T18:11:03.271694Z",
     "start_time": "2020-09-23T18:10:57.141303Z"
    }
   },
   "outputs": [],
   "source": [
    "# Plot abscal gain phase waterfalls for a single antenna/refant\n",
    "fig, axes = plt.subplots(3, 2, figsize=(16,16), gridspec_kw={'height_ratios': [1, .25, .25]})\n",
    "for ax, pol in zip(axes[0], ['Jee', 'Jnn']):\n",
    "    ant0, ant1 = ants_to_save[pol]\n",
    "    extent=[hd.freqs[0]/1e6, hd.freqs[-1]/1e6, lsts[-1], lsts[0]]\n",
    "    im = ax.imshow(np.angle(gains[ant0] / gains[ant1]), aspect='auto', cmap='inferno', \n",
    "                   interpolation='nearest', vmin=-np.pi, vmax=np.pi, extent=extent)\n",
    "    ax.imshow(blacklist, aspect='auto', \n",
    "              cmap=my_cmap, interpolation=None, clim=[0.9, 1], alpha=.25,\n",
    "              extent=[hd.freqs[0]/1e6, hd.freqs[-1]/1e6, lsts[-1], lsts[0]])\n",
    "    ax.set_title(f'Abscal Gain Phase of Ant {ant0[0]} / Ant {ant1[0]}: {pol[1:]}-polarized' )\n",
    "    ax.set_xlabel('Frequency (MHz)')\n",
    "    ax.set_ylabel('LST (Hours)')        \n",
    "    plt.colorbar(im, ax=ax,  orientation='horizontal', pad=.07)\n",
    "\n",
    "# Now plot median gain spectra and time series\n",
    "for ax, pol in zip(axes[1], ['Jee', 'Jnn']):\n",
    "    ant0, ant1 = ants_to_save[pol]\n",
    "    if not np.all(time_blacklisted):\n",
    "        ax.plot(hd.freqs / 1e6, np.angle(np.median((gains[ant0] / gains[ant1])[~time_blacklisted.flatten(), :], axis=0)))\n",
    "    ax.set_ylim([-np.pi, np.pi])\n",
    "    ax.set_xlabel('Frequency (MHz)')\n",
    "    ax.set_ylabel('|g| (unitless)')\n",
    "    ax.set_title(f'Median Non-Blacklisted Abscal Gain Phase Spectrum of Ant {ant0[0]} / Ant {ant1[0]}: {pol[1:]}-polarized')\n",
    "\n",
    "# Now plot a single gain angle time series \n",
    "for ax, pol in zip(axes[2], ['Jee', 'Jnn']):\n",
    "    ant0, ant1 = ants_to_save[pol]\n",
    "    # pick channel with minimum phase variance in the middle 100 channels \n",
    "    possible_chans = np.arange(len(hd.freqs))[len(hd.freqs)//2 - 50:len(hd.freqs)//2 + 50]\n",
    "    best_chan = np.argmin(np.var(np.angle(gains[ant0] / gains[ant1]), axis=0)[len(hd.freqs)//2 - 50:len(hd.freqs)//2 + 50])\n",
    "    chan = possible_chans[best_chan]\n",
    "    \n",
    "    if not np.all(time_blacklisted):\n",
    "        ax.plot(lsts[~time_blacklisted.flatten()], \n",
    "                np.angle((gains[ant0] / gains[ant1])[~time_blacklisted.flatten(), chan]),\n",
    "                'b.', label='Not Blacklisted LSTs')\n",
    "    if np.any(time_blacklisted):\n",
    "        ax.plot(lsts[time_blacklisted.flatten()], \n",
    "                np.angle((gains[ant0] / gains[ant1])[time_blacklisted.flatten(), chan]),\n",
    "                'r.', label='Blacklisted LSTs')\n",
    "    ax.set_ylim([-np.pi, np.pi])\n",
    "    ax.set_xlabel('LST (hours)')\n",
    "    ax.set_ylabel(f'Phase of g$_{ant0[0]}$ / g$_{ant1[0]}$')\n",
    "    ax.set_title(f'Abscal Gain Phase of Ant {ant0[0]} / Ant {ant1[0]} at Channel {chan}: {pol[1:]}-polarized')\n",
    "    ax.legend()\n",
    "\n",
    "plt.tight_layout()"
   ]
  },
  {
   "cell_type": "markdown",
   "metadata": {},
   "source": [
    "### Figure 5: Example Abscal Gain Phases\n",
    "Relative gain phases of two example antennas. In the waterfall, grayed out regions are \"blacklisted,\" meaning they are not flagged but they are given zero weight when performing calibration smoothing. We also plot median non-blacklisted phases as a function of frequency (middle row) and the phase of the specific channel within 50 channels of the middle with minimal phase variance (bottom row).\n",
    "\n",
    "#### OBSERVER CHECKLIST:\n",
    "* Look for regions of \"hashy\" phase structure that are not blacklisted or attributable to RFI."
   ]
  },
  {
   "cell_type": "markdown",
   "metadata": {},
   "source": [
    "# Metadata"
   ]
  },
  {
   "cell_type": "code",
   "execution_count": null,
   "metadata": {
    "ExecuteTime": {
     "end_time": "2020-09-23T18:11:03.710248Z",
     "start_time": "2020-09-23T18:11:03.274674Z"
    }
   },
   "outputs": [],
   "source": [
    "print(redcal.version.history_string())"
   ]
  }
 ],
 "metadata": {
  "kernelspec": {
   "display_name": "Python 3",
   "language": "python",
   "name": "python3"
  },
  "language_info": {
   "codemirror_mode": {
    "name": "ipython",
    "version": 3
   },
   "file_extension": ".py",
   "mimetype": "text/x-python",
   "name": "python",
   "nbconvert_exporter": "python",
   "pygments_lexer": "ipython3",
   "version": "3.7.7"
  },
  "toc": {
   "base_numbering": 1,
   "nav_menu": {},
   "number_sections": false,
   "sideBar": true,
   "skip_h1_title": false,
   "title_cell": "Table of Contents",
   "title_sidebar": "Contents",
   "toc_cell": false,
   "toc_position": {},
   "toc_section_display": true,
   "toc_window_display": false
  }
 },
 "nbformat": 4,
 "nbformat_minor": 4
}
