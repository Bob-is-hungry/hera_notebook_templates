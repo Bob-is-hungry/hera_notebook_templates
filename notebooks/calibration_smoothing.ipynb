{
 "cells": [
  {
   "cell_type": "markdown",
   "id": "90a733cd",
   "metadata": {},
   "source": [
    "# Calibration Smoothing\n",
    "\n",
    "**by Josh Dillon**, last updated March 6, 2023\n",
    "\n",
    "This notebook runs calibration smoothing to the gains coming out of [file_calibration](https://github.com/HERA-Team/hera_notebook_templates/blob/master/notebooks/file_calibration.ipynb) notebook.  It removes any flags founds on by that notebook and replaces them with flags generated from [full_day_rfi](https://github.com/HERA-Team/hera_notebook_templates/blob/master/notebooks/full_day_rfi.ipynb) and [full_day_antenna_flagging](https://github.com/HERA-Team/hera_notebook_templates/blob/master/notebooks/full_day_antenna_flagging.ipynb). It also plots the results for a couple of antennas.\n",
    "\n",
    "Here's a set of links to skip to particular figures and tables:\n",
    "\n",
    "\n",
    "# [• Figure 1: Full-Day Gain Amplitudes Before and After `smooth_cal`](#Figure-1:-Full-Day-Gain-Amplitudes-Before-and-After-smooth_cal)\n",
    "# [• Figure 2: Full-Day Gain Phases Before and After `smooth_cal`](#Figure-2:-Full-Day-Gain-Phases-Before-and-After-smooth_cal)"
   ]
  },
  {
   "cell_type": "code",
   "execution_count": null,
   "id": "c0729ca0",
   "metadata": {},
   "outputs": [],
   "source": [
    "import time\n",
    "tstart = time.time()"
   ]
  },
  {
   "cell_type": "code",
   "execution_count": null,
   "id": "890a0651",
   "metadata": {},
   "outputs": [],
   "source": [
    "import os\n",
    "os.environ['HDF5_USE_FILE_LOCKING'] = 'FALSE'\n",
    "import h5py\n",
    "import hdf5plugin  # REQUIRED to have the compression plugins available\n",
    "import numpy as np\n",
    "import glob\n",
    "import copy\n",
    "import warnings\n",
    "import matplotlib\n",
    "import matplotlib.pyplot as plt\n",
    "from hera_cal import io, utils, smooth_cal\n",
    "%matplotlib inline\n",
    "from IPython.display import display, HTML"
   ]
  },
  {
   "cell_type": "markdown",
   "id": "76e80aed",
   "metadata": {},
   "source": [
    "## Parse inputs"
   ]
  },
  {
   "cell_type": "code",
   "execution_count": null,
   "id": "98f7b7de",
   "metadata": {},
   "outputs": [],
   "source": [
    "# get files\n",
    "SUM_FILE = os.environ.get(\"SUM_FILE\", None)\n",
    "\n",
    "SUM_FILE = '/users/jsdillon/lustre/H6C/abscal/2459853/zen.2459853.25518.sum.uvh5'\n",
    "\n",
    "SUM_SUFFIX = os.environ.get(\"SUM_SUFFIX\", 'sum.uvh5')\n",
    "CAL_SUFFIX = os.environ.get(\"CAL_SUFFIX\", 'sum.omni.calfits')\n",
    "SMOOTH_CAL_SUFFIX = os.environ.get(\"SMOOTH_CAL_SUFFIX\", 'sum.smooth.calfits')\n",
    "ANT_FLAG_SUFFIX = os.environ.get(\"ANT_FLAG_SUFFIX\", 'sum.antenna_flags.h5')\n",
    "RFI_FLAG_SUFFIX = os.environ.get(\"RFI_FLAG_SUFFIX\", 'sum.flag_waterfall.h5')\n",
    "FREQ_SMOOTHING_SCALE = float(os.environ.get(\"FREQ_SMOOTHING_SCALE\", 10.0)) # MHz\n",
    "TIME_SMOOTHING_SCALE = float(os.environ.get(\"TIME_SMOOTHING_SCALE\", 21600.0)) # seconds\n",
    "EIGENVAL_CUTOFF = float(os.environ.get(\"EIGENVAL_CUTOFF\", 1e-9))\n",
    "\n",
    "for setting in ['SUM_FILE', 'SUM_SUFFIX', 'CAL_SUFFIX', 'SMOOTH_CAL_SUFFIX', 'ANT_FLAG_SUFFIX', 'RFI_FLAG_SUFFIX',\n",
    "                'FREQ_SMOOTHING_SCALE', 'TIME_SMOOTHING_SCALE', 'EIGENVAL_CUTOFF']:\n",
    "        print(f'{setting} = {eval(setting)}')"
   ]
  },
  {
   "cell_type": "markdown",
   "id": "c6ecd16f",
   "metadata": {},
   "source": [
    "## Load files"
   ]
  },
  {
   "cell_type": "code",
   "execution_count": null,
   "id": "358a3237",
   "metadata": {},
   "outputs": [],
   "source": [
    "sum_glob = '.'.join(SUM_FILE.split('.')[:-3]) + '.*.' + SUM_SUFFIX\n",
    "cal_files_glob = sum_glob.replace(SUM_SUFFIX, CAL_SUFFIX)\n",
    "cal_files = sorted(glob.glob(cal_files_glob))\n",
    "print(f'Found {len(cal_files)} *.{CAL_SUFFIX} files starting with {cal_files[0]}.')"
   ]
  },
  {
   "cell_type": "code",
   "execution_count": null,
   "id": "f06dbb3a",
   "metadata": {},
   "outputs": [],
   "source": [
    "rfi_flag_files_glob = sum_glob.replace(SUM_SUFFIX, RFI_FLAG_SUFFIX)\n",
    "rfi_flag_files = sorted(glob.glob(rfi_flag_files_glob))\n",
    "print(f'Found {len(rfi_flag_files)} *.{RFI_FLAG_SUFFIX} files starting with {rfi_flag_files[0]}.')"
   ]
  },
  {
   "cell_type": "code",
   "execution_count": null,
   "id": "f13a1dd0",
   "metadata": {},
   "outputs": [],
   "source": [
    "ant_flag_files_glob = sum_glob.replace(SUM_SUFFIX, ANT_FLAG_SUFFIX)\n",
    "ant_flag_files = sorted(glob.glob(ant_flag_files_glob))\n",
    "print(f'Found {len(ant_flag_files)} *.{ANT_FLAG_SUFFIX} files starting with {ant_flag_files[0]}.')"
   ]
  },
  {
   "cell_type": "code",
   "execution_count": null,
   "id": "ee831559",
   "metadata": {
    "scrolled": true
   },
   "outputs": [],
   "source": [
    "cs = smooth_cal.CalibrationSmoother(cal_files, flag_file_list=(ant_flag_files + rfi_flag_files),\n",
    "                                    ignore_calflags=True, pick_refant=True, load_chisq=True)\n",
    "for pol in cs.refant:\n",
    "    print(f'Reference antenna {cs.refant[pol][0]} selected for {pol}.')"
   ]
  },
  {
   "cell_type": "code",
   "execution_count": null,
   "id": "482760b0",
   "metadata": {},
   "outputs": [],
   "source": [
    "# duplicate a small number of abscal gains for plotting\n",
    "antnums = set([ant[0] for ant in cs.ants])\n",
    "flags_per_antnum = [np.sum(cs.flag_grids[ant, 'Jnn']) + np.sum(cs.flag_grids[ant, 'Jee']) for ant in antnums]\n",
    "refant_nums = [ant[0] for ant in cs.refant.values()]\n",
    "candidate_ants = [ant for ant, nflags in zip(antnums, flags_per_antnum) if (ant not in refant_nums) and (nflags < np.percentile(flags_per_antnum, 25))]\n",
    "ants_to_plot = [func(candidate_ants) for func in (np.min, np.max)]\n",
    "abscal_gains = {(ant, pol): np.array(cs.gain_grids[(ant, pol)]) for ant in ants_to_plot for pol in ['Jee', 'Jnn']}"
   ]
  },
  {
   "cell_type": "markdown",
   "id": "8c0515ce",
   "metadata": {},
   "source": [
    "## Perform smoothing"
   ]
  },
  {
   "cell_type": "code",
   "execution_count": null,
   "id": "f2a3e31f",
   "metadata": {},
   "outputs": [],
   "source": [
    "cs.time_freq_2D_filter(freq_scale=FREQ_SMOOTHING_SCALE, time_scale=TIME_SMOOTHING_SCALE, eigenval_cutoff=EIGENVAL_CUTOFF, method='DPSS')"
   ]
  },
  {
   "cell_type": "markdown",
   "id": "c40160e2",
   "metadata": {},
   "source": [
    "## Plot results"
   ]
  },
  {
   "cell_type": "code",
   "execution_count": null,
   "id": "7ae20840",
   "metadata": {},
   "outputs": [],
   "source": [
    "lst_grid = utils.JD2LST(cs.time_grid) * 12 / np.pi\n",
    "lst_grid[lst_grid > lst_grid[-1]] -= 24"
   ]
  },
  {
   "cell_type": "code",
   "execution_count": null,
   "id": "4fe13af1",
   "metadata": {
    "scrolled": false
   },
   "outputs": [],
   "source": [
    "def amplitude_plot(ant_to_plot):\n",
    "    with warnings.catch_warnings():\n",
    "        warnings.simplefilter(\"ignore\")\n",
    "        # Pick vmax to not saturate 90% of the abscal gains\n",
    "        vmax = np.max([np.percentile(np.abs(cs.gain_grids[ant_to_plot, pol][~cs.flag_grids[ant_to_plot, pol]]), 99) for pol in ['Jee', 'Jnn']])\n",
    "\n",
    "        display(HTML(f'<h2>Antenna {ant_to_plot} Amplitude Waterfalls</h2>'))    \n",
    "\n",
    "        # Plot abscal gain amplitude waterfalls for a single antenna\n",
    "        fig, axes = plt.subplots(4, 2, figsize=(14,14), gridspec_kw={'height_ratios': [1, 1, .4, .4]})\n",
    "        for ax, pol in zip(axes[0], ['Jee', 'Jnn']):\n",
    "            ant = (ant_to_plot, pol)\n",
    "            extent=[cs.freqs[0]/1e6, cs.freqs[-1]/1e6, lst_grid[-1], lst_grid[0]]\n",
    "            im = ax.imshow(np.where(cs.flag_grids[ant], np.nan, np.abs(cs.gain_grids[ant])), aspect='auto', cmap='inferno', \n",
    "                           interpolation='nearest', vmin=0, vmax=vmax, extent=extent)\n",
    "            ax.set_title(f'Smoothcal Gain Amplitude of Antenna {ant[0]}: {pol[-1]}-polarized' )\n",
    "            ax.set_xlabel('Frequency (MHz)')\n",
    "            ax.set_ylabel('LST (Hours)')\n",
    "            ax.set_xlim([cs.freqs[0]/1e6, cs.freqs[-1]/1e6])\n",
    "            ax.set_yticklabels(ax.get_yticks() % 24)\n",
    "            plt.colorbar(im, ax=ax,  orientation='horizontal', pad=.15)\n",
    "\n",
    "        # Now flagged plot abscal waterfall    \n",
    "        for ax, pol in zip(axes[1], ['Jee', 'Jnn']):\n",
    "            ant = (ant_to_plot, pol)\n",
    "            extent=[cs.freqs[0]/1e6, cs.freqs[-1]/1e6, lst_grid[-1], lst_grid[0]]\n",
    "            im = ax.imshow(np.where(cs.flag_grids[ant], np.nan, np.abs(abscal_gains[ant])), aspect='auto', cmap='inferno', \n",
    "                           interpolation='nearest', vmin=0, vmax=vmax, extent=extent)\n",
    "            ax.set_title(f'Abscal Gain Amplitude of Antenna {ant[0]}: {pol[-1]}-polarized' )\n",
    "            ax.set_xlabel('Frequency (MHz)')\n",
    "            ax.set_ylabel('LST (Hours)')\n",
    "            ax.set_xlim([cs.freqs[0]/1e6, cs.freqs[-1]/1e6])\n",
    "            ax.set_yticklabels(ax.get_yticks() % 24)\n",
    "            plt.colorbar(im, ax=ax,  orientation='horizontal', pad=.15)\n",
    "            \n",
    "        # Now plot mean gain spectra \n",
    "        for ax, pol in zip(axes[2], ['Jee', 'Jnn']):\n",
    "            ant = (ant_to_plot, pol)   \n",
    "            nflags_spectrum = np.sum(cs.flag_grids[ant], axis=0)\n",
    "            to_plot = nflags_spectrum <= np.percentile(nflags_spectrum, 75)\n",
    "            ax.plot(cs.freqs[to_plot] / 1e6, np.nanmean(np.where(cs.flag_grids[ant], np.nan, np.abs(abscal_gains[ant])), axis=0)[to_plot], 'r.', label='Abscal')        \n",
    "            ax.plot(cs.freqs[to_plot] / 1e6, np.nanmean(np.where(cs.flag_grids[ant], np.nan, np.abs(cs.gain_grids[ant])), axis=0)[to_plot], 'k.', ms=2, label='Smoothed')        \n",
    "            ax.set_ylim([0, vmax])\n",
    "            ax.set_xlim([cs.freqs[0]/1e6, cs.freqs[-1]/1e6])    \n",
    "            ax.set_xlabel('Frequency (MHz)')\n",
    "            ax.set_ylabel('|g| (unitless)')\n",
    "            ax.set_title(f'Mean Infrequently-Flagged Gain Amplitude of Antenna {ant[0]}: {pol[-1]}-polarized')\n",
    "            ax.legend(loc='upper left')\n",
    "\n",
    "        # Now plot mean gain time series\n",
    "        for ax, pol in zip(axes[3], ['Jee', 'Jnn']):\n",
    "            ant = (ant_to_plot, pol)\n",
    "            nflags_series = np.sum(cs.flag_grids[ant], axis=1)\n",
    "            to_plot = nflags_series <= np.percentile(nflags_series, 75)\n",
    "            ax.plot(lst_grid[to_plot], np.nanmean(np.where(cs.flag_grids[ant], np.nan, np.abs(abscal_gains[ant])), axis=1)[to_plot], 'r.', label='Abscal')        \n",
    "            ax.plot(lst_grid[to_plot], np.nanmean(np.where(cs.flag_grids[ant], np.nan, np.abs(cs.gain_grids[ant])), axis=1)[to_plot], 'k.', ms=2, label='Smoothed')        \n",
    "            ax.set_ylim([0, vmax])\n",
    "            ax.set_xlabel('LST (hours)')\n",
    "            ax.set_ylabel('|g| (unitless)')\n",
    "            ax.set_title(f'Mean Infrequently-Flagged Gain Amplitude of Antenna {ant[0]}: {pol[-1]}-polarized')\n",
    "            ax.set_yticklabels(ax.get_yticks() % 24)\n",
    "            ax.legend(loc='upper left')\n",
    "\n",
    "        plt.tight_layout()\n",
    "        plt.show()    "
   ]
  },
  {
   "cell_type": "code",
   "execution_count": null,
   "id": "48cc3c8b",
   "metadata": {},
   "outputs": [],
   "source": [
    "def phase_plot(ant_to_plot):\n",
    "    with warnings.catch_warnings():\n",
    "        warnings.simplefilter(\"ignore\")    \n",
    "        display(HTML(f'<h2>Antenna {ant_to_plot} Phase Waterfalls</h2>'))\n",
    "        fig, axes = plt.subplots(4, 2, figsize=(14,14), gridspec_kw={'height_ratios': [1, 1, .4, .4]})\n",
    "\n",
    "        # Plot phase waterfalls for a single antenna    \n",
    "        for ax, pol in zip(axes[0], ['Jee', 'Jnn']):\n",
    "            ant = (ant_to_plot, pol)\n",
    "            extent=[cs.freqs[0]/1e6, cs.freqs[-1]/1e6, lst_grid[-1], lst_grid[0]]\n",
    "            im = ax.imshow(np.where(cs.flag_grids[ant], np.nan, np.angle(cs.gain_grids[ant])), aspect='auto', cmap='inferno', \n",
    "                           interpolation='nearest', vmin=-np.pi, vmax=np.pi, extent=extent)\n",
    "            ax.set_title(f'Smoothcal Gain Phase of Ant {ant[0]} / Ant {cs.refant[pol][0]}: {pol[-1]}-polarized')\n",
    "            ax.set_xlabel('Frequency (MHz)')\n",
    "            ax.set_ylabel('LST (Hours)')\n",
    "            ax.set_xlim([cs.freqs[0]/1e6, cs.freqs[-1]/1e6])\n",
    "            ax.set_yticklabels(ax.get_yticks() % 24)\n",
    "            plt.colorbar(im, ax=ax,  orientation='horizontal', pad=.15)\n",
    "\n",
    "        # Now plot abscal phase waterfall    \n",
    "        for ax, pol in zip(axes[1], ['Jee', 'Jnn']):\n",
    "            ant = (ant_to_plot, pol)\n",
    "            extent=[cs.freqs[0]/1e6, cs.freqs[-1]/1e6, lst_grid[-1], lst_grid[0]]\n",
    "            im = ax.imshow(np.where(cs.flag_grids[ant], np.nan, np.angle(abscal_gains[ant])), aspect='auto', cmap='inferno', \n",
    "                           interpolation='nearest', vmin=-np.pi, vmax=np.pi, extent=extent)\n",
    "            ax.set_title(f'Abscal Gain Phase of Ant {ant[0]} / Ant {cs.refant[pol][0]}: {pol[-1]}-polarized')\n",
    "            ax.set_xlabel('Frequency (MHz)')\n",
    "            ax.set_ylabel('LST (Hours)')\n",
    "            ax.set_xlim([cs.freqs[0]/1e6, cs.freqs[-1]/1e6])\n",
    "            ax.set_yticklabels(ax.get_yticks() % 24)\n",
    "            plt.colorbar(im, ax=ax,  orientation='horizontal', pad=.15)\n",
    "            \n",
    "        # Now plot median gain spectra \n",
    "        for ax, pol in zip(axes[2], ['Jee', 'Jnn']):\n",
    "            ant = (ant_to_plot, pol)   \n",
    "            nflags_spectrum = np.sum(cs.flag_grids[ant], axis=0)\n",
    "            to_plot = nflags_spectrum <= np.percentile(nflags_spectrum, 75)\n",
    "            ax.plot(cs.freqs[to_plot] / 1e6, np.nanmedian(np.where(cs.flag_grids[ant], np.nan, np.angle(abscal_gains[ant])), axis=0)[to_plot], 'r.', label='Abscal')        \n",
    "            ax.plot(cs.freqs[to_plot] / 1e6, np.nanmedian(np.where(cs.flag_grids[ant], np.nan, np.angle(cs.gain_grids[ant])), axis=0)[to_plot], 'k.', ms=2, label='Smoothed')        \n",
    "            ax.set_ylim([-np.pi, np.pi])\n",
    "            ax.set_xlim([cs.freqs[0]/1e6, cs.freqs[-1]/1e6])    \n",
    "            ax.set_xlabel('Frequency (MHz)')\n",
    "            ax.set_ylabel(f'Phase of g$_{{{ant[0]}}}$ / g$_{{{cs.refant[pol][0]}}}$')\n",
    "            ax.set_title(f'Median Infrequently-Flagged Gain Phase of Ant {ant[0]} / Ant {cs.refant[pol][0]}: {pol[-1]}-polarized')\n",
    "            ax.legend(loc='upper left')\n",
    "\n",
    "        # # Now plot median gain time series\n",
    "        for ax, pol in zip(axes[3], ['Jee', 'Jnn']):\n",
    "            ant = (ant_to_plot, pol)\n",
    "            nflags_series = np.sum(cs.flag_grids[ant], axis=1)\n",
    "            to_plot = nflags_series <= np.percentile(nflags_series, 75)\n",
    "            ax.plot(lst_grid[to_plot], np.nanmedian(np.where(cs.flag_grids[ant], np.nan, np.angle(abscal_gains[ant])), axis=1)[to_plot], 'r.', label='Abscal')        \n",
    "            ax.plot(lst_grid[to_plot], np.nanmedian(np.where(cs.flag_grids[ant], np.nan, np.angle(cs.gain_grids[ant])), axis=1)[to_plot], 'k.', ms=2, label='Smoothed')        \n",
    "            ax.set_ylim([-np.pi, np.pi])    \n",
    "            ax.set_xlabel('LST (hours)')\n",
    "            ax.set_ylabel(f'Phase of g$_{{{ant[0]}}}$ / g$_{{{cs.refant[pol][0]}}}$')\n",
    "            ax.set_title(f'Median Infrequently-Flagged Gain Phase of Ant {ant[0]} / Ant {cs.refant[pol][0]}: {pol[-1]}-polarized')\n",
    "            ax.set_xticklabels(ax.get_xticks() % 24)    \n",
    "            ax.legend(loc='upper left')\n",
    "\n",
    "        plt.tight_layout()\n",
    "        plt.show()"
   ]
  },
  {
   "cell_type": "markdown",
   "id": "2bcbcfd4",
   "metadata": {},
   "source": [
    "# *Figure 1: Full-Day Gain Amplitudes Before and After `smooth_cal`*\n",
    "\n",
    "Here we plot `abscal` and `smooth_cal` gain amplitudes for both of the sample antennas. We also show means across time/frequency, excluding frequencies/times that are frequently flagged. "
   ]
  },
  {
   "cell_type": "code",
   "execution_count": null,
   "id": "43438042",
   "metadata": {
    "scrolled": false
   },
   "outputs": [],
   "source": [
    "for ant_to_plot in ants_to_plot:\n",
    "    amplitude_plot(ant_to_plot)"
   ]
  },
  {
   "cell_type": "markdown",
   "id": "073b05a8",
   "metadata": {},
   "source": [
    "# *Figure 2: Full-Day Gain Phases Before and After `smooth_cal`*\n",
    "\n",
    "Here we plot `abscal` and `smooth_cal` phases relative to each polarization's reference antenna for both of the sample antennas. We also show medians across time/frequency, excluding frequencies/times that are frequently flagged. "
   ]
  },
  {
   "cell_type": "code",
   "execution_count": null,
   "id": "5c6fa5d0",
   "metadata": {
    "scrolled": false
   },
   "outputs": [],
   "source": [
    "for ant_to_plot in ants_to_plot:\n",
    "    phase_plot(ant_to_plot)"
   ]
  },
  {
   "cell_type": "markdown",
   "id": "9313eb0d",
   "metadata": {},
   "source": [
    "## Save Results"
   ]
  },
  {
   "cell_type": "code",
   "execution_count": null,
   "id": "733af091",
   "metadata": {},
   "outputs": [],
   "source": [
    "add_to_history = 'Produced by calibration_smoothing notebook with the following environment:\\n' + '=' * 65 + '\\n' + os.popen('conda env export').read() + '=' * 65"
   ]
  },
  {
   "cell_type": "code",
   "execution_count": null,
   "id": "d9fa5791",
   "metadata": {},
   "outputs": [],
   "source": [
    "cs.write_smoothed_cal(output_replace=(CAL_SUFFIX, SMOOTH_CAL_SUFFIX), add_to_history=add_to_history, clobber=True)"
   ]
  },
  {
   "cell_type": "markdown",
   "id": "005b391f",
   "metadata": {},
   "source": [
    "## Metadata"
   ]
  },
  {
   "cell_type": "code",
   "execution_count": null,
   "id": "943fc516",
   "metadata": {},
   "outputs": [],
   "source": [
    "for repo in ['hera_cal', 'hera_qm', 'hera_filters', 'hera_notebook_templates', 'pyuvdata']:\n",
    "    exec(f'from {repo} import __version__')\n",
    "    print(f'{repo}: {__version__}')"
   ]
  },
  {
   "cell_type": "code",
   "execution_count": null,
   "id": "53c2a606",
   "metadata": {},
   "outputs": [],
   "source": [
    "print(f'Finished execution in {(time.time() - tstart) / 60:.2f} minutes.')"
   ]
  }
 ],
 "metadata": {
  "kernelspec": {
   "display_name": "Python 3 (ipykernel)",
   "language": "python",
   "name": "python3"
  },
  "language_info": {
   "codemirror_mode": {
    "name": "ipython",
    "version": 3
   },
   "file_extension": ".py",
   "mimetype": "text/x-python",
   "name": "python",
   "nbconvert_exporter": "python",
   "pygments_lexer": "ipython3",
   "version": "3.9.13"
  },
  "toc": {
   "base_numbering": 1,
   "nav_menu": {},
   "number_sections": false,
   "sideBar": true,
   "skip_h1_title": false,
   "title_cell": "Table of Contents",
   "title_sidebar": "Contents",
   "toc_cell": false,
   "toc_position": {
    "height": "calc(100% - 180px)",
    "left": "10px",
    "top": "150px",
    "width": "362.797px"
   },
   "toc_section_display": true,
   "toc_window_display": false
  }
 },
 "nbformat": 4,
 "nbformat_minor": 5
}
