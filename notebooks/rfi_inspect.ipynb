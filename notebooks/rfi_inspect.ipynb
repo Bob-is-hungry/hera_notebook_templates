{
 "cells": [
  {
   "cell_type": "markdown",
   "metadata": {},
   "source": [
    "# RFI Inspection Daily RTP Notebook"
   ]
  },
  {
   "cell_type": "code",
   "execution_count": null,
   "metadata": {
    "ExecuteTime": {
     "end_time": "2020-03-06T00:41:48.883370Z",
     "start_time": "2020-03-06T00:41:45.944574Z"
    }
   },
   "outputs": [],
   "source": [
    "import numpy as np\n",
    "import matplotlib.pyplot as plt\n",
    "import matplotlib\n",
    "import glob\n",
    "import os\n",
    "from copy import deepcopy\n",
    "from pyuvdata import UVFlag\n",
    "import matplotlib.colors as colors\n",
    "\n",
    "%matplotlib inline"
   ]
  },
  {
   "cell_type": "code",
   "execution_count": null,
   "metadata": {},
   "outputs": [],
   "source": [
    "# Use environment variables to figure out path to data\n",
    "JD = os.environ['JULIANDATE']\n",
    "data_path = os.environ['DATA_PATH']\n",
    "print(f'JD = {JD}')\n",
    "print(f'data_path = \"{data_path}\"')"
   ]
  },
  {
   "cell_type": "markdown",
   "metadata": {},
   "source": [
    "# Show full day of flags"
   ]
  },
  {
   "cell_type": "code",
   "execution_count": null,
   "metadata": {},
   "outputs": [],
   "source": [
    "uvf = UVFlag(f'{data_path}/zen.{JD}.total_stage_1_threshold_flags.h5')"
   ]
  },
  {
   "cell_type": "code",
   "execution_count": null,
   "metadata": {},
   "outputs": [],
   "source": [
    "plt.figure(figsize=(16,12))\n",
    "plt.imshow(uvf.flag_array[:,:,0], aspect='auto',\n",
    "           extent=[uvf.freq_array[0] / 1e6, uvf.freq_array[-1] / 1e6, \n",
    "                   uvf.time_array[-1] - JD, uvf.time_array[0] - JD])\n",
    "plt.xlabel('Frequency (MHz)')\n",
    "plt.ylabel(f'JD - {JD}')\n",
    "ax2 = plt.gca().twinx()\n",
    "ax2.set_ylim([uvf.lst_array[0] * 12 / np.pi, uvf.lst_array[-1] * 12 / np.pi])\n",
    "ax2.set_ylabel('LST (hours)')\n",
    "ax3 = plt.gca().twiny()\n",
    "ax3.set_xlim([0, uvf.Nfreqs - 1])\n",
    "ax3.set_xlabel('Channel');"
   ]
  },
  {
   "cell_type": "markdown",
   "metadata": {},
   "source": [
    "## Figure 1: RFI Flags\n",
    "Yellow means flagged, blue is unflagged."
   ]
  },
  {
   "cell_type": "code",
   "execution_count": null,
   "metadata": {},
   "outputs": [],
   "source": [
    "xrfi_dirs = sorted(glob.glob(f'{data_path}/zen.{JD}.?????.stage_1_xrfi'))\n",
    "print(f'Found {len(xrfi_dirs)} directories containing XRFI intermediate data products.')\n",
    "files1 = [glob.glob(f'{d}/*combined_metrics1.h5')[0] for d in xrfi_dirs]\n",
    "print(f'Found {len(files1)} combined round 1 XRFI metrics files.')\n",
    "files2 = [glob.glob(f'{d}/*combined_metrics2.h5')[0] for d in xrfi_dirs]\n",
    "print(f'Found {len(files2)} combined round 2 XRFI metrics files.')\n",
    "uvf1 = UVFlag(files1)\n",
    "uvf2 = UVFlag(files2)\n",
    "uvf2.metric_array = np.where(np.isinf(uvf2.metric_array), uvf1.metric_array,\n",
    "                             uvf2.metric_array)"
   ]
  },
  {
   "cell_type": "code",
   "execution_count": null,
   "metadata": {},
   "outputs": [],
   "source": [
    "plt.figure(figsize=(16,12))\n",
    "max_abs = 100\n",
    "if np.max(uvf2.metric_array) > max_abs:\n",
    "    extend = 'max'\n",
    "    if np.min(uvf2.metric_array) < -max_abs:\n",
    "        extend = 'both'\n",
    "elif np.min(uvf2.metric_array) < -max_abs:\n",
    "    extend = 'min'    \n",
    "else:\n",
    "    extend = 'neither'\n",
    "\n",
    "plt.imshow(uvf2.metric_array[:,:,0], aspect='auto', cmap='RdBu_r',\n",
    "           norm=colors.SymLogNorm(linthresh=1,vmin=-max_abs, vmax=max_abs), \n",
    "           extent=[uvf.freq_array[0] / 1e6, uvf.freq_array[-1] / 1e6, \n",
    "                   uvf.time_array[-1] - JD, uvf.time_array[0] - JD])\n",
    "plt.colorbar(pad=.07, extend=extend,\n",
    "             label='RFI Detection Significance ($\\sigma$s)')\n",
    "plt.title('Combined XRFI Metrics')\n",
    "plt.xlabel('Frequency (MHz)')\n",
    "plt.ylabel(f'JD - {JD}')\n",
    "ax2 = plt.gca().twinx()\n",
    "ax2.set_ylim([uvf.lst_array[0] * 12 / np.pi, uvf.lst_array[-1] * 12 / np.pi])\n",
    "ax2.set_ylabel('LST (hours)')\n",
    "ax3 = plt.gca().twiny()\n",
    "ax3.set_xlim([0, uvf.Nfreqs - 1])\n",
    "ax3.set_xlabel('Channel');"
   ]
  },
  {
   "cell_type": "markdown",
   "metadata": {},
   "source": [
    "## Figure 2: Combined XRFI Detection Significance\n",
    "This figure shows round 2 XRFI metrics (mean filter outliers) combined in quadrature. When flagged in round 1 of XRFI, round 1's combined median filter metrics are used instead. "
   ]
  },
  {
   "cell_type": "markdown",
   "metadata": {},
   "source": [
    "# Metadata"
   ]
  },
  {
   "cell_type": "code",
   "execution_count": null,
   "metadata": {},
   "outputs": [],
   "source": [
    "from hera_qm import version\n",
    "print(version.construct_version_info())"
   ]
  },
  {
   "cell_type": "code",
   "execution_count": null,
   "metadata": {},
   "outputs": [],
   "source": []
  }
 ],
 "metadata": {
  "kernelspec": {
   "display_name": "Python 3",
   "language": "python",
   "name": "python3"
  },
  "language_info": {
   "codemirror_mode": {
    "name": "ipython",
    "version": 3
   },
   "file_extension": ".py",
   "mimetype": "text/x-python",
   "name": "python",
   "nbconvert_exporter": "python",
   "pygments_lexer": "ipython3",
   "version": "3.8.3"
  },
  "toc": {
   "base_numbering": 1,
   "nav_menu": {},
   "number_sections": false,
   "sideBar": true,
   "skip_h1_title": false,
   "title_cell": "Table of Contents",
   "title_sidebar": "Contents",
   "toc_cell": false,
   "toc_position": {},
   "toc_section_display": true,
   "toc_window_display": false
  }
 },
 "nbformat": 4,
 "nbformat_minor": 2
}
