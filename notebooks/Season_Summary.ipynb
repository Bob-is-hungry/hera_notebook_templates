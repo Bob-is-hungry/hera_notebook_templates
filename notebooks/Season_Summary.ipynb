{
 "cells": [
  {
   "cell_type": "markdown",
   "id": "2be6a5a1",
   "metadata": {},
   "source": [
    "# Season Data Quality Summary\n",
    "\n",
    "**Josh Dillon**, Last Revised January 2022\n",
    "\n",
    "This notebook parses information from each nightly `rtp_summary` notebook (as saved to .csvs) and builds a variety of useful tables. It is designed to highlight general trends across days."
   ]
  },
  {
   "cell_type": "code",
   "execution_count": null,
   "id": "8754ac52",
   "metadata": {
    "ExecuteTime": {
     "end_time": "2022-01-04T20:14:36.026519Z",
     "start_time": "2022-01-04T20:14:32.270610Z"
    }
   },
   "outputs": [],
   "source": [
    "import numpy as np\n",
    "import pandas as pd\n",
    "pd.set_option('display.max_rows', 1000)\n",
    "import matplotlib.pyplot as plt\n",
    "import matplotlib\n",
    "import glob\n",
    "import re\n",
    "import os\n",
    "from astropy.time import Time\n",
    "from IPython.display import display, HTML\n",
    "from hera_notebook_templates.utils import status_colors\n",
    "%matplotlib inline\n",
    "%config InlineBackend.figure_format = 'retina'\n",
    "display(HTML(\"<style>.container { width:100% !important; }</style>\"))"
   ]
  },
  {
   "cell_type": "code",
   "execution_count": null,
   "id": "2de5242c",
   "metadata": {
    "ExecuteTime": {
     "end_time": "2022-01-04T20:14:36.036710Z",
     "start_time": "2022-01-04T20:14:36.035042Z"
    }
   },
   "outputs": [],
   "source": [
    "# If you want to run this notebook locally, copy the output of the next cell into the next line of this cell.\n",
    "# csv_folder = '/lustre/aoc/projects/hera/H5C/H5C_Notebooks/_rtp_summary_'\n",
    "# os.environ[\"CSV_FOLDER\"] = csv_folder"
   ]
  },
  {
   "cell_type": "code",
   "execution_count": null,
   "id": "67de06ca",
   "metadata": {
    "ExecuteTime": {
     "end_time": "2022-01-04T20:14:36.127536Z",
     "start_time": "2022-01-04T20:14:36.038043Z"
    }
   },
   "outputs": [],
   "source": [
    "# Use environment variables to figure out path to the csvs\n",
    "csv_folder = os.environ[\"CSV_FOLDER\"]\n",
    "print(f'csv_folder = \"{csv_folder}\"')"
   ]
  },
  {
   "cell_type": "code",
   "execution_count": null,
   "id": "8811586a",
   "metadata": {
    "ExecuteTime": {
     "end_time": "2022-01-04T20:14:36.132492Z",
     "start_time": "2022-01-04T20:14:36.128729Z"
    }
   },
   "outputs": [],
   "source": [
    "# load csvs in reverse chronological order, assuming that the notebook is run in the main HXC_Notebooks folder\n",
    "csvs = sorted(glob.glob(os.path.join(csv_folder, '*.csv')))[::-1]\n",
    "print(f'Found {len(csvs)} csvs in {csv_folder}')"
   ]
  },
  {
   "cell_type": "code",
   "execution_count": null,
   "id": "c473c2fd",
   "metadata": {
    "ExecuteTime": {
     "end_time": "2022-01-04T20:14:36.136778Z",
     "start_time": "2022-01-04T20:14:36.133920Z"
    }
   },
   "outputs": [],
   "source": [
    "# Per-season options\n",
    "def jd_to_summary_url(jd):\n",
    "    return f'https://htmlpreview.github.io/?https://github.com/HERA-Team/H5C_Notebooks/blob/main/_rtp_summary_/rtp_summary_{jd}.html'"
   ]
  },
  {
   "cell_type": "code",
   "execution_count": null,
   "id": "32c649de",
   "metadata": {
    "ExecuteTime": {
     "end_time": "2022-01-04T20:14:36.162017Z",
     "start_time": "2022-01-04T20:14:36.138474Z"
    },
    "code_folding": []
   },
   "outputs": [],
   "source": [
    "class Antenna:\n",
    "    '''Data structure for season data for an individual antenna'''\n",
    "    def __init__(self, number, node=None):\n",
    "        self.number = number\n",
    "        self.node = node\n",
    "        \n",
    "        self.statuses = {}\n",
    "        self.auto_flags = {}\n",
    "        self.dead_flags_Jee = {}\n",
    "        self.dead_flags_Jnn = {}        \n",
    "        self.crossed_flags = {}\n",
    "        self.flags_before_redcal = {}\n",
    "        self.redcal_flags = {}\n",
    "        self.total_flags = {}\n",
    "        \n",
    "        self.ee_shape_zs = {}\n",
    "        self.nn_shape_zs = {}\n",
    "        self.ee_power_zs = {}\n",
    "        self.nn_power_zs = {}\n",
    "        self.ee_temp_var_zs = {}\n",
    "        self.nn_temp_var_zs = {}\n",
    "        self.ee_temp_discon_zs = {}\n",
    "        self.nn_temp_discon_zs = {}\n",
    "        self.Jee_dead_metrics = {}\n",
    "        self.Jnn_dead_metrics = {}\n",
    "        self.crossed_metrics = {}\n",
    "        self.Jee_chisqs = {}\n",
    "        self.Jnn_chisqs = {}\n",
    "        \n",
    "    def add_day(self, csv_row):\n",
    "        '''Parses row from rtp_summary csv into this object'''\n",
    "        self.statuses[jd] = row['A Priori Status']\n",
    "        \n",
    "        # Add auto_metrics info, if available\n",
    "        if 'Auto Metrics Flags' in row:\n",
    "            self.auto_flags[jd] = row['Auto Metrics Flags']\n",
    "            self.ee_shape_zs[jd] = row['ee Shape Modified Z-Score']\n",
    "            self.nn_shape_zs[jd] = row['nn Shape Modified Z-Score']\n",
    "            self.ee_power_zs[jd] = row['ee Power Modified Z-Score']\n",
    "            self.nn_power_zs[jd] = row['nn Power Modified Z-Score']\n",
    "            self.ee_temp_var_zs[jd] = row['ee Temporal Variability Modified Z-Score']\n",
    "            self.nn_temp_var_zs[jd] = row['nn Temporal Variability Modified Z-Score']\n",
    "            self.ee_temp_discon_zs[jd] = row['ee Temporal Discontinuties Modified Z-Score']\n",
    "            self.nn_temp_discon_zs[jd] = row['nn Temporal Discontinuties Modified Z-Score']\n",
    "        else:\n",
    "            self.auto_flags[jd] = np.nan\n",
    "            self.ee_shape_zs[jd] = np.nan\n",
    "            self.nn_shape_zs[jd] = np.nan\n",
    "            self.ee_power_zs[jd] = np.nan\n",
    "            self.nn_power_zs[jd] = np.nan\n",
    "            self.ee_temp_var_zs[jd] = np.nan\n",
    "            self.nn_temp_var_zs[jd] = np.nan\n",
    "            self.ee_temp_discon_zs[jd] = np.nan\n",
    "            self.nn_temp_discon_zs[jd] = np.nan\n",
    "\n",
    "        # Add ant_metrics info, if available\n",
    "        if 'Dead Fraction in Ant Metrics (Jee)' in row:\n",
    "            self.dead_flags_Jee[jd] = row['Dead Fraction in Ant Metrics (Jee)']\n",
    "            self.dead_flags_Jnn[jd] = row['Dead Fraction in Ant Metrics (Jnn)']\n",
    "            self.crossed_flags[jd] = row['Crossed Fraction in Ant Metrics']\n",
    "            self.Jee_dead_metrics[jd] = row['Average Dead Ant Metric (Jee)']\n",
    "            self.Jnn_dead_metrics[jd] = row['Average Dead Ant Metric (Jnn)']\n",
    "            self.crossed_metrics[jd] = row['Average Crossed Ant Metric']\n",
    "        else:\n",
    "            self.dead_flags_Jee[jd] = np.nan\n",
    "            self.dead_flags_Jnn[jd] = np.nan\n",
    "            self.crossed_flags[jd] = np.nan\n",
    "            self.Jee_dead_metrics[jd] = np.nan\n",
    "            self.Jnn_dead_metrics[jd] = np.nan\n",
    "            self.crossed_metrics[jd] = np.nan\n",
    "        \n",
    "        # Add redcal info, if available\n",
    "        if 'Flag Fraction Before Redcal' in row:\n",
    "            self.flags_before_redcal[jd] = row['Flag Fraction Before Redcal']\n",
    "            self.redcal_flags[jd] = row['Flagged By Redcal chi^2 Fraction']\n",
    "            self.Jee_chisqs[jd] = row['Median chi^2 Per Antenna (Jee)']\n",
    "            self.Jnn_chisqs[jd] = row['Median chi^2 Per Antenna (Jnn)']      \n",
    "        else:\n",
    "            self.flags_before_redcal[jd] = np.nan\n",
    "            self.redcal_flags[jd] = np.nan\n",
    "            self.Jee_chisqs[jd] = np.nan\n",
    "            self.Jnn_chisqs[jd] = np.nan\n",
    "\n",
    "        # Compute final flagging percentage\n",
    "        self.total_flags[jd] = self.auto_flags[jd]\n",
    "        if self.total_flags[jd] != 1:\n",
    "            self.total_flags[jd] = min(1, max(self.dead_flags_Jee[jd], self.dead_flags_Jnn[jd]) + self.crossed_flags[jd] + self.redcal_flags[jd])\n",
    "            \n",
    "    def unflagged_days(self, jds=None):\n",
    "        '''Computes the number of effective unflagged days, either from a fixed set of days or all days.'''\n",
    "        if jds is None:\n",
    "            jds = self.total_flags.keys()\n",
    "        return np.sum([1 - self.total_flags[jd] for jd in jds if jd in self.total_flags])\n",
    "    \n",
    "    def is_dead(self, jd):\n",
    "        '''Returns the larger of Jee and Jnn dead flags (which should be the same) on a given JD.\n",
    "        Returns np.nan if this antenna is not in the data for that day.'''\n",
    "        if jd not in self.dead_flags_Jee:\n",
    "            return np.nan\n",
    "        return np.max([self.dead_flags_Jee[jd], self.dead_flags_Jnn[jd]])\n",
    "    \n",
    "    def ant_metrics_flag_frac(self, jd):\n",
    "        '''Returns the fraction of the time this antenna is flagged as dead or crossed.\n",
    "        Returns np.nan if this antenna is no tin the data for that day.'''\n",
    "        if jd not in self.dead_flags_Jee:\n",
    "            return np.nan\n",
    "        return min(1, np.max([self.dead_flags_Jee[jd], self.dead_flags_Jnn[jd]]) + self.crossed_flags[jd])\n",
    "    \n",
    "    def most_common_flag_rationale(self, jds=None):\n",
    "        '''Returns a string describining the worst metric for the most common flag rationale,\n",
    "        either for a fixed set of days for all days. Returns np.nan if no data is available.'''\n",
    "        if jds is None:\n",
    "            jds = self.total_flags.keys()     \n",
    "            \n",
    "        ant_metrics_ff = np.nan_to_num(np.nanmean([self.ant_metrics_flag_frac(jd) for jd in jds]), nan=-np.inf)\n",
    "        auto_metrics_ff = np.nan_to_num(np.nanmean([self.auto_flags[jd] if jd in self.auto_flags else np.nan for jd in jds]), nan=-np.inf)\n",
    "        redcal_ff = np.nan_to_num(np.nanmean([self.redcal_flags[jd] if jd in self.redcal_flags else np.nan for jd in jds]), nan=-np.inf)\n",
    "        \n",
    "        if 0 == ant_metrics_ff == auto_metrics_ff == redcal_ff:\n",
    "            return 'No Flags'\n",
    "        \n",
    "        if (ant_metrics_ff > 0) and (ant_metrics_ff >= auto_metrics_ff) and (ant_metrics_ff >= redcal_ff):\n",
    "            ffs = {'Low_Corr': np.nanmean([self.is_dead(jd) for jd in jds])}\n",
    "            ffs['Crossed'] = np.nanmean([self.crossed_flags[jd] if jd in self.crossed_flags else np.nan for jd in jds])\n",
    "            return sorted(ffs.items(), key=lambda item: item[1])[-1][0]\n",
    "        \n",
    "        elif (auto_metrics_ff > 0) and (auto_metrics_ff >= ant_metrics_ff) and (auto_metrics_ff >= redcal_ff):\n",
    "            mms = {}  # metric medians\n",
    "            mms['ee_Auto_Shape'] = np.nanmedian([self.ee_shape_zs[jd] if jd in self.ee_shape_zs else np.nan for jd in jds])\n",
    "            mms['nn_Auto_Shape'] = np.nanmedian([self.nn_shape_zs[jd] if jd in self.nn_shape_zs else np.nan for jd in jds])\n",
    "            mms['ee_Auto_Power'] = np.nanmedian([self.ee_power_zs[jd] if jd in self.ee_power_zs else np.nan for jd in jds])\n",
    "            mms['nn_Auto_Power'] = np.nanmedian([self.nn_power_zs[jd] if jd in self.nn_power_zs else np.nan for jd in jds])\n",
    "            mms['ee_Auto_T_Var'] = np.nanmedian([self.ee_temp_var_zs[jd] if jd in self.ee_temp_var_zs else np.nan for jd in jds])\n",
    "            mms['nn_Auto_T_Var'] = np.nanmedian([self.nn_temp_var_zs[jd] if jd in self.nn_temp_var_zs else np.nan for jd in jds])\n",
    "            mms['ee_Auto_T_Discon'] = np.nanmedian([self.ee_temp_discon_zs[jd] if jd in self.ee_temp_discon_zs else np.nan for jd in jds])\n",
    "            mms['nn_Auto_T_Discon'] = np.nanmedian([self.nn_temp_discon_zs[jd] if jd in self.nn_temp_discon_zs else np.nan for jd in jds])\n",
    "            return sorted(mms.items(), key=lambda item: item[1])[-1][0]\n",
    "        \n",
    "        elif (redcal_ff > 0) and (redcal_ff >= ant_metrics_ff) and (redcal_ff >= auto_metrics_ff):\n",
    "            mms = {}  # metric medians\n",
    "            mms['Jee_Redcal_chisq'] = np.nanmedian([self.Jee_chisqs[jd] if jd in self.Jee_chisqs else np.nan for jd in jds])\n",
    "            mms['Jnn_Redcal_chisq'] = np.nanmedian([self.Jnn_chisqs[jd] if jd in self.Jnn_chisqs else np.nan for jd in jds])\n",
    "            return sorted(mms.items(), key=lambda item: item[1])[-1][0]            \n",
    "            \n",
    "        return np.nan"
   ]
  },
  {
   "cell_type": "markdown",
   "id": "b6195cfd",
   "metadata": {},
   "source": [
    "## Load Data"
   ]
  },
  {
   "cell_type": "code",
   "execution_count": null,
   "id": "8356b451",
   "metadata": {
    "ExecuteTime": {
     "end_time": "2022-01-04T20:14:37.676130Z",
     "start_time": "2022-01-04T20:14:36.164531Z"
    }
   },
   "outputs": [],
   "source": [
    "antennas = {}\n",
    "nodes = {}\n",
    "jds = []\n",
    "\n",
    "# parse information about antennas and nodes\n",
    "for csv in csvs:\n",
    "    jd = [int(s) for s in re.split('_|\\.', csv) if s.isdigit()][-1]\n",
    "    jds.append(jd)\n",
    "    df = pd.read_csv(csv)\n",
    "    for n in range(len(df)):\n",
    "        # Add this day to the antenna\n",
    "        row = df.loc[n]\n",
    "        antnum = row['Ant']\n",
    "        if antnum not in antennas:\n",
    "            antennas[antnum] = Antenna(row['Ant'], row['Node'])\n",
    "        antennas[antnum].add_day(row)\n",
    "    \n",
    "        if antennas[antnum].node not in nodes:\n",
    "            nodes[antennas[antnum].node] = [antennas[antnum]]\n",
    "        elif antennas[antnum] not in nodes[antennas[antnum].node]:\n",
    "            nodes[antennas[antnum].node].append(antennas[antnum])\n",
    "            nodes[antennas[antnum].node] = sorted(nodes[antennas[antnum].node], key=lambda ant: ant.node)"
   ]
  },
  {
   "cell_type": "code",
   "execution_count": null,
   "id": "bee162d0",
   "metadata": {
    "ExecuteTime": {
     "end_time": "2022-01-04T20:14:37.894780Z",
     "start_time": "2022-01-04T20:14:37.679341Z"
    }
   },
   "outputs": [],
   "source": [
    "# build per-night flagging table\n",
    "antnums = sorted(antennas.keys())\n",
    "to_show = {'JDs': [f'<a href=\"{jd_to_summary_url(jd)}\">{jd}</a>' for jd in jds]}\n",
    "to_show['Ants in Data'] = [np.sum([jd in antennas[ant].statuses for ant in antnums])  for jd in jds]\n",
    "to_show['Unflagged Antenna-Days'] = [np.sum([antennas[ant].unflagged_days([jd]) for ant in antnums])  for jd in jds]\n",
    "to_show['auto_metrics Flags'] = [np.nansum([antennas[ant].auto_flags[jd] for ant in antnums if jd in antennas[ant].auto_flags]) / \n",
    "                                 np.sum([np.isfinite(antennas[ant].auto_flags[jd]) for ant in antnums if jd in antennas[ant].auto_flags]) for jd in jds]\n",
    "to_show['ant_metrics Flags'] = [x if np.isfinite(x) else np.nan for x in \n",
    "                                [np.nansum([antennas[ant].ant_metrics_flag_frac(jd) for ant in antnums]) / \n",
    "                                np.sum([np.isfinite(antennas[ant].dead_flags_Jee[jd]) for ant in antnums if jd in antennas[ant].dead_flags_Jee]) for jd in jds]]\n",
    "to_show['redcal Flags'] = [np.nansum([antennas[ant].redcal_flags[jd] for ant in antnums if jd in antennas[ant].redcal_flags]) / \n",
    "                           np.sum([np.isfinite(antennas[ant].redcal_flags[jd]) for ant in antnums if jd in antennas[ant].redcal_flags]) for jd in jds]\n",
    "\n",
    "df = pd.DataFrame(to_show)\n",
    "table = df.style.hide_index() \\\n",
    "          .format('{:,.1f}', na_rep='-', subset=['Unflagged Antenna-Days']) \\\n",
    "          .background_gradient(cmap='gray', axis=None, subset=['Unflagged Antenna-Days']) \\\n",
    "          .format('{:,.0%}', na_rep='-', subset=['ant_metrics Flags', 'auto_metrics Flags', 'redcal Flags']) \\\n",
    "          .background_gradient(cmap='plasma', axis=None, subset=['ant_metrics Flags', 'auto_metrics Flags', 'redcal Flags']) \\\n",
    "    "
   ]
  },
  {
   "cell_type": "code",
   "execution_count": null,
   "id": "30489e4c",
   "metadata": {
    "ExecuteTime": {
     "end_time": "2022-01-04T20:14:37.899892Z",
     "start_time": "2022-01-04T20:14:37.895885Z"
    }
   },
   "outputs": [],
   "source": [
    "def antenna_flag_plot():\n",
    "    fig, ax = plt.subplots(1, 1, figsize=(14,7), dpi=100)\n",
    "    utc = Time(jds, format='jd').datetime\n",
    "    floor_jd = int(np.floor(np.min(jds) / 1000) * 1000)\n",
    "    ax.plot_date(utc, to_show['Ants in Data'], '.-', ms=10, label='Antennas in Data')\n",
    "    ax.plot(utc, to_show['Unflagged Antenna-Days'], 'r.-', ms=10, label='Unflagged Antenna-Days')\n",
    "    ax2 = ax.twiny()\n",
    "    ax2.plot(np.array(jds) - floor_jd, to_show['Unflagged Antenna-Days'], 'r.', ms=10)\n",
    "    ax2.set_xlabel(f'JD - {floor_jd}')\n",
    "    ax.set_ylabel('Number of Antennas')\n",
    "    ax.set_xlabel('Date')\n",
    "    ax.legend()\n",
    "    ax2.grid()\n",
    "    ax.grid(axis='y')"
   ]
  },
  {
   "cell_type": "markdown",
   "id": "0db260ce",
   "metadata": {},
   "source": [
    "# Figure 1: (Unflagged) Antennas in the Array\n",
    "\n",
    "This plot shows the progression of the number of antennas in the data and the number of antenna-days that are not automatically flagged."
   ]
  },
  {
   "cell_type": "code",
   "execution_count": null,
   "id": "68f2addd",
   "metadata": {
    "ExecuteTime": {
     "end_time": "2022-01-04T20:14:38.421763Z",
     "start_time": "2022-01-04T20:14:37.901292Z"
    }
   },
   "outputs": [],
   "source": [
    "antenna_flag_plot()    "
   ]
  },
  {
   "cell_type": "markdown",
   "id": "e6353639",
   "metadata": {},
   "source": [
    "# Table 1: Per Night Flagging\n",
    "\n",
    "This table shows how many antennas we in the data for each night, the effective number of unflagged antenna-days, and the fraction of antennda-days flagged by:\n",
    "* `auto_metrics` for bad autocorrelation shape, amplitude, or temporal structure,\n",
    "* `ant_metrics` for low/no correlations or for having polarizations swapped, or\n",
    "* `redcal` for non-redundancy. \n",
    "\n",
    "Note that an antenna can be flagged by both `auto_metrics` and `ant_metrics`, so those quantities may add up to more than 100%. However an antenna flagged by either `auto_metrics` (for the night) or `ant_metrics` (for the file) will be excluded from `redcal`, so these percentages will tend to be small. Dashes indicate missing metric data, likely because part of the RTP failed to run. Also included are links to individual `rtp_summary` notebooks."
   ]
  },
  {
   "cell_type": "code",
   "execution_count": null,
   "id": "47382d43",
   "metadata": {
    "ExecuteTime": {
     "end_time": "2022-01-04T20:14:38.450410Z",
     "start_time": "2022-01-04T20:14:38.424022Z"
    }
   },
   "outputs": [],
   "source": [
    "HTML(table.render(render_links=True, escape=False))"
   ]
  },
  {
   "cell_type": "code",
   "execution_count": null,
   "id": "8664ae6c",
   "metadata": {
    "ExecuteTime": {
     "end_time": "2022-01-04T20:14:38.705077Z",
     "start_time": "2022-01-04T20:14:38.451517Z"
    },
    "scrolled": false
   },
   "outputs": [],
   "source": [
    "# Build table for antenna flagging\n",
    "antnums = sorted(antennas.keys())\n",
    "to_show = {'Ant': antnums, 'Node': [antennas[ant].node for ant in antnums]}\n",
    "\n",
    "to_show['Most Recent Status'] = [antennas[ant].statuses[np.max(list(antennas[ant].statuses.keys()))] for ant in antnums]\n",
    "\n",
    "to_show['Total Days This Season'] = [len(antennas[ant].total_flags) for ant in antnums]\n",
    "to_show['Unflagged Days This Season'] = [antennas[ant].unflagged_days() for ant in antnums]\n",
    "to_show['Flag % This Season'] = 1 - np.array(to_show['Unflagged Days This Season']) / np.array(to_show['Total Days This Season'])\n",
    "to_show['Top Flag Rationale (Season)'] = [antennas[ant].most_common_flag_rationale() for ant in antnums]\n",
    "\n",
    "to_show['Total Days This Week'] = [len([antennas[ant].total_flags[jd] for jd in jds[0:min(len(jds), 7)] if jd in antennas[ant].total_flags]) for ant in antnums]\n",
    "to_show['Unflagged Days This Week'] = [antennas[ant].unflagged_days(jds[0:min(len(jds), 7)]) for ant in antnums]\n",
    "to_show['Flag % This Week'] = 1 - np.array(to_show['Unflagged Days This Week']) / np.array(to_show['Total Days This Week'])\n",
    "to_show['Top Flag Rationale (Week)'] = [antennas[ant].most_common_flag_rationale(jds[0:min(len(jds), 7)]) for ant in antnums]\n",
    "\n",
    "jd_links = []\n",
    "for jd in jds:\n",
    "    jd_links.append(f'<a href=\"{jd_to_summary_url(jd)}\">{jd}</a>')\n",
    "    to_show[jd_links[-1]] = [antennas[ant].total_flags[jd] if jd in antennas[ant].total_flags else np.nan for ant in antnums ]\n",
    "df = pd.DataFrame(to_show)\n",
    "\n",
    "table = df.style.hide_index()\\\n",
    "          .applymap(lambda val: f'background-color: {status_colors[val]}' if val in status_colors else '', subset=['Most Recent Status']) \\\n",
    "          .format('{:,.0%}', na_rep='-', subset=jd_links + ['Flag % This Season', 'Flag % This Week']) \\\n",
    "          .format('{:}', na_rep='-', subset=['Top Flag Rationale (Season)', 'Top Flag Rationale (Week)']) \\\n",
    "          .format('{:,.1f}', na_rep='-', subset=['Unflagged Days This Season', 'Unflagged Days This Week'] ) \\\n",
    "          .background_gradient(cmap='plasma', vmax=1, vmin=0, axis=None, subset=jd_links) \\\n",
    "          .bar(subset=['Flag % This Season', 'Flag % This Week'], vmin=0, vmax=1) "
   ]
  },
  {
   "cell_type": "markdown",
   "id": "100672e9",
   "metadata": {},
   "source": [
    "# Table 2: Per-Antenna, Per-Night Flagging\n",
    "\n",
    "This table summarizes information about individual antennas for the whole season and in the last seven days. This includes the number of days the antenna was in the data, what fraction of them were flagged, and how many unflagged days that leaves. It also attempts to figure out which metric led the most flagging, by seeing which step produced the most flags and when which median metric was largest within that step. Finally, it includes per-night flagging fractions."
   ]
  },
  {
   "cell_type": "code",
   "execution_count": null,
   "id": "7c1efec1",
   "metadata": {
    "ExecuteTime": {
     "end_time": "2022-01-04T20:14:39.090199Z",
     "start_time": "2022-01-04T20:14:38.706403Z"
    },
    "scrolled": false
   },
   "outputs": [],
   "source": [
    "HTML(table.render(render_links=True, escape=False))"
   ]
  },
  {
   "cell_type": "code",
   "execution_count": null,
   "id": "3fb003df",
   "metadata": {
    "ExecuteTime": {
     "end_time": "2022-01-04T20:14:39.148993Z",
     "start_time": "2022-01-04T20:14:39.091572Z"
    }
   },
   "outputs": [],
   "source": [
    "# Build table for node flagging\n",
    "nodenums = sorted(nodes.keys())\n",
    "\n",
    "to_show = {'Node': nodenums, 'Number of Ants': [len(nodes[n]) for n in nodenums]}\n",
    "\n",
    "to_show['Total Antenna-Days This Season'] = [np.sum([jd in antenna.total_flags for antenna in nodes[n] for jd in jds]) for n in nodenums]\n",
    "to_show['Unflagged Antenna-Days This Season'] = [np.sum([antenna.unflagged_days() for antenna in nodes[n]]) for n in nodenums]\n",
    "to_show['Flag % This Season'] = 1 - np.array(to_show['Unflagged Antenna-Days This Season']) / np.array(to_show['Total Antenna-Days This Season'])\n",
    "\n",
    "to_show['Total Antenna-Days This Week'] = [np.sum([jd in antenna.total_flags for antenna in nodes[n] for jd in jds[0:min(len(jds), 7)]]) for n in nodenums]\n",
    "to_show['Unflagged Antenna-Days This Week'] = [np.sum([antenna.unflagged_days(jds[0:min(len(jds), 7)]) for antenna in nodes[n]]) for n in nodenums]\n",
    "to_show['Flag % This Week'] = 1 - np.array(to_show['Unflagged Antenna-Days This Week']) / np.array(to_show['Total Antenna-Days This Week'])\n",
    "\n",
    "jd_links = []\n",
    "for jd in jds:\n",
    "    jd_links.append(f'<a href=\"{jd_to_summary_url(jd)}\">{jd}</a>')\n",
    "    to_show[jd_links[-1]] = [np.nansum([antenna.total_flags[jd] if jd in antenna.total_flags else np.nan for antenna in nodes[n]]) / \n",
    "                             np.sum([jd in antenna.total_flags for antenna in nodes[n]]) for n in nodenums]\n",
    "df = pd.DataFrame(to_show)\n",
    "table = df.style.hide_index() \\\n",
    "          .format('{:,.0%}', na_rep='-', subset=jd_links + ['Flag % This Season', 'Flag % This Week'] ) \\\n",
    "          .format('{:,.1f}', na_rep='-', subset=['Unflagged Antenna-Days This Season', 'Unflagged Antenna-Days This Week'] ) \\\n",
    "          .background_gradient(cmap='plasma', vmax=1, vmin=0, axis=None, subset=jd_links) \\\n",
    "          .bar(subset=['Flag % This Season', 'Flag % This Week'], vmin=0, vmax=1) \n",
    "\n",
    "          "
   ]
  },
  {
   "cell_type": "markdown",
   "id": "7dcb0419",
   "metadata": {},
   "source": [
    "# Table 3: Per-Node, Per-Night Flagging\n",
    "\n",
    "This table summarizes flagging by node, showing how many antennas are in the data from each node, how many antenna-days were observed in each node, and how many of them were unflagged (both for the whole season and the last 7 nights)."
   ]
  },
  {
   "cell_type": "code",
   "execution_count": null,
   "id": "16fcc92e",
   "metadata": {
    "ExecuteTime": {
     "end_time": "2022-01-04T20:14:39.238995Z",
     "start_time": "2022-01-04T20:14:39.156641Z"
    },
    "scrolled": false
   },
   "outputs": [],
   "source": [
    "HTML(table.render(render_links=True, escape=False))"
   ]
  },
  {
   "cell_type": "code",
   "execution_count": null,
   "id": "9ec045f6",
   "metadata": {},
   "outputs": [],
   "source": []
  }
 ],
 "metadata": {
  "kernelspec": {
   "display_name": "Python 3 (ipykernel)",
   "language": "python",
   "name": "python3"
  },
  "language_info": {
   "codemirror_mode": {
    "name": "ipython",
    "version": 3
   },
   "file_extension": ".py",
   "mimetype": "text/x-python",
   "name": "python",
   "nbconvert_exporter": "python",
   "pygments_lexer": "ipython3",
   "version": "3.10.0"
  },
  "toc": {
   "base_numbering": 1,
   "nav_menu": {},
   "number_sections": false,
   "sideBar": true,
   "skip_h1_title": false,
   "title_cell": "Table of Contents",
   "title_sidebar": "Contents",
   "toc_cell": false,
   "toc_position": {},
   "toc_section_display": true,
   "toc_window_display": false
  }
 },
 "nbformat": 4,
 "nbformat_minor": 5
}
