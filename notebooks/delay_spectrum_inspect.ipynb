{
 "cells": [
  {
   "cell_type": "code",
   "execution_count": null,
   "metadata": {
    "scrolled": false
   },
   "outputs": [],
   "source": [
    "import matplotlib\n",
    "import matplotlib.pyplot as plt\n",
    "from matplotlib.ticker import FormatStrFormatter\n",
    "import matplotlib.patches as mpatches\n",
    "import matplotlib.gridspec as gridspec\n",
    "import numpy as np\n",
    "from pyuvdata import UVCal, UVData, UVFlag\n",
    "import pyuvdata\n",
    "import os\n",
    "import sys\n",
    "import glob\n",
    "import uvtools as uvt\n",
    "from astropy.time import Time\n",
    "from astropy.coordinates import EarthLocation, SkyCoord, AltAz, Angle\n",
    "import pandas\n",
    "import warnings \n",
    "import copy\n",
    "from hera_notebook_templates import utils\n",
    "import hera_qm\n",
    "from hera_mc import cm_hookup\n",
    "import h5py\n",
    "import importlib\n",
    "from scipy import stats\n",
    "import scipy\n",
    "#warnings.filterwarnings('ignore')\n",
    "\n",
    "%matplotlib inline\n",
    "%config InlineBackend.figure_format = 'retina'\n"
   ]
  },
  {
   "cell_type": "code",
   "execution_count": null,
   "metadata": {
    "scrolled": false
   },
   "outputs": [],
   "source": [
    "#get data location\n",
    "JD = os.environ['JULIANDATE']\n",
    "data_path = os.environ['DATA_PATH']\n",
    "html_outfile = os.environ['HTML_OUTFILE']\n",
    "utc = Time(JD, format='jd').datetime\n",
    "print(f'JD = {JD}')\n",
    "print(f'Date = {utc.month}-{utc.day}-{utc.year}')\n",
    "print(f'data_path = \"{data_path}\"')"
   ]
  },
  {
   "cell_type": "code",
   "execution_count": null,
   "metadata": {
    "scrolled": true
   },
   "outputs": [],
   "source": [
    "# Load in data\n",
    "HHfiles, difffiles, HHautos, diffautos, uvdx, uvdy = utils.load_data(data_path,JD)\n",
    "    \n",
    "uvd = UVData()\n",
    "uvd_diff = UVData()\n",
    "unread = True\n",
    "i=0\n",
    "while unread and i<len(HHautos):\n",
    "    try:\n",
    "        uvd.read(HHautos[i])\n",
    "        unread = False\n",
    "    except:\n",
    "        i += 1\n",
    "        continue\n",
    "use_ants = [int(ant) for ant in uvd.get_ants()]\n",
    "bls = [(ant, ant) for ant in use_ants]\n",
    "uvd.read(HHfiles[::10], skip_bad_files=True, bls=bls)\n",
    "uvd_diff.read(difffiles[::10], skip_bad_files=True, bls=bls)\n",
    "lsts = uvd.lst_array\n",
    "\n",
    "flagfile = glob.glob(os.path.join(HHfiles[0].split('zen')[0],'zen.{}*total_stage_1_threshold_flags.h5'.format(JD)))\n",
    "uvf = UVFlag()\n",
    "uvf.read(flagfile)\n",
    "bls = [(ant, ant) for ant in uvd.get_ants()]\n",
    "times_uvf = np.unique(uvf.time_array)\n",
    "times_uvd = np.unique(uvd.time_array)\n",
    "idx_times = [np.where(time_uvd == times_uvf)[0][0] for time_uvd in times_uvd]\n",
    "uvd.flag_array[:,0,:,:] = np.repeat(uvf.flag_array[idx_times], len(bls), axis=0)"
   ]
  },
  {
   "cell_type": "markdown",
   "metadata": {},
   "source": [
    "## LST Coverage"
   ]
  },
  {
   "cell_type": "markdown",
   "metadata": {},
   "source": [
    "Shows the LSTs (in hours) and JDs for which data is collected. Green represents data, red means no data."
   ]
  },
  {
   "cell_type": "code",
   "execution_count": null,
   "metadata": {
    "scrolled": false
   },
   "outputs": [],
   "source": [
    "utils.plot_lst_coverage(uvd)"
   ]
  },
  {
   "cell_type": "markdown",
   "metadata": {},
   "source": [
    "## Delay spectrum"
   ]
  },
  {
   "cell_type": "markdown",
   "metadata": {},
   "source": [
    "Delay spectrum CLEANed using uvtools.dspec.high_pass_fourier_filter with 7th-order Blackman-Harris window function. Odd/even visibilities are used to remove noise bias."
   ]
  },
  {
   "cell_type": "code",
   "execution_count": null,
   "metadata": {
    "scrolled": true
   },
   "outputs": [],
   "source": [
    "_data_cleaned_sq, d_even, d_odd = utils.clean_ds(bls, uvd, uvd_diff)"
   ]
  },
  {
   "cell_type": "markdown",
   "metadata": {},
   "source": [
    "## Waterfalls of delay spectra for autocorrelation"
   ]
  },
  {
   "cell_type": "markdown",
   "metadata": {},
   "source": [
    "These plots show autocorrelation delay spectrum waterfalls of each antenna that is active and whose status qualifies for this notebook. For each node, antennas are ordered by SNAP number, and within that by SNAP input number. The antenna number label color corresponds to the a priori status of that antenna."
   ]
  },
  {
   "cell_type": "markdown",
   "metadata": {},
   "source": [
    "### nn polarization"
   ]
  },
  {
   "cell_type": "code",
   "execution_count": null,
   "metadata": {
    "scrolled": false
   },
   "outputs": [],
   "source": [
    "utils.plot_wfds(uvd, _data_cleaned_sq, 0)"
   ]
  },
  {
   "cell_type": "markdown",
   "metadata": {},
   "source": [
    "### ee polarization"
   ]
  },
  {
   "cell_type": "code",
   "execution_count": null,
   "metadata": {
    "scrolled": false
   },
   "outputs": [],
   "source": [
    "utils.plot_wfds(uvd, _data_cleaned_sq, 1)"
   ]
  },
  {
   "cell_type": "markdown",
   "metadata": {},
   "source": [
    "### ne polarization"
   ]
  },
  {
   "cell_type": "code",
   "execution_count": null,
   "metadata": {
    "scrolled": false
   },
   "outputs": [],
   "source": [
    "utils.plot_wfds(uvd, _data_cleaned_sq, 2)"
   ]
  },
  {
   "cell_type": "markdown",
   "metadata": {},
   "source": [
    "### en polarization"
   ]
  },
  {
   "cell_type": "code",
   "execution_count": null,
   "metadata": {
    "scrolled": false
   },
   "outputs": [],
   "source": [
    "utils.plot_wfds(uvd, _data_cleaned_sq, 3)"
   ]
  },
  {
   "cell_type": "markdown",
   "metadata": {},
   "source": [
    "### Analysis of 2700ns features in delay spectra"
   ]
  },
  {
   "cell_type": "markdown",
   "metadata": {},
   "source": [
    "This plot shows the relative amplitude at 2700 ns feature. The relative amplitude is calculated in dB with the mean amplitude at 2500-3000 ns compared to the mean amplitude at 2000-2500 ns. Larger values of relative feature amplitude indicate higher probability of detecting the peak at 2700 ns. Antennas in the same node are grouped by the shaded region."
   ]
  },
  {
   "cell_type": "code",
   "execution_count": null,
   "metadata": {
    "scrolled": false
   },
   "outputs": [],
   "source": [
    "utils.plot_antFeatureMap_2700ns(uvd, _data_cleaned_sq, JD, pol='nn')"
   ]
  },
  {
   "cell_type": "code",
   "execution_count": null,
   "metadata": {},
   "outputs": [],
   "source": [
    "utils.plot_antFeatureMap_2700ns(uvd, _data_cleaned_sq, JD, pol='ee')"
   ]
  },
  {
   "cell_type": "markdown",
   "metadata": {},
   "source": [
    "This plot shows a matrix representing the 2700ns feature correlation of each baseline. The color bar indicates the amplitude of 2700ns (mean amplitude of 2500-3000ns delay spectrum) in dB which is the same as that in the above plot."
   ]
  },
  {
   "cell_type": "code",
   "execution_count": null,
   "metadata": {
    "scrolled": false
   },
   "outputs": [],
   "source": [
    "utils.CorrMatrix_2700ns(uvd, HHfiles, difffiles, flagfile, JD)"
   ]
  },
  {
   "cell_type": "markdown",
   "metadata": {},
   "source": [
    "This plot shows the ratio of delay spectrum to noise floor (averaged over 1000-4000ns). Near 1 indicates the delay spectrum reaches to the noise floor, which may mean good."
   ]
  },
  {
   "cell_type": "markdown",
   "metadata": {},
   "source": [
    "### Analysis of noise floor in delay spectra"
   ]
  },
  {
   "cell_type": "code",
   "execution_count": null,
   "metadata": {},
   "outputs": [],
   "source": [
    "utils.plot_antFeatureMap_noise(uvd_diff, d_even, d_odd, JD, pol='nn')"
   ]
  },
  {
   "cell_type": "code",
   "execution_count": null,
   "metadata": {},
   "outputs": [],
   "source": [
    "utils.plot_antFeatureMap_noise(uvd_diff, d_even, d_odd, JD, pol='ee')"
   ]
  },
  {
   "cell_type": "markdown",
   "metadata": {},
   "source": [
    "## HTML file for delay spectrum and autocorrelation plot is provided separately in the same directory"
   ]
  },
  {
   "cell_type": "markdown",
   "metadata": {},
   "source": [
    "An HTML file which includes time-averaged delay spectra and autocorrelations for each antenna/pol is made in the directory of this notebook. Here is an explanation for the plots:\n",
    "\n",
    "Left panel: time averaged delay spectum of autocorrelation (blue) and noise from diff file representing the expected variance of the delay spectrum (red)\n",
    "    \n",
    "Right panel: time averaged autocorrelations w/o (orange) and w/ xRFI flags (blue). Flagged one is shifted from the unflagged one for clarity"
   ]
  },
  {
   "cell_type": "code",
   "execution_count": null,
   "metadata": {},
   "outputs": [],
   "source": [
    "utils.make_html_dspec(html_outfile, bls, uvd, uvd_diff, JD)"
   ]
  },
  {
   "cell_type": "code",
   "execution_count": null,
   "metadata": {},
   "outputs": [],
   "source": []
  }
 ],
 "metadata": {
  "kernelspec": {
   "display_name": "Python 3",
   "language": "python",
   "name": "python3"
  },
  "language_info": {
   "codemirror_mode": {
    "name": "ipython",
    "version": 3
   },
   "file_extension": ".py",
   "mimetype": "text/x-python",
   "name": "python",
   "nbconvert_exporter": "python",
   "pygments_lexer": "ipython3",
   "version": "3.6.6"
  },
  "toc": {
   "base_numbering": 1,
   "nav_menu": {},
   "number_sections": true,
   "sideBar": true,
   "skip_h1_title": false,
   "title_cell": "Table of Contents",
   "title_sidebar": "Contents",
   "toc_cell": false,
   "toc_position": {},
   "toc_section_display": true,
   "toc_window_display": false
  }
 },
 "nbformat": 4,
 "nbformat_minor": 2
}
