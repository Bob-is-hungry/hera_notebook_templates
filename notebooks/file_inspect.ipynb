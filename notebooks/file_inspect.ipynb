{
 "cells": [
  {
   "cell_type": "markdown",
   "id": "504e14fa",
   "metadata": {},
   "source": [
    "# File Inspection (Experimental)\n",
    "\n",
    "**by Josh Dillon, Tyler Cox, and Aaron Parsons**, last updated August 29, 2022"
   ]
  },
  {
   "cell_type": "code",
   "execution_count": null,
   "id": "668f7418",
   "metadata": {},
   "outputs": [],
   "source": [
    "import numpy as np\n",
    "import os\n",
    "import copy\n",
    "import matplotlib\n",
    "import matplotlib.pyplot as plt\n",
    "from uvtools.plot import plot_antpos, plot_antclass\n",
    "from hera_qm import ant_metrics, ant_class\n",
    "from hera_cal import io, utils, redcal, apply_cal, datacontainer\n",
    "from IPython.display import display, HTML\n",
    "import linsolve\n",
    "display(HTML(\"<style>.container { width:100% !important; }</style>\"))\n",
    "_ = np.seterr(all='ignore')  # get rid of red warnings"
   ]
  },
  {
   "cell_type": "markdown",
   "id": "ab0f8167",
   "metadata": {},
   "source": [
    "## Parse inputs\n",
    "\n",
    "To use this notebook interactively, you will have to provide a sum filename path if none exists as an environment variable. All other parameters have reasonable default values.\n"
   ]
  },
  {
   "cell_type": "code",
   "execution_count": null,
   "id": "4b88cc02",
   "metadata": {},
   "outputs": [],
   "source": [
    "# get file names\n",
    "SUM_FILE = os.environ.get(\"SUM_FILE\", None)\n",
    "# SUM_FILE = '/mnt/sn1/zen.2459797.30001.sum.uvh5'  # If sum_file is not defined in the environment variables, define it here.\n",
    "DIFF_FILE = SUM_FILE.replace('sum', 'diff')\n",
    "PLOT = os.environ.get(\"PLOT\", \"TRUE\").upper() == \"TRUE\"\n",
    "if PLOT:\n",
    "    %matplotlib inline\n",
    "print(f\"SUM_FILE = '{SUM_FILE}'\")"
   ]
  },
  {
   "cell_type": "markdown",
   "id": "95b94b22",
   "metadata": {},
   "source": [
    "### Parse settings"
   ]
  },
  {
   "cell_type": "code",
   "execution_count": null,
   "id": "b33e91d4",
   "metadata": {},
   "outputs": [],
   "source": [
    "# parse plotting settings\n",
    "PLOT = os.environ.get(\"PLOT\", True)\n",
    "if PLOT:\n",
    "    %matplotlib inline\n",
    "\n",
    "# parse omnical settings\n",
    "OC_MAX_DIMS = int(os.environ.get(\"OC_MAX_DIMS\", 4))\n",
    "OC_MAX_RERUN = int(os.environ.get(\"OC_MAX_RERUN\", 4))\n",
    "OC_MAXITER = int(os.environ.get(\"OC_MAXITER\", 100))\n",
    "\n",
    "# print settings\n",
    "for setting in ['PLOT', 'OC_MAX_DIMS', 'OC_MAX_RERUN', 'OC_MAXITER']:\n",
    "    print(f'{setting} = {eval(setting)}')"
   ]
  },
  {
   "cell_type": "markdown",
   "id": "5596c041",
   "metadata": {},
   "source": [
    "### Parse Bounds"
   ]
  },
  {
   "cell_type": "code",
   "execution_count": null,
   "id": "9ebbfd85",
   "metadata": {},
   "outputs": [],
   "source": [
    "# ant_metrics bounds for low correlation / dead antennas\n",
    "AM_CORR_BAD = float(os.environ.get(\"AM_CORR_BAD\", 0.3))\n",
    "AM_CORR_SUSPECT = float(os.environ.get(\"AM_CORR_SUSPECT\", 0.5))\n",
    "am_corr_bad = (0, AM_CORR_BAD)\n",
    "am_corr_suspect = (AM_CORR_BAD, AM_CORR_SUSPECT)\n",
    "\n",
    "# ant_metrics bounds for cross-polarized antennas\n",
    "AM_XPOL_BAD = float(os.environ.get(\"AM_XPOL_BAD\", -0.1))\n",
    "AM_XPOL_SUSPECT = float(os.environ.get(\"AM_XPOL_SUSPECT\", 0))\n",
    "am_xpol_bad = (-1, AM_XPOL_BAD)\n",
    "am_xpol_suspect = (AM_XPOL_BAD, AM_XPOL_SUSPECT)\n",
    "\n",
    "# bounds on autocorrelation power\n",
    "AUTO_POWER_GOOD_LOW = float(os.environ.get(\"AUTO_POWER_GOOD_LOW\", 5))\n",
    "AUTO_POWER_GOOD_HIGH = float(os.environ.get(\"AUTO_POWER_GOOD_HIGH\", 30))\n",
    "auto_power_good = (AUTO_POWER_GOOD_LOW, AUTO_POWER_GOOD_HIGH)\n",
    "AUTO_POWER_SUSPECT_LOW = float(os.environ.get(\"AUTO_POWER_SUSPECT_LOW\", 1))\n",
    "AUTO_POWER_SUSPECT_HIGH = float(os.environ.get(\"AUTO_POWER_SUSPECT_HIGH\", 80))\n",
    "auto_power_suspect = (AUTO_POWER_SUSPECT_LOW, AUTO_POWER_SUSPECT_HIGH)\n",
    "\n",
    "# bounds on autocorrelation slope\n",
    "AUTO_SLOPE_GOOD_LOW = float(os.environ.get(\"AUTO_SLOPE_GOOD_LOW\", -0.2))\n",
    "AUTO_SLOPE_GOOD_HIGH = float(os.environ.get(\"AUTO_SLOPE_GOOD_HIGH\", 0.2))\n",
    "auto_slope_good = (AUTO_SLOPE_GOOD_LOW, AUTO_SLOPE_GOOD_HIGH)\n",
    "AUTO_SLOPE_SUSPECT_LOW = float(os.environ.get(\"AUTO_SLOPE_SUSPECT_LOW\", -0.4))\n",
    "AUTO_SLOPE_SUSPECT_HIGH = float(os.environ.get(\"AUTO_SLOPE_SUSPECT_HIGH\", 0.4))\n",
    "auto_slope_suspect = (AUTO_SLOPE_SUSPECT_LOW, AUTO_SLOPE_SUSPECT_HIGH)\n",
    "\n",
    "# bounds on chi^2 per antenna in omnical\n",
    "OC_CSPA_GOOD = float(os.environ.get(\"OC_CSPA_GOOD\", 3))\n",
    "OC_CSPA_SUSPECT = float(os.environ.get(\"OC_CSPA_SUSPECT\", 4))\n",
    "oc_cspa_good = (0, OC_CSPA_GOOD)\n",
    "oc_cspa_suspect = (OC_CSPA_GOOD, OC_CSPA_SUSPECT)\n",
    "\n",
    "# print bounds\n",
    "for bound in ['am_corr_bad', 'am_corr_suspect', 'am_xpol_bad', 'am_xpol_suspect', \n",
    "             'auto_power_good', 'auto_power_suspect', 'auto_slope_good', 'auto_slope_suspect',\n",
    "             'oc_cspa_good', 'oc_cspa_suspect']:\n",
    "    print(f'{bound} = {eval(bound)}')"
   ]
  },
  {
   "cell_type": "markdown",
   "id": "105dc915",
   "metadata": {},
   "source": [
    "## Load sum and diff data"
   ]
  },
  {
   "cell_type": "code",
   "execution_count": null,
   "id": "e5d3725b",
   "metadata": {},
   "outputs": [],
   "source": [
    "hd = io.HERADataFastReader(SUM_FILE)\n",
    "data, _, _ = hd.read(read_flags=False, read_nsamples=False)\n",
    "hd_diff = io.HERADataFastReader(DIFF_FILE)\n",
    "diff_data, _, _ = hd_diff.read(read_flags=False, read_nsamples=False)"
   ]
  },
  {
   "cell_type": "code",
   "execution_count": null,
   "id": "61f26bc2",
   "metadata": {},
   "outputs": [],
   "source": [
    "ants = sorted(set([ant for bl in hd.bls for ant in utils.split_bl(bl)]))\n",
    "auto_bls = [bl for bl in data if (bl[0] == bl[1]) and (utils.split_pol(bl[2])[0] == utils.split_pol(bl[2])[1])]\n",
    "antpols = sorted(set([ant[1] for ant in ants]))"
   ]
  },
  {
   "cell_type": "code",
   "execution_count": null,
   "id": "e945a0ec",
   "metadata": {
    "scrolled": true
   },
   "outputs": [],
   "source": [
    "print(f'File: {SUM_FILE}')\n",
    "print(f'JDs: {hd.times} ({np.median(np.diff(hd.times)) * 24 * 3600:.5f} s integrations)')\n",
    "print(f'LSTS: {hd.lsts * 12 / np.pi } hours')\n",
    "print(f'Frequencies: {len(hd.freqs)} {np.median(np.diff(hd.freqs)) / 1e6:.5f} MHz channels from {hd.freqs[0] / 1e6:.5f} to {hd.freqs[-1] / 1e6:.5f} MHz')\n",
    "print(f'Antennas: {len(hd.data_ants)}')\n",
    "print(f'Polarizations: {hd.pols}')"
   ]
  },
  {
   "cell_type": "markdown",
   "id": "39affb12",
   "metadata": {},
   "source": [
    "## Find good, suspect, and bad antpols"
   ]
  },
  {
   "cell_type": "markdown",
   "id": "f0450fb4",
   "metadata": {},
   "source": [
    "### Run `ant_metrics`"
   ]
  },
  {
   "cell_type": "code",
   "execution_count": null,
   "id": "4bbb0ac4",
   "metadata": {},
   "outputs": [],
   "source": [
    "am = ant_metrics.AntennaMetrics(SUM_FILE, DIFF_FILE, sum_data=data, diff_data=diff_data)\n",
    "am.iterative_antenna_metrics_and_flagging(crossCut=am_xpol_bad[1], deadCut=am_corr_bad[1])"
   ]
  },
  {
   "cell_type": "code",
   "execution_count": null,
   "id": "d8e52c30",
   "metadata": {
    "code_folding": []
   },
   "outputs": [],
   "source": [
    "totally_dead_ants = [ant for ant, i in am.removal_iteration.items() if i == -1]\n",
    "am_totally_dead = ant_class.AntennaClassification(good=[ant for ant in ants if ant not in totally_dead_ants], bad=totally_dead_ants)\n",
    "am_corr = ant_class.antenna_bounds_checker(am.final_metrics['corr'], bad=[am_corr_bad], suspect=[am_corr_suspect], good=[(0, 1)])\n",
    "am_xpol = ant_class.antenna_bounds_checker(am.final_metrics['corrXPol'], bad=[am_xpol_bad], suspect=[am_xpol_suspect], good=[(-1, 1)])\n",
    "ant_metrics_class = am_totally_dead + am_corr + am_xpol\n",
    "print('ant_metrics Classification:\\n\\n', ant_metrics_class)"
   ]
  },
  {
   "cell_type": "markdown",
   "id": "102587ce",
   "metadata": {},
   "source": [
    "### Examine and classify autocorrelations"
   ]
  },
  {
   "cell_type": "code",
   "execution_count": null,
   "id": "bca07198",
   "metadata": {},
   "outputs": [],
   "source": [
    "auto_power_class = ant_class.auto_power_checker(data, good=auto_power_good, suspect=auto_power_suspect)\n",
    "auto_slope_class = ant_class.auto_slope_checker(data, good=auto_slope_good, suspect=auto_slope_suspect, edge_cut=100, filt_size=17)\n",
    "auto_class = auto_power_class + auto_slope_class\n",
    "print('Autocorrelation Classification:\\n\\n', auto_class)"
   ]
  },
  {
   "cell_type": "code",
   "execution_count": null,
   "id": "ae2e2234",
   "metadata": {
    "scrolled": false
   },
   "outputs": [],
   "source": [
    "if PLOT:\n",
    "    fig, axes = plt.subplots(1, 2, figsize=(12, 4), dpi=100, sharey=True, gridspec_kw={'wspace': 0})\n",
    "    labels = []\n",
    "    colors = ['darkgreen', 'goldenrod', 'maroon']\n",
    "    for ax, pol in zip(axes, antpols):\n",
    "        for ant in auto_class.ants:\n",
    "            if ant[1] == pol:\n",
    "                color = colors[auto_class.quality_classes.index(auto_class[ant])]\n",
    "#                 ax.semilogy(hd.freqs / 1e6, np.mean(data[utils.join_bl(ant, ant)], axis=0), color=color, lw=.5)\n",
    "                ax.semilogy(np.mean(data[utils.join_bl(ant, ant)], axis=0), color=color, lw=.5)\n",
    "#         ax.set_xlabel('Frequency (MHz)', fontsize=12)\n",
    "        ax.set_xlabel('Channel', fontsize=12)\n",
    "\n",
    "    axes[0].set_ylabel('Raw Autocorrelation', fontsize=12)\n",
    "    axes[1].legend([matplotlib.lines.Line2D([0], [0], color=color) for color in colors], \n",
    "                   [cls.capitalize() for cls in auto_class.quality_classes], ncol=1, fontsize=12, loc='upper right', framealpha=1)\n",
    "    plt.tight_layout()"
   ]
  },
  {
   "cell_type": "markdown",
   "id": "db39e3a6",
   "metadata": {},
   "source": [
    "### TODO: Filter antennas based on excess RFI"
   ]
  },
  {
   "cell_type": "code",
   "execution_count": null,
   "id": "d5abbbba",
   "metadata": {},
   "outputs": [],
   "source": [
    "# rfi_class = "
   ]
  },
  {
   "cell_type": "markdown",
   "id": "b8d42f45",
   "metadata": {},
   "source": [
    "### Show antenna classification summary array plot"
   ]
  },
  {
   "cell_type": "code",
   "execution_count": null,
   "id": "afd5cdcc",
   "metadata": {},
   "outputs": [],
   "source": [
    "final_class = auto_class + ant_metrics_class #+ rfi_class\n",
    "if PLOT:\n",
    "    fig, axes = plt.subplots(1, 2, figsize=(12, 6), dpi=100, gridspec_kw={'width_ratios': [2, 1]})\n",
    "    plot_antclass(hd.antpos, final_class, ax=axes[0], ants=[ant for ant in hd.data_ants if ant < 320], legend=False, title='HERA Core')\n",
    "    plot_antclass(hd.antpos, final_class, ax=axes[1], ants=[ant for ant in hd.data_ants if ant >= 320], radius=50, title='Outriggers')"
   ]
  },
  {
   "cell_type": "markdown",
   "id": "8da7a6c3",
   "metadata": {},
   "source": [
    "## Redcal\n",
    "\n",
    "TODO: \n",
    "* integrate RFI-based firstcal \n",
    "* try running both polarizations simultaneously\n",
    "* try using previous solutions to refine future ones to improve speed\n",
    "* simplify below code with new solutions class\n",
    "* perform approximate amplitude abscal based on autocorrelations"
   ]
  },
  {
   "cell_type": "code",
   "execution_count": null,
   "id": "7c374333",
   "metadata": {},
   "outputs": [],
   "source": [
    "rc_settings = {'fc_conv_crit': 1e-6, 'fc_maxiter': 1, 'fc_min_vis_per_ant': 10, 'max_dims': OC_MAX_DIMS,\n",
    "               'oc_conv_crit': 1e-10, 'oc_maxiter': OC_MAXITER, 'check_after': OC_MAXITER, 'gain': 0.4}\n",
    "\n",
    "def redcal_pol(pol):\n",
    "    reds = redcal.get_reds(hd.data_antpos, pols=[pol], pol_mode='1pol')\n",
    "    reds = sorted(redcal.filter_reds(reds, ex_ants=final_class.bad_ants, max_dims=OC_MAX_DIMS), key=len, reverse=True)\n",
    "    ants_in_reds = set([ant for red in reds for bl in red for ant in utils.split_bl(bl)])\n",
    "    \n",
    "    on_grid = good=[ant for ant in final_class if ant in ants_in_reds and utils.join_pol(ant[1], ant[1]) == pol]\n",
    "    off_grid = good=[ant for ant in final_class if ant not in ants_in_reds and utils.join_pol(ant[1], ant[1]) == pol]    \n",
    "    redcal_class = ant_class.AntennaClassification(good=on_grid, bad=off_grid)\n",
    "    \n",
    "    cal0 = redcal.redundantly_calibrate(data, reds, **rc_settings)\n",
    "    med_cspa = {ant: np.median(cal0['chisq_per_ant'][ant]) for ant in ants_in_reds}\n",
    "    cspa_class = ant_class.antenna_bounds_checker(med_cspa, good=np.array(oc_cspa_good)*2, suspect=np.array(oc_cspa_suspect)*2, bad=(0, np.inf))\n",
    "    redcal_class += cspa_class\n",
    "    \n",
    "    for i in range(OC_MAX_RERUN):    \n",
    "        reds = sorted(redcal.filter_reds(reds, ex_ants=(final_class + redcal_class).bad_ants, max_dims=OC_MAX_DIMS), key=len, reverse=True)\n",
    "        ants_in_reds = set([ant for red in reds for bl in red for ant in utils.split_bl(bl)])\n",
    "        cal = redcal.redundantly_calibrate(data, reds, **rc_settings)\n",
    "        med_cspa = {ant: np.median(cal['chisq_per_ant'][ant]) for ant in ants_in_reds}\n",
    "        cspa_class = ant_class.antenna_bounds_checker(med_cspa, good=oc_cspa_good, suspect=oc_cspa_suspect, bad=(0, np.inf))    \n",
    "        redcal_class += cspa_class\n",
    "        if len(cspa_class.bad_ants) == 0:\n",
    "            return cal, redcal_class\n",
    "        \n",
    "cal_ee, redcal_class_ee = redcal_pol('ee')\n",
    "cal_nn, redcal_class_nn = redcal_pol('nn')\n",
    "print(redcal_class_ee + redcal_class_nn)\n",
    "final_class += redcal_class_ee + redcal_class_nn"
   ]
  },
  {
   "cell_type": "code",
   "execution_count": null,
   "id": "8acda9b7",
   "metadata": {},
   "outputs": [],
   "source": [
    "def expand_cal(cal, pol):\n",
    "    cal2 = copy.deepcopy(cal)\n",
    "    all_reds = redcal.get_reds(hd.data_antpos, pols=[pol], pol_mode='1pol')\n",
    "    all_reds = sorted(redcal.filter_reds(all_reds, ex_ants=(auto_class + ant_metrics_class).bad_ants, max_dims=OC_MAX_DIMS), key=len, reverse=True)\n",
    "    nsamples = datacontainer.DataContainer({bl: np.ones_like(data[bl], dtype=float) for bl in data})\n",
    "    redcal.expand_omni_sol(cal2, all_reds, data, nsamples)\n",
    "    return cal2\n",
    "cal_ee_expanded = expand_cal(cal_ee, 'ee')\n",
    "cal_nn_expanded = expand_cal(cal_nn, 'nn')"
   ]
  },
  {
   "cell_type": "code",
   "execution_count": null,
   "id": "71794bca",
   "metadata": {},
   "outputs": [],
   "source": [
    "if PLOT:\n",
    "    rc_data = copy.deepcopy(data)\n",
    "    apply_cal.calibrate_in_place(rc_data, {**cal_ee['g_omnical'], **cal_nn['g_omnical']})\n",
    "    \n",
    "    fig, axes = plt.subplots(2, 2, figsize=(12, 6), dpi=100, sharex='col', sharey='row', gridspec_kw={'hspace': 0, 'wspace': 0})\n",
    "    for i, (pol, cal) in enumerate(zip(['ee', 'nn'], [cal_ee, cal_nn])):\n",
    "        reds_here = redcal.get_reds(hd.data_antpos, pols=[pol], pol_mode='1pol')\n",
    "        red = sorted(redcal.filter_reds(reds_here, ex_ants=final_class.bad_ants), key=len, reverse=True)[0]\n",
    "        for bl in red:\n",
    "            axes[0, i].plot(hd.freqs/1e6, np.angle(np.mean(rc_data[bl], axis=0)), alpha=.5, lw=.5)\n",
    "            axes[1, i].semilogy(hd.freqs/1e6, np.abs(np.mean(rc_data[bl], axis=0)), alpha=.5, lw=.5)\n",
    "        axes[0, i].plot(hd.freqs / 1e6, np.angle(np.mean(cal['v_omnical'][red[0]], axis=0)), lw=2, c='k')\n",
    "        axes[1, i].semilogy(hd.freqs / 1e6, np.abs(np.mean(cal['v_omnical'][red[0]], axis=0)), lw=2, c='k', label=f'Baseline Group:\\n{red[0]}')\n",
    "\n",
    "        axes[1, i].set_xlabel('Frequency (MHz)')\n",
    "        axes[1, i].legend(loc='upper right')\n",
    "    axes[0, 0].set_ylabel('Visibility Phase')\n",
    "    axes[1, 0].set_ylabel('Visibility Amplitude')\n",
    "    plt.tight_layout()"
   ]
  },
  {
   "cell_type": "code",
   "execution_count": null,
   "id": "12b2cedd",
   "metadata": {},
   "outputs": [],
   "source": [
    "if PLOT:\n",
    "    fig, axes = plt.subplots(1, 2, figsize=(12, 4), dpi=100)\n",
    "    for ax, pol, cal in zip(axes, ['ee', 'nn'], [cal_ee_expanded, cal_nn_expanded]):\n",
    "        ants = set([ant for ant in cal['chisq_per_ant']])\n",
    "        cspas = [np.median(cal['chisq_per_ant'][ant]) for ant in ants]\n",
    "        xpos = [hd.antpos[ant[0]][0] for ant in ants]\n",
    "        ypos = [hd.antpos[ant[0]][1] for ant in ants]\n",
    "        scatter = ax.scatter(xpos, ypos, s=250, c=cspas, norm=matplotlib.colors.LogNorm(vmin=1, vmax=10))\n",
    "        for ant in ants:\n",
    "            ax.text(hd.antpos[ant[0]][0], hd.antpos[ant[0]][1], ant[0], va='center', ha='center', fontsize=9,\n",
    "                    c=('r' if ant in final_class.bad_ants else 'w'))\n",
    "        plt.colorbar(scatter, ax=ax, extend='both')\n",
    "        ax.axis('equal')\n",
    "        ax.set_xlabel('East-West Position (meters)')\n",
    "        ax.set_ylabel('North-South Position (meters)')\n",
    "        ax.set_title(f'{pol}-pol $\\\\chi^2$ / Antenna (Red is Flagged)')\n",
    "    plt.tight_layout()"
   ]
  },
  {
   "cell_type": "code",
   "execution_count": null,
   "id": "d8213b69",
   "metadata": {},
   "outputs": [],
   "source": [
    "if PLOT:\n",
    "    fig, axes = plt.subplots(1, 2, figsize=(12, 6), dpi=100, gridspec_kw={'width_ratios': [2, 1]})\n",
    "    plot_antclass(hd.antpos, final_class, ax=axes[0], ants=[ant for ant in hd.data_ants if ant < 320], legend=False, title='HERA Core, Post-Redcal')\n",
    "    plot_antclass(hd.antpos, final_class, ax=axes[1], ants=[ant for ant in hd.data_ants if ant >= 320], radius=50, title='Outriggers')"
   ]
  },
  {
   "cell_type": "markdown",
   "id": "f52a30f9",
   "metadata": {},
   "source": [
    "## Metadata"
   ]
  },
  {
   "cell_type": "code",
   "execution_count": null,
   "id": "78d18d26",
   "metadata": {},
   "outputs": [],
   "source": [
    "from hera_cal import __version__\n",
    "print('hera_cal:', __version__)\n",
    "from hera_qm import __version__\n",
    "print('hera_qm:', __version__)"
   ]
  }
 ],
 "metadata": {
  "kernelspec": {
   "display_name": "Python 3 (ipykernel)",
   "language": "python",
   "name": "python3"
  },
  "language_info": {
   "codemirror_mode": {
    "name": "ipython",
    "version": 3
   },
   "file_extension": ".py",
   "mimetype": "text/x-python",
   "name": "python",
   "nbconvert_exporter": "python",
   "pygments_lexer": "ipython3",
   "version": "3.10.5"
  },
  "toc": {
   "base_numbering": 1,
   "nav_menu": {},
   "number_sections": true,
   "sideBar": true,
   "skip_h1_title": true,
   "title_cell": "Table of Contents",
   "title_sidebar": "Contents",
   "toc_cell": false,
   "toc_position": {
    "height": "calc(100% - 180px)",
    "left": "10px",
    "top": "150px",
    "width": "248.391px"
   },
   "toc_section_display": true,
   "toc_window_display": false
  },
  "widgets": {
   "application/vnd.jupyter.widget-state+json": {
    "state": {},
    "version_major": 2,
    "version_minor": 0
   }
  }
 },
 "nbformat": 4,
 "nbformat_minor": 5
}
