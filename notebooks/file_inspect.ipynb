{
 "cells": [
  {
   "cell_type": "markdown",
   "id": "504e14fa",
   "metadata": {},
   "source": [
    "# File Inspection (Experimental)\n",
    "\n",
    "**by Josh Dillon & Aaron Parsons**, last updated August 8, 2022"
   ]
  },
  {
   "cell_type": "code",
   "execution_count": null,
   "id": "668f7418",
   "metadata": {
    "ExecuteTime": {
     "end_time": "2022-08-08T19:44:38.539183Z",
     "start_time": "2022-08-08T19:44:38.528103Z"
    }
   },
   "outputs": [],
   "source": [
    "import numpy as np\n",
    "import os\n",
    "from hera_qm import ant_metrics, ant_class\n",
    "from hera_cal import io, utils\n",
    "from IPython.display import display, HTML\n",
    "display(HTML(\"<style>.container { width:100% !important; }</style>\"))"
   ]
  },
  {
   "cell_type": "markdown",
   "id": "ab0f8167",
   "metadata": {},
   "source": [
    "## Parse inputs\n",
    "\n",
    "To use this notebook interactively, you will have to provide a sum filename path if none exists as an environment variable. All other parameters have reasonable default values.\n"
   ]
  },
  {
   "cell_type": "code",
   "execution_count": null,
   "id": "4b88cc02",
   "metadata": {
    "ExecuteTime": {
     "end_time": "2022-08-08T19:45:12.866506Z",
     "start_time": "2022-08-08T19:45:12.853701Z"
    }
   },
   "outputs": [],
   "source": [
    "# get file names\n",
    "SUM_FILE = os.environ.get(\"SUM_FILE\", None)\n",
    "# SUM_FILE = '/mnt/sn1/zen.2459797.30001.sum.uvh5'  # If sum_file is not defined in the environment variables, define it here.\n",
    "DIFF_FILE = SUM_FILE.replace('sum', 'diff')\n",
    "print(f\"SUM_FILE = '{SUM_FILE}'\")"
   ]
  },
  {
   "cell_type": "markdown",
   "id": "5596c041",
   "metadata": {},
   "source": [
    "### Parse Bounds"
   ]
  },
  {
   "cell_type": "code",
   "execution_count": null,
   "id": "9ebbfd85",
   "metadata": {
    "ExecuteTime": {
     "end_time": "2022-08-08T19:47:02.245642Z",
     "start_time": "2022-08-08T19:47:02.224052Z"
    }
   },
   "outputs": [],
   "source": [
    "# ant_metrics bounds for low correlation / dead antennas\n",
    "AM_CORR_BAD = float(os.environ.get(\"AM_CORR_BAD\", 0.2))\n",
    "AM_CORR_SUSPECT = float(os.environ.get(\"AM_CORR_SUSPECT\", 0.4))\n",
    "am_corr_bad = (0, AM_CORR_BAD)\n",
    "am_corr_suspect = (AM_CORR_BAD, AM_CORR_SUSPECT)\n",
    "\n",
    "# ant_metrics bounds for cross-polarized antennas\n",
    "AM_XPOL_BAD = float(os.environ.get(\"AM_XPOL_BAD\", -0.1))\n",
    "AM_XPOL_SUSPECT = float(os.environ.get(\"AM_XPOL_SUSPECT\", 0))\n",
    "am_xpol_bad = (-1, AM_XPOL_BAD)\n",
    "am_xpol_suspect = (AM_XPOL_BAD, AM_XPOL_SUSPECT)\n",
    "\n",
    "# bounds on autocorrelation power\n",
    "AUTO_POWER_GOOD_LOW = float(os.environ.get(\"AUTO_POWER_GOOD_LOW\", 5))\n",
    "AUTO_POWER_GOOD_HIGH = float(os.environ.get(\"AUTO_POWER_GOOD_HIGH\", 30))\n",
    "auto_power_good = (AUTO_POWER_GOOD_LOW, AUTO_POWER_GOOD_HIGH)\n",
    "AUTO_POWER_SUSPECT_LOW = float(os.environ.get(\"AUTO_POWER_SUSPECT_LOW\", 1))\n",
    "AUTO_POWER_SUSPECT_HIGH = float(os.environ.get(\"AUTO_POWER_SUSPECT_HIGH\", 80))\n",
    "auto_power_suspect = (AUTO_POWER_SUSPECT_LOW, AUTO_POWER_SUSPECT_HIGH)\n",
    "\n",
    "# bounds on autocorrelation slope\n",
    "AUTO_SLOPE_GOOD_LOW = float(os.environ.get(\"AUTO_SLOPE_GOOD_LOW\", -0.2))\n",
    "AUTO_SLOPE_GOOD_HIGH = float(os.environ.get(\"AUTO_SLOPE_GOOD_HIGH\", 0.2))\n",
    "auto_slope_good = (AUTO_SLOPE_GOOD_LOW, AUTO_SLOPE_GOOD_HIGH)\n",
    "AUTO_SLOPE_SUSPECT_LOW = float(os.environ.get(\"AUTO_SLOPE_SUSPECT_LOW\", -0.4))\n",
    "AUTO_SLOPE_SUSPECT_HIGH = float(os.environ.get(\"AUTO_SLOPE_SUSPECT_HIGH\", 0.4))\n",
    "auto_slope_suspect = (AUTO_SLOPE_SUSPECT_LOW, AUTO_SLOPE_SUSPECT_HIGH)\n",
    "\n",
    "for bound in ['am_corr_bad', 'am_corr_suspect', 'am_xpol_bad', 'am_xpol_suspect', \n",
    "             'auto_power_good', 'auto_power_suspect', 'auto_slope_good', 'auto_slope_suspect']:\n",
    "    print(f'{bound} = {eval(bound)}')"
   ]
  },
  {
   "cell_type": "markdown",
   "id": "105dc915",
   "metadata": {},
   "source": [
    "## Load sum and diff data"
   ]
  },
  {
   "cell_type": "code",
   "execution_count": null,
   "id": "e5d3725b",
   "metadata": {
    "ExecuteTime": {
     "end_time": "2022-08-08T18:00:29.144034Z",
     "start_time": "2022-08-08T18:00:26.045578Z"
    }
   },
   "outputs": [],
   "source": [
    "hd = io.HERADataFastReader(SUM_FILE)\n",
    "data, _, _ = hd.read(read_flags=False, read_nsamples=False)\n",
    "hd_diff = io.HERADataFastReader(DIFF_FILE)\n",
    "diff_data, _, _ = hd_diff.read(read_flags=False, read_nsamples=False)"
   ]
  },
  {
   "cell_type": "code",
   "execution_count": null,
   "id": "61f26bc2",
   "metadata": {
    "ExecuteTime": {
     "end_time": "2022-08-08T18:00:29.170365Z",
     "start_time": "2022-08-08T18:00:29.145133Z"
    }
   },
   "outputs": [],
   "source": [
    "ants = sorted(set([ant for bl in hd.bls for ant in utils.split_bl(bl)]))\n",
    "auto_bls = [bl for bl in data if (bl[0] == bl[1]) and (utils.split_pol(bl[2])[0] == utils.split_pol(bl[2])[1])]"
   ]
  },
  {
   "cell_type": "code",
   "execution_count": null,
   "id": "e945a0ec",
   "metadata": {
    "ExecuteTime": {
     "end_time": "2022-08-08T19:55:27.745442Z",
     "start_time": "2022-08-08T19:55:27.735910Z"
    },
    "scrolled": true
   },
   "outputs": [],
   "source": [
    "print(f'File: {SUM_FILE}')\n",
    "print(f'JDs: {hd.times} ({np.median(np.diff(hd.times)) * 24 * 3600:.5f} s integrations)')\n",
    "print(f'LSTS: {hd.lsts * 12 / np.pi } hours')\n",
    "print(f'Frequencies: {len(hd.freqs)} {np.median(np.diff(hd.freqs)) / 1e6:.5f} MHz channels from {hd.freqs[0] / 1e6:.5f} to {hd.freqs[-1] / 1e6:.5f} MHz')\n",
    "print(f'Antennas: {len(hd.data_ants)}')\n",
    "print(f'Polarizations: {hd.pols}')"
   ]
  },
  {
   "cell_type": "markdown",
   "id": "f0450fb4",
   "metadata": {},
   "source": [
    "## Run `ant_metrics`"
   ]
  },
  {
   "cell_type": "code",
   "execution_count": null,
   "id": "4bbb0ac4",
   "metadata": {
    "ExecuteTime": {
     "end_time": "2022-08-08T19:55:44.190609Z",
     "start_time": "2022-08-08T19:55:37.646653Z"
    }
   },
   "outputs": [],
   "source": [
    "am = ant_metrics.AntennaMetrics(SUM_FILE, DIFF_FILE, sum_data=data, diff_data=diff_data)\n",
    "am.iterative_antenna_metrics_and_flagging(crossCut=am_xpol_bad[1], deadCut=am_corr_bad[1])"
   ]
  },
  {
   "cell_type": "code",
   "execution_count": null,
   "id": "d8e52c30",
   "metadata": {
    "ExecuteTime": {
     "end_time": "2022-08-08T19:55:44.200663Z",
     "start_time": "2022-08-08T19:55:44.192150Z"
    },
    "code_folding": []
   },
   "outputs": [],
   "source": [
    "totally_dead_ants = [ant for ant, i in am.removal_iteration.items() if i == -1]\n",
    "am_totally_dead = ant_class.AntennaClassification(good=[ant for ant in ants if ant not in totally_dead_ants], bad=totally_dead_ants)\n",
    "am_corr = ant_class.antenna_bounds_checker(am.final_metrics['corr'], bad=[am_corr_bad], suspect=[am_corr_suspect], good=[(0, 1)])\n",
    "am_xpol = ant_class.antenna_bounds_checker(am.final_metrics['corrXPol'], bad=[am_xpol_bad], suspect=[am_xpol_suspect], good=[(-1, 1)])\n",
    "ant_metrics_class = am_totally_dead + am_corr + am_xpol\n",
    "print('ant_metrics Classification:\\n\\n', ant_metrics_class)"
   ]
  },
  {
   "cell_type": "markdown",
   "id": "102587ce",
   "metadata": {},
   "source": [
    "## Examine and classify autocorrelations"
   ]
  },
  {
   "cell_type": "code",
   "execution_count": null,
   "id": "ae2e2234",
   "metadata": {
    "ExecuteTime": {
     "end_time": "2022-08-08T19:55:44.388506Z",
     "start_time": "2022-08-08T19:55:44.202111Z"
    }
   },
   "outputs": [],
   "source": [
    "auto_power_class = ant_class.auto_power_checker(data, good=auto_power_good, suspect=auto_power_suspect)\n",
    "auto_slope_class = ant_class.auto_slope_checker(data, good=auto_slope_good, suspect=auto_slope_suspect, edge_cut=100, filt_size=17)\n",
    "auto_class = auto_power_class + auto_slope_class\n",
    "print('Autocorrelation Classification:\\n\\n', auto_class)"
   ]
  },
  {
   "cell_type": "markdown",
   "id": "f52a30f9",
   "metadata": {},
   "source": [
    "## Metadata"
   ]
  },
  {
   "cell_type": "code",
   "execution_count": null,
   "id": "78d18d26",
   "metadata": {
    "ExecuteTime": {
     "end_time": "2022-08-08T19:55:44.392152Z",
     "start_time": "2022-08-08T19:55:44.390236Z"
    }
   },
   "outputs": [],
   "source": [
    "from hera_cal import __version__\n",
    "print('hera_cal:', __version__)\n",
    "from hera_qm import __version__\n",
    "print('hera_qm:', __version__)"
   ]
  },
  {
   "cell_type": "code",
   "execution_count": null,
   "id": "581b70cd",
   "metadata": {},
   "outputs": [],
   "source": []
  }
 ],
 "metadata": {
  "kernelspec": {
   "display_name": "Python 3 (ipykernel)",
   "language": "python",
   "name": "python3"
  },
  "language_info": {
   "codemirror_mode": {
    "name": "ipython",
    "version": 3
   },
   "file_extension": ".py",
   "mimetype": "text/x-python",
   "name": "python",
   "nbconvert_exporter": "python",
   "pygments_lexer": "ipython3",
   "version": "3.10.5"
  },
  "toc": {
   "base_numbering": 1,
   "nav_menu": {},
   "number_sections": true,
   "sideBar": true,
   "skip_h1_title": true,
   "title_cell": "Table of Contents",
   "title_sidebar": "Contents",
   "toc_cell": false,
   "toc_position": {
    "height": "calc(100% - 180px)",
    "left": "10px",
    "top": "150px",
    "width": "248.391px"
   },
   "toc_section_display": true,
   "toc_window_display": false
  }
 },
 "nbformat": 4,
 "nbformat_minor": 5
}
